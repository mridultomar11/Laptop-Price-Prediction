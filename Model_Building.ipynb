{
 "cells": [
  {
   "cell_type": "code",
   "execution_count": 1,
   "id": "370b6905",
   "metadata": {},
   "outputs": [],
   "source": [
    "import numpy as np\n",
    "import pandas as pd\n",
    "import matplotlib.pyplot as plt\n",
    "import seaborn as sns"
   ]
  },
  {
   "cell_type": "code",
   "execution_count": 2,
   "id": "fb18fe55",
   "metadata": {},
   "outputs": [
    {
     "data": {
      "text/html": [
       "<div>\n",
       "<style scoped>\n",
       "    .dataframe tbody tr th:only-of-type {\n",
       "        vertical-align: middle;\n",
       "    }\n",
       "\n",
       "    .dataframe tbody tr th {\n",
       "        vertical-align: top;\n",
       "    }\n",
       "\n",
       "    .dataframe thead th {\n",
       "        text-align: right;\n",
       "    }\n",
       "</style>\n",
       "<table border=\"1\" class=\"dataframe\">\n",
       "  <thead>\n",
       "    <tr style=\"text-align: right;\">\n",
       "      <th></th>\n",
       "      <th>Unnamed: 0</th>\n",
       "      <th>Title</th>\n",
       "      <th>Rating</th>\n",
       "      <th>Price</th>\n",
       "      <th>Processor</th>\n",
       "      <th>RAM</th>\n",
       "      <th>Display Size</th>\n",
       "      <th>Storage Capacity</th>\n",
       "      <th>Brand</th>\n",
       "      <th>SSD_Capacity</th>\n",
       "      <th>Ram</th>\n",
       "      <th>Ram_Type</th>\n",
       "      <th>Display_Size</th>\n",
       "      <th>EMMC_Storage(in_GB)</th>\n",
       "      <th>HDD_Storage(in_GB)</th>\n",
       "    </tr>\n",
       "  </thead>\n",
       "  <tbody>\n",
       "    <tr>\n",
       "      <th>0</th>\n",
       "      <td>0</td>\n",
       "      <td>Lenovo Intel Celeron Dual Core - (8 GB/256 GB ...</td>\n",
       "      <td>4.1</td>\n",
       "      <td>25685.0</td>\n",
       "      <td>Intel Celeron Dual Core Processor</td>\n",
       "      <td>8 GB DDR4 RAM</td>\n",
       "      <td>39.62 cm (15.6 Inch) Display</td>\n",
       "      <td>256 GB SSD</td>\n",
       "      <td>LENOVO</td>\n",
       "      <td>256.0</td>\n",
       "      <td>8.0</td>\n",
       "      <td>DDR4</td>\n",
       "      <td>39.62</td>\n",
       "      <td>0.0</td>\n",
       "      <td>0.0</td>\n",
       "    </tr>\n",
       "    <tr>\n",
       "      <th>1</th>\n",
       "      <td>1</td>\n",
       "      <td>ASUS TUF Gaming F15 Core i5 10th Gen - (8 GB/5...</td>\n",
       "      <td>4.4</td>\n",
       "      <td>51990.0</td>\n",
       "      <td>Intel Core i5 Processor (10th Gen)</td>\n",
       "      <td>8 GB DDR4 RAM</td>\n",
       "      <td>39.62 cm (15.6 inch) Display</td>\n",
       "      <td>512 GB SSD</td>\n",
       "      <td>ASUS</td>\n",
       "      <td>512.0</td>\n",
       "      <td>8.0</td>\n",
       "      <td>DDR4</td>\n",
       "      <td>39.62</td>\n",
       "      <td>0.0</td>\n",
       "      <td>0.0</td>\n",
       "    </tr>\n",
       "    <tr>\n",
       "      <th>2</th>\n",
       "      <td>2</td>\n",
       "      <td>ASUS Vivobook 15 Core i3 11th Gen - (8 GB/512 ...</td>\n",
       "      <td>4.2</td>\n",
       "      <td>38990.0</td>\n",
       "      <td>Intel Core i3 Processor (11th Gen)</td>\n",
       "      <td>8 GB DDR4 RAM</td>\n",
       "      <td>39.62 cm (15.6 Inch) Display</td>\n",
       "      <td>512 GB SSD</td>\n",
       "      <td>ASUS</td>\n",
       "      <td>512.0</td>\n",
       "      <td>8.0</td>\n",
       "      <td>DDR4</td>\n",
       "      <td>39.62</td>\n",
       "      <td>0.0</td>\n",
       "      <td>0.0</td>\n",
       "    </tr>\n",
       "    <tr>\n",
       "      <th>3</th>\n",
       "      <td>3</td>\n",
       "      <td>ASUS VivoBook 14 (2021) Celeron Dual Core - (4...</td>\n",
       "      <td>4.1</td>\n",
       "      <td>23990.0</td>\n",
       "      <td>Intel Celeron Dual Core Processor</td>\n",
       "      <td>4 GB DDR4 RAM</td>\n",
       "      <td>35.56 cm (14 inch) Display</td>\n",
       "      <td>256 GB SSD</td>\n",
       "      <td>ASUS</td>\n",
       "      <td>256.0</td>\n",
       "      <td>4.0</td>\n",
       "      <td>DDR4</td>\n",
       "      <td>35.56</td>\n",
       "      <td>0.0</td>\n",
       "      <td>0.0</td>\n",
       "    </tr>\n",
       "    <tr>\n",
       "      <th>4</th>\n",
       "      <td>4</td>\n",
       "      <td>RedmiBook Pro Core i5 11th Gen - (8 GB/512 GB ...</td>\n",
       "      <td>4.1</td>\n",
       "      <td>39990.0</td>\n",
       "      <td>Intel Core i5 Processor (11th Gen)</td>\n",
       "      <td>8 GB DDR4 RAM</td>\n",
       "      <td>39.62 cm (15.6 inch) Display</td>\n",
       "      <td>512 GB SSD</td>\n",
       "      <td>MI</td>\n",
       "      <td>512.0</td>\n",
       "      <td>8.0</td>\n",
       "      <td>DDR4</td>\n",
       "      <td>39.62</td>\n",
       "      <td>0.0</td>\n",
       "      <td>0.0</td>\n",
       "    </tr>\n",
       "  </tbody>\n",
       "</table>\n",
       "</div>"
      ],
      "text/plain": [
       "   Unnamed: 0                                              Title  Rating  \\\n",
       "0           0  Lenovo Intel Celeron Dual Core - (8 GB/256 GB ...     4.1   \n",
       "1           1  ASUS TUF Gaming F15 Core i5 10th Gen - (8 GB/5...     4.4   \n",
       "2           2  ASUS Vivobook 15 Core i3 11th Gen - (8 GB/512 ...     4.2   \n",
       "3           3  ASUS VivoBook 14 (2021) Celeron Dual Core - (4...     4.1   \n",
       "4           4  RedmiBook Pro Core i5 11th Gen - (8 GB/512 GB ...     4.1   \n",
       "\n",
       "     Price                           Processor            RAM  \\\n",
       "0  25685.0   Intel Celeron Dual Core Processor  8 GB DDR4 RAM   \n",
       "1  51990.0  Intel Core i5 Processor (10th Gen)  8 GB DDR4 RAM   \n",
       "2  38990.0  Intel Core i3 Processor (11th Gen)  8 GB DDR4 RAM   \n",
       "3  23990.0   Intel Celeron Dual Core Processor  4 GB DDR4 RAM   \n",
       "4  39990.0  Intel Core i5 Processor (11th Gen)  8 GB DDR4 RAM   \n",
       "\n",
       "                   Display Size Storage Capacity   Brand  SSD_Capacity  Ram  \\\n",
       "0  39.62 cm (15.6 Inch) Display       256 GB SSD  LENOVO         256.0  8.0   \n",
       "1  39.62 cm (15.6 inch) Display       512 GB SSD    ASUS         512.0  8.0   \n",
       "2  39.62 cm (15.6 Inch) Display       512 GB SSD    ASUS         512.0  8.0   \n",
       "3    35.56 cm (14 inch) Display       256 GB SSD    ASUS         256.0  4.0   \n",
       "4  39.62 cm (15.6 inch) Display       512 GB SSD      MI         512.0  8.0   \n",
       "\n",
       "  Ram_Type  Display_Size  EMMC_Storage(in_GB)  HDD_Storage(in_GB)  \n",
       "0     DDR4         39.62                  0.0                 0.0  \n",
       "1     DDR4         39.62                  0.0                 0.0  \n",
       "2     DDR4         39.62                  0.0                 0.0  \n",
       "3     DDR4         35.56                  0.0                 0.0  \n",
       "4     DDR4         39.62                  0.0                 0.0  "
      ]
     },
     "execution_count": 2,
     "metadata": {},
     "output_type": "execute_result"
    }
   ],
   "source": [
    "df=pd.read_csv('file4.csv')\n",
    "df.head()"
   ]
  },
  {
   "cell_type": "code",
   "execution_count": 3,
   "id": "73bec1b4",
   "metadata": {},
   "outputs": [
    {
     "name": "stderr",
     "output_type": "stream",
     "text": [
      "/var/folders/cb/z93qyqln7w38w_7mqz8z10c40000gn/T/ipykernel_6869/3462665596.py:4: FutureWarning: Passing a negative integer is deprecated in version 1.0 and will not be supported in future version. Instead, use None to not limit the column width.\n",
      "  pd.set_option('display.max_colwidth', -1)\n"
     ]
    }
   ],
   "source": [
    "pd.set_option('display.max_rows', None)\n",
    "pd.set_option('display.max_columns', None)\n",
    "pd.set_option('display.width', None)\n",
    "pd.set_option('display.max_colwidth', -1)"
   ]
  },
  {
   "cell_type": "code",
   "execution_count": 4,
   "id": "5938f5ce",
   "metadata": {},
   "outputs": [
    {
     "data": {
      "text/plain": [
       "(817, 15)"
      ]
     },
     "execution_count": 4,
     "metadata": {},
     "output_type": "execute_result"
    }
   ],
   "source": [
    "df.shape"
   ]
  },
  {
   "cell_type": "code",
   "execution_count": 5,
   "id": "c16732a7",
   "metadata": {},
   "outputs": [
    {
     "data": {
      "text/plain": [
       "Index(['Unnamed: 0', 'Title', 'Rating', 'Price', 'Processor', 'RAM',\n",
       "       'Display Size', 'Storage Capacity', 'Brand', 'SSD_Capacity', 'Ram',\n",
       "       'Ram_Type', 'Display_Size', 'EMMC_Storage(in_GB)',\n",
       "       'HDD_Storage(in_GB)'],\n",
       "      dtype='object')"
      ]
     },
     "execution_count": 5,
     "metadata": {},
     "output_type": "execute_result"
    }
   ],
   "source": [
    "df.columns"
   ]
  },
  {
   "cell_type": "code",
   "execution_count": 6,
   "id": "274c9f16",
   "metadata": {},
   "outputs": [
    {
     "data": {
      "text/html": [
       "<div>\n",
       "<style scoped>\n",
       "    .dataframe tbody tr th:only-of-type {\n",
       "        vertical-align: middle;\n",
       "    }\n",
       "\n",
       "    .dataframe tbody tr th {\n",
       "        vertical-align: top;\n",
       "    }\n",
       "\n",
       "    .dataframe thead th {\n",
       "        text-align: right;\n",
       "    }\n",
       "</style>\n",
       "<table border=\"1\" class=\"dataframe\">\n",
       "  <thead>\n",
       "    <tr style=\"text-align: right;\">\n",
       "      <th></th>\n",
       "      <th>Rating</th>\n",
       "      <th>Price</th>\n",
       "      <th>Processor</th>\n",
       "      <th>Brand</th>\n",
       "      <th>SSD_Capacity</th>\n",
       "      <th>Ram</th>\n",
       "      <th>Ram_Type</th>\n",
       "      <th>Display_Size</th>\n",
       "      <th>EMMC_Storage(in_GB)</th>\n",
       "      <th>HDD_Storage(in_GB)</th>\n",
       "    </tr>\n",
       "  </thead>\n",
       "  <tbody>\n",
       "    <tr>\n",
       "      <th>0</th>\n",
       "      <td>4.1</td>\n",
       "      <td>25685.0</td>\n",
       "      <td>Intel Celeron Dual Core Processor</td>\n",
       "      <td>LENOVO</td>\n",
       "      <td>256.0</td>\n",
       "      <td>8.0</td>\n",
       "      <td>DDR4</td>\n",
       "      <td>39.62</td>\n",
       "      <td>0.0</td>\n",
       "      <td>0.0</td>\n",
       "    </tr>\n",
       "    <tr>\n",
       "      <th>1</th>\n",
       "      <td>4.4</td>\n",
       "      <td>51990.0</td>\n",
       "      <td>Intel Core i5 Processor (10th Gen)</td>\n",
       "      <td>ASUS</td>\n",
       "      <td>512.0</td>\n",
       "      <td>8.0</td>\n",
       "      <td>DDR4</td>\n",
       "      <td>39.62</td>\n",
       "      <td>0.0</td>\n",
       "      <td>0.0</td>\n",
       "    </tr>\n",
       "    <tr>\n",
       "      <th>2</th>\n",
       "      <td>4.2</td>\n",
       "      <td>38990.0</td>\n",
       "      <td>Intel Core i3 Processor (11th Gen)</td>\n",
       "      <td>ASUS</td>\n",
       "      <td>512.0</td>\n",
       "      <td>8.0</td>\n",
       "      <td>DDR4</td>\n",
       "      <td>39.62</td>\n",
       "      <td>0.0</td>\n",
       "      <td>0.0</td>\n",
       "    </tr>\n",
       "    <tr>\n",
       "      <th>3</th>\n",
       "      <td>4.1</td>\n",
       "      <td>23990.0</td>\n",
       "      <td>Intel Celeron Dual Core Processor</td>\n",
       "      <td>ASUS</td>\n",
       "      <td>256.0</td>\n",
       "      <td>4.0</td>\n",
       "      <td>DDR4</td>\n",
       "      <td>35.56</td>\n",
       "      <td>0.0</td>\n",
       "      <td>0.0</td>\n",
       "    </tr>\n",
       "    <tr>\n",
       "      <th>4</th>\n",
       "      <td>4.1</td>\n",
       "      <td>39990.0</td>\n",
       "      <td>Intel Core i5 Processor (11th Gen)</td>\n",
       "      <td>MI</td>\n",
       "      <td>512.0</td>\n",
       "      <td>8.0</td>\n",
       "      <td>DDR4</td>\n",
       "      <td>39.62</td>\n",
       "      <td>0.0</td>\n",
       "      <td>0.0</td>\n",
       "    </tr>\n",
       "  </tbody>\n",
       "</table>\n",
       "</div>"
      ],
      "text/plain": [
       "   Rating    Price                           Processor   Brand  SSD_Capacity  \\\n",
       "0  4.1     25685.0  Intel Celeron Dual Core Processor   LENOVO  256.0          \n",
       "1  4.4     51990.0  Intel Core i5 Processor (10th Gen)  ASUS    512.0          \n",
       "2  4.2     38990.0  Intel Core i3 Processor (11th Gen)  ASUS    512.0          \n",
       "3  4.1     23990.0  Intel Celeron Dual Core Processor   ASUS    256.0          \n",
       "4  4.1     39990.0  Intel Core i5 Processor (11th Gen)  MI      512.0          \n",
       "\n",
       "   Ram Ram_Type  Display_Size  EMMC_Storage(in_GB)  HDD_Storage(in_GB)  \n",
       "0  8.0  DDR4     39.62         0.0                  0.0                 \n",
       "1  8.0  DDR4     39.62         0.0                  0.0                 \n",
       "2  8.0  DDR4     39.62         0.0                  0.0                 \n",
       "3  4.0  DDR4     35.56         0.0                  0.0                 \n",
       "4  8.0  DDR4     39.62         0.0                  0.0                 "
      ]
     },
     "execution_count": 6,
     "metadata": {},
     "output_type": "execute_result"
    }
   ],
   "source": [
    "df.drop(['Unnamed: 0','Display Size','RAM','Title','Storage Capacity'],axis=1,inplace=True)\n",
    "df.head()"
   ]
  },
  {
   "cell_type": "code",
   "execution_count": 7,
   "id": "c60e888a",
   "metadata": {},
   "outputs": [],
   "source": [
    "indices_to_drop = [814, 815, 816]  # List of row indices to drop\n",
    "df = df.drop(indices_to_drop)"
   ]
  },
  {
   "cell_type": "code",
   "execution_count": 8,
   "id": "dee869c7",
   "metadata": {},
   "outputs": [
    {
     "data": {
      "text/plain": [
       "Rating                 287\n",
       "Price                  0  \n",
       "Processor              0  \n",
       "Brand                  0  \n",
       "SSD_Capacity           0  \n",
       "Ram                    0  \n",
       "Ram_Type               1  \n",
       "Display_Size           0  \n",
       "EMMC_Storage(in_GB)    0  \n",
       "HDD_Storage(in_GB)     0  \n",
       "dtype: int64"
      ]
     },
     "execution_count": 8,
     "metadata": {},
     "output_type": "execute_result"
    }
   ],
   "source": [
    "df.isnull().sum()"
   ]
  },
  {
   "cell_type": "code",
   "execution_count": 9,
   "id": "b57ccd1c",
   "metadata": {},
   "outputs": [],
   "source": [
    "fill_value = 0  # Specify the value you want to fill nulls with\n",
    "df['Rating'] = df['Rating'].fillna(fill_value)"
   ]
  },
  {
   "cell_type": "code",
   "execution_count": 10,
   "id": "806f207b",
   "metadata": {
    "scrolled": false
   },
   "outputs": [],
   "source": [
    "df=df.dropna()"
   ]
  },
  {
   "cell_type": "code",
   "execution_count": 11,
   "id": "d6f2f8a2",
   "metadata": {},
   "outputs": [],
   "source": [
    "df.to_csv('final.csv')"
   ]
  },
  {
   "cell_type": "markdown",
   "id": "bd7c0b72",
   "metadata": {},
   "source": [
    "### Writing a Function to evaluate the trained Model "
   ]
  },
  {
   "cell_type": "code",
   "execution_count": 12,
   "id": "0cb96bac",
   "metadata": {},
   "outputs": [],
   "source": [
    "def eval_model(y_test,x_test,model):\n",
    "    from sklearn.metrics import mean_absolute_error, mean_squared_error, r2_score\n",
    "    y_pred = model.predict(x_test)\n",
    "    mae = mean_absolute_error(y_test,y_pred)\n",
    "    mse = mean_squared_error(y_test,y_pred)\n",
    "    rmse = np.sqrt(mse)\n",
    "    r2s = r2_score(y_test,y_pred)\n",
    "    print('MAE',mae)\n",
    "    print('MSE',mse)\n",
    "    print('RMSE',rmse)\n",
    "    print('R2_Score',r2s)"
   ]
  },
  {
   "cell_type": "markdown",
   "id": "064d4d8d",
   "metadata": {},
   "source": [
    "### Checking the normality of target variable"
   ]
  },
  {
   "cell_type": "code",
   "execution_count": 13,
   "id": "cb940716",
   "metadata": {},
   "outputs": [
    {
     "name": "stderr",
     "output_type": "stream",
     "text": [
      "/Users/mridultomar/opt/anaconda3/lib/python3.9/site-packages/seaborn/distributions.py:2619: FutureWarning: `distplot` is a deprecated function and will be removed in a future version. Please adapt your code to use either `displot` (a figure-level function with similar flexibility) or `histplot` (an axes-level function for histograms).\n",
      "  warnings.warn(msg, FutureWarning)\n"
     ]
    },
    {
     "data": {
      "image/png": "[encoded data removed]",
      "text/plain": [
       "<Figure size 640x480 with 1 Axes>"
      ]
     },
     "metadata": {},
     "output_type": "display_data"
    }
   ],
   "source": [
    "sns.distplot(df['Price'])\n",
    "plt.savefig('Not_Normal_Dist.png', format='png')\n",
    "plt.show()"
   ]
  },
  {
   "cell_type": "markdown",
   "id": "cf6fb5a3",
   "metadata": {},
   "source": [
    "#### As data is not normally distributed we can use the following method to make it normal\n",
    "1) log transformation (We will use this method)<br> \n",
    "2) sqr, sqrt, cube<br>\n",
    "3) box-cox Transformation<br>"
   ]
  },
  {
   "cell_type": "code",
   "execution_count": 14,
   "id": "10872005",
   "metadata": {},
   "outputs": [
    {
     "name": "stderr",
     "output_type": "stream",
     "text": [
      "/Users/mridultomar/opt/anaconda3/lib/python3.9/site-packages/seaborn/distributions.py:2619: FutureWarning: `distplot` is a deprecated function and will be removed in a future version. Please adapt your code to use either `displot` (a figure-level function with similar flexibility) or `histplot` (an axes-level function for histograms).\n",
      "  warnings.warn(msg, FutureWarning)\n"
     ]
    },
    {
     "data": {
      "image/png": "[encoded data removed]",
      "text/plain": [
       "<Figure size 640x480 with 1 Axes>"
      ]
     },
     "metadata": {},
     "output_type": "display_data"
    }
   ],
   "source": [
    "sns.distplot(np.log(df['Price']))\n",
    "plt.savefig('Normal_Dist.png', format='png')\n",
    "plt.show()"
   ]
  },
  {
   "cell_type": "markdown",
   "id": "9d2c98c4",
   "metadata": {},
   "source": [
    "## EDA"
   ]
  },
  {
   "cell_type": "markdown",
   "id": "3366b92a",
   "metadata": {},
   "source": [
    "#### Almost most part of the EDA have been executed through PowerBI "
   ]
  },
  {
   "cell_type": "code",
   "execution_count": 15,
   "id": "e142a458",
   "metadata": {},
   "outputs": [
    {
     "data": {
      "image/png": "[encoded data removed]",
      "text/plain": [
       "<Figure size 1750x1750 with 56 Axes>"
      ]
     },
     "metadata": {},
     "output_type": "display_data"
    }
   ],
   "source": [
    "sns.pairplot(data=df)\n",
    "plt.savefig('Pairplot.png', format='png')\n",
    "plt.show()"
   ]
  },
  {
   "cell_type": "code",
   "execution_count": 16,
   "id": "4049c404",
   "metadata": {},
   "outputs": [],
   "source": [
    "corr = df.corr()"
   ]
  },
  {
   "cell_type": "code",
   "execution_count": 17,
   "id": "febc7632",
   "metadata": {},
   "outputs": [
    {
     "data": {
      "image/png": "[encoded data removed]",
      "text/plain": [
       "<Figure size 2500x2500 with 2 Axes>"
      ]
     },
     "metadata": {},
     "output_type": "display_data"
    }
   ],
   "source": [
    "plt.figure(figsize=(25,25))\n",
    "sns.heatmap(corr,annot=True,cmap='coolwarm')\n",
    "plt.savefig('Correltaion.png', format='png')\n",
    "plt.show()"
   ]
  },
  {
   "cell_type": "code",
   "execution_count": 18,
   "id": "778a6922",
   "metadata": {},
   "outputs": [
    {
     "data": {
      "text/html": [
       "<div>\n",
       "<style scoped>\n",
       "    .dataframe tbody tr th:only-of-type {\n",
       "        vertical-align: middle;\n",
       "    }\n",
       "\n",
       "    .dataframe tbody tr th {\n",
       "        vertical-align: top;\n",
       "    }\n",
       "\n",
       "    .dataframe thead th {\n",
       "        text-align: right;\n",
       "    }\n",
       "</style>\n",
       "<table border=\"1\" class=\"dataframe\">\n",
       "  <thead>\n",
       "    <tr style=\"text-align: right;\">\n",
       "      <th></th>\n",
       "      <th>count</th>\n",
       "      <th>mean</th>\n",
       "      <th>std</th>\n",
       "      <th>min</th>\n",
       "      <th>1%</th>\n",
       "      <th>2%</th>\n",
       "      <th>3%</th>\n",
       "      <th>5%</th>\n",
       "      <th>50%</th>\n",
       "      <th>max</th>\n",
       "    </tr>\n",
       "  </thead>\n",
       "  <tbody>\n",
       "    <tr>\n",
       "      <th>Rating</th>\n",
       "      <td>813.0</td>\n",
       "      <td>2.754982</td>\n",
       "      <td>2.062870</td>\n",
       "      <td>0.00</td>\n",
       "      <td>0.00</td>\n",
       "      <td>0.00</td>\n",
       "      <td>0.00</td>\n",
       "      <td>0.00</td>\n",
       "      <td>4.00</td>\n",
       "      <td>5.00</td>\n",
       "    </tr>\n",
       "    <tr>\n",
       "      <th>Price</th>\n",
       "      <td>813.0</td>\n",
       "      <td>93532.238622</td>\n",
       "      <td>64453.823735</td>\n",
       "      <td>16100.00</td>\n",
       "      <td>22910.80</td>\n",
       "      <td>25990.00</td>\n",
       "      <td>28170.00</td>\n",
       "      <td>32293.40</td>\n",
       "      <td>72990.00</td>\n",
       "      <td>399990.00</td>\n",
       "    </tr>\n",
       "    <tr>\n",
       "      <th>SSD_Capacity</th>\n",
       "      <td>813.0</td>\n",
       "      <td>591.990160</td>\n",
       "      <td>350.600105</td>\n",
       "      <td>0.00</td>\n",
       "      <td>0.00</td>\n",
       "      <td>0.00</td>\n",
       "      <td>0.00</td>\n",
       "      <td>256.00</td>\n",
       "      <td>512.00</td>\n",
       "      <td>4096.00</td>\n",
       "    </tr>\n",
       "    <tr>\n",
       "      <th>Ram</th>\n",
       "      <td>813.0</td>\n",
       "      <td>12.595326</td>\n",
       "      <td>6.231955</td>\n",
       "      <td>4.00</td>\n",
       "      <td>4.00</td>\n",
       "      <td>4.00</td>\n",
       "      <td>4.00</td>\n",
       "      <td>8.00</td>\n",
       "      <td>8.00</td>\n",
       "      <td>32.00</td>\n",
       "    </tr>\n",
       "    <tr>\n",
       "      <th>Display_Size</th>\n",
       "      <td>813.0</td>\n",
       "      <td>38.241451</td>\n",
       "      <td>2.583673</td>\n",
       "      <td>29.46</td>\n",
       "      <td>33.78</td>\n",
       "      <td>33.78</td>\n",
       "      <td>33.78</td>\n",
       "      <td>33.78</td>\n",
       "      <td>39.62</td>\n",
       "      <td>45.72</td>\n",
       "    </tr>\n",
       "    <tr>\n",
       "      <th>EMMC_Storage(in_GB)</th>\n",
       "      <td>813.0</td>\n",
       "      <td>0.747847</td>\n",
       "      <td>6.789708</td>\n",
       "      <td>0.00</td>\n",
       "      <td>0.00</td>\n",
       "      <td>0.00</td>\n",
       "      <td>0.00</td>\n",
       "      <td>0.00</td>\n",
       "      <td>0.00</td>\n",
       "      <td>64.00</td>\n",
       "    </tr>\n",
       "    <tr>\n",
       "      <th>HDD_Storage(in_GB)</th>\n",
       "      <td>813.0</td>\n",
       "      <td>70.533825</td>\n",
       "      <td>263.194725</td>\n",
       "      <td>0.00</td>\n",
       "      <td>0.00</td>\n",
       "      <td>0.00</td>\n",
       "      <td>0.00</td>\n",
       "      <td>0.00</td>\n",
       "      <td>0.00</td>\n",
       "      <td>2048.00</td>\n",
       "    </tr>\n",
       "  </tbody>\n",
       "</table>\n",
       "</div>"
      ],
      "text/plain": [
       "                     count          mean           std       min        1%  \\\n",
       "Rating               813.0  2.754982      2.062870      0.00      0.00       \n",
       "Price                813.0  93532.238622  64453.823735  16100.00  22910.80   \n",
       "SSD_Capacity         813.0  591.990160    350.600105    0.00      0.00       \n",
       "Ram                  813.0  12.595326     6.231955      4.00      4.00       \n",
       "Display_Size         813.0  38.241451     2.583673      29.46     33.78      \n",
       "EMMC_Storage(in_GB)  813.0  0.747847      6.789708      0.00      0.00       \n",
       "HDD_Storage(in_GB)   813.0  70.533825     263.194725    0.00      0.00       \n",
       "\n",
       "                           2%        3%        5%       50%        max  \n",
       "Rating               0.00      0.00      0.00      4.00      5.00       \n",
       "Price                25990.00  28170.00  32293.40  72990.00  399990.00  \n",
       "SSD_Capacity         0.00      0.00      256.00    512.00    4096.00    \n",
       "Ram                  4.00      4.00      8.00      8.00      32.00      \n",
       "Display_Size         33.78     33.78     33.78     39.62     45.72      \n",
       "EMMC_Storage(in_GB)  0.00      0.00      0.00      0.00      64.00      \n",
       "HDD_Storage(in_GB)   0.00      0.00      0.00      0.00      2048.00    "
      ]
     },
     "execution_count": 18,
     "metadata": {},
     "output_type": "execute_result"
    }
   ],
   "source": [
    "df.describe(percentiles=[0.01,0.02,0.03,0.05]).T"
   ]
  },
  {
   "cell_type": "code",
   "execution_count": 19,
   "id": "e076add5",
   "metadata": {},
   "outputs": [
    {
     "data": {
      "text/html": [
       "<div>\n",
       "<style scoped>\n",
       "    .dataframe tbody tr th:only-of-type {\n",
       "        vertical-align: middle;\n",
       "    }\n",
       "\n",
       "    .dataframe tbody tr th {\n",
       "        vertical-align: top;\n",
       "    }\n",
       "\n",
       "    .dataframe thead th {\n",
       "        text-align: right;\n",
       "    }\n",
       "</style>\n",
       "<table border=\"1\" class=\"dataframe\">\n",
       "  <thead>\n",
       "    <tr style=\"text-align: right;\">\n",
       "      <th></th>\n",
       "      <th>count</th>\n",
       "      <th>mean</th>\n",
       "      <th>std</th>\n",
       "      <th>min</th>\n",
       "      <th>50%</th>\n",
       "      <th>90%</th>\n",
       "      <th>95%</th>\n",
       "      <th>97%</th>\n",
       "      <th>98%</th>\n",
       "      <th>99%</th>\n",
       "      <th>max</th>\n",
       "    </tr>\n",
       "  </thead>\n",
       "  <tbody>\n",
       "    <tr>\n",
       "      <th>Rating</th>\n",
       "      <td>813.0</td>\n",
       "      <td>2.754982</td>\n",
       "      <td>2.062870</td>\n",
       "      <td>0.00</td>\n",
       "      <td>4.00</td>\n",
       "      <td>4.60</td>\n",
       "      <td>4.80</td>\n",
       "      <td>4.80</td>\n",
       "      <td>5.00</td>\n",
       "      <td>5.00</td>\n",
       "      <td>5.00</td>\n",
       "    </tr>\n",
       "    <tr>\n",
       "      <th>Price</th>\n",
       "      <td>813.0</td>\n",
       "      <td>93532.238622</td>\n",
       "      <td>64453.823735</td>\n",
       "      <td>16100.00</td>\n",
       "      <td>72990.00</td>\n",
       "      <td>173990.00</td>\n",
       "      <td>239900.00</td>\n",
       "      <td>273830.00</td>\n",
       "      <td>299032.40</td>\n",
       "      <td>329979.20</td>\n",
       "      <td>399990.00</td>\n",
       "    </tr>\n",
       "    <tr>\n",
       "      <th>SSD_Capacity</th>\n",
       "      <td>813.0</td>\n",
       "      <td>591.990160</td>\n",
       "      <td>350.600105</td>\n",
       "      <td>0.00</td>\n",
       "      <td>512.00</td>\n",
       "      <td>1024.00</td>\n",
       "      <td>1024.00</td>\n",
       "      <td>1024.00</td>\n",
       "      <td>1024.00</td>\n",
       "      <td>2048.00</td>\n",
       "      <td>4096.00</td>\n",
       "    </tr>\n",
       "    <tr>\n",
       "      <th>Ram</th>\n",
       "      <td>813.0</td>\n",
       "      <td>12.595326</td>\n",
       "      <td>6.231955</td>\n",
       "      <td>4.00</td>\n",
       "      <td>8.00</td>\n",
       "      <td>16.00</td>\n",
       "      <td>32.00</td>\n",
       "      <td>32.00</td>\n",
       "      <td>32.00</td>\n",
       "      <td>32.00</td>\n",
       "      <td>32.00</td>\n",
       "    </tr>\n",
       "    <tr>\n",
       "      <th>Display_Size</th>\n",
       "      <td>813.0</td>\n",
       "      <td>38.241451</td>\n",
       "      <td>2.583673</td>\n",
       "      <td>29.46</td>\n",
       "      <td>39.62</td>\n",
       "      <td>40.64</td>\n",
       "      <td>40.89</td>\n",
       "      <td>41.15</td>\n",
       "      <td>43.94</td>\n",
       "      <td>43.94</td>\n",
       "      <td>45.72</td>\n",
       "    </tr>\n",
       "    <tr>\n",
       "      <th>EMMC_Storage(in_GB)</th>\n",
       "      <td>813.0</td>\n",
       "      <td>0.747847</td>\n",
       "      <td>6.789708</td>\n",
       "      <td>0.00</td>\n",
       "      <td>0.00</td>\n",
       "      <td>0.00</td>\n",
       "      <td>0.00</td>\n",
       "      <td>0.00</td>\n",
       "      <td>0.00</td>\n",
       "      <td>60.16</td>\n",
       "      <td>64.00</td>\n",
       "    </tr>\n",
       "    <tr>\n",
       "      <th>HDD_Storage(in_GB)</th>\n",
       "      <td>813.0</td>\n",
       "      <td>70.533825</td>\n",
       "      <td>263.194725</td>\n",
       "      <td>0.00</td>\n",
       "      <td>0.00</td>\n",
       "      <td>0.00</td>\n",
       "      <td>1024.00</td>\n",
       "      <td>1024.00</td>\n",
       "      <td>1024.00</td>\n",
       "      <td>1024.00</td>\n",
       "      <td>2048.00</td>\n",
       "    </tr>\n",
       "  </tbody>\n",
       "</table>\n",
       "</div>"
      ],
      "text/plain": [
       "                     count          mean           std       min       50%  \\\n",
       "Rating               813.0  2.754982      2.062870      0.00      4.00       \n",
       "Price                813.0  93532.238622  64453.823735  16100.00  72990.00   \n",
       "SSD_Capacity         813.0  591.990160    350.600105    0.00      512.00     \n",
       "Ram                  813.0  12.595326     6.231955      4.00      8.00       \n",
       "Display_Size         813.0  38.241451     2.583673      29.46     39.62      \n",
       "EMMC_Storage(in_GB)  813.0  0.747847      6.789708      0.00      0.00       \n",
       "HDD_Storage(in_GB)   813.0  70.533825     263.194725    0.00      0.00       \n",
       "\n",
       "                           90%        95%        97%        98%        99%  \\\n",
       "Rating               4.60       4.80       4.80       5.00       5.00        \n",
       "Price                173990.00  239900.00  273830.00  299032.40  329979.20   \n",
       "SSD_Capacity         1024.00    1024.00    1024.00    1024.00    2048.00     \n",
       "Ram                  16.00      32.00      32.00      32.00      32.00       \n",
       "Display_Size         40.64      40.89      41.15      43.94      43.94       \n",
       "EMMC_Storage(in_GB)  0.00       0.00       0.00       0.00       60.16       \n",
       "HDD_Storage(in_GB)   0.00       1024.00    1024.00    1024.00    1024.00     \n",
       "\n",
       "                           max  \n",
       "Rating               5.00       \n",
       "Price                399990.00  \n",
       "SSD_Capacity         4096.00    \n",
       "Ram                  32.00      \n",
       "Display_Size         45.72      \n",
       "EMMC_Storage(in_GB)  64.00      \n",
       "HDD_Storage(in_GB)   2048.00    "
      ]
     },
     "execution_count": 19,
     "metadata": {},
     "output_type": "execute_result"
    }
   ],
   "source": [
    "df.describe(percentiles=[0.90,0.95,0.97,0.98,0.99]).T"
   ]
  },
  {
   "cell_type": "code",
   "execution_count": 20,
   "id": "206fed6d",
   "metadata": {},
   "outputs": [],
   "source": [
    "def high_corr_feat(corr,thresh):\n",
    "    res = []\n",
    "    for i in range(len(corr.columns)):  # i = 0,1,2..,29\n",
    "        for j in range(i):              # i=1,j=0\n",
    "            if corr.iloc[i,j] >= thresh:\n",
    "                res.append(corr.columns[i])\n",
    "    res = list(set(res))\n",
    "    return res\n",
    "    "
   ]
  },
  {
   "cell_type": "code",
   "execution_count": 21,
   "id": "7a45bf6d",
   "metadata": {},
   "outputs": [
    {
     "name": "stdout",
     "output_type": "stream",
     "text": [
      "[]\n",
      "0\n"
     ]
    }
   ],
   "source": [
    "feat_to_drop = high_corr_feat(corr,0.8)\n",
    "print(feat_to_drop)\n",
    "print(len(feat_to_drop))"
   ]
  },
  {
   "cell_type": "code",
   "execution_count": 22,
   "id": "3ce43405",
   "metadata": {},
   "outputs": [
    {
     "data": {
      "text/plain": [
       "Rating                 float64\n",
       "Price                  float64\n",
       "Processor              object \n",
       "Brand                  object \n",
       "SSD_Capacity           float64\n",
       "Ram                    float64\n",
       "Ram_Type               object \n",
       "Display_Size           float64\n",
       "EMMC_Storage(in_GB)    float64\n",
       "HDD_Storage(in_GB)     float64\n",
       "dtype: object"
      ]
     },
     "execution_count": 22,
     "metadata": {},
     "output_type": "execute_result"
    }
   ],
   "source": [
    "df.dtypes"
   ]
  },
  {
   "cell_type": "code",
   "execution_count": 23,
   "id": "ed91c470",
   "metadata": {},
   "outputs": [
    {
     "name": "stdout",
     "output_type": "stream",
     "text": [
      "Index(['Processor', 'Brand', 'Ram_Type'], dtype='object')\n"
     ]
    }
   ],
   "source": [
    "cat_cols = df.dtypes[df.dtypes=='object'].index\n",
    "print(cat_cols)"
   ]
  },
  {
   "cell_type": "markdown",
   "id": "63ae7484",
   "metadata": {},
   "source": [
    "### Encoding the categorical columns"
   ]
  },
  {
   "cell_type": "code",
   "execution_count": 24,
   "id": "be86ffc1",
   "metadata": {},
   "outputs": [
    {
     "name": "stdout",
     "output_type": "stream",
     "text": [
      "{'Intel Celeron Dual Core Processor': 1, 'Intel Core i5 Processor (10th Gen)': 2, 'Intel Core i3 Processor (11th Gen)': 3, 'Intel Core i5 Processor (11th Gen)': 4, 'Apple M1 Processor': 5, 'AMD Ryzen 5 Hexa Core Processor': 6, 'Intel Core i5 Processor (12th Gen)': 7, 'AMD Athlon Dual Core Processor': 8, 'AMD Ryzen 7 Octa Core Processor': 9, 'AMD Ryzen 5 Quad Core Processor': 10, 'AMD Ryzen 3 Quad Core Processor': 11, 'Intel Core i9 Processor (12th Gen)': 12, 'Intel Core i7 Processor (12th Gen)': 13, 'Apple M2 Processor': 14, 'Intel Core i7 Processor (11th Gen)': 15, 'Apple M2 Pro Processor': 16, 'Intel Core i7 Processor (13th Gen)': 17, 'Intel Core i3 Processor (12th Gen)': 18, 'Intel Core i9 Processor (11th Gen)': 19, 'Intel Core i9 Processor (13th Gen)': 20, 'AMD Ryzen 3 Dual Core Processor': 21, 'Apple M1 Max Processor': 22, 'Apple M2 Max Processor': 23, 'AMD Dual Core Processor': 24, 'Intel Pentium Silver Processor': 25, 'Intel Core i3 Processor (10th Gen)': 26, 'MediaTek MediaTek Kompanio 500 Processor': 27, 'Intel Core i3 Processor (13th Gen)': 28, 'AMD Ryzen 9 Octa Core Processor': 29, 'Intel Pentium Quad Core Processor': 30, 'Intel Core i5 Processor (13th Gen)': 31, 'Intel Celeron Quad Core Processor': 32, 'AMD Ryzen 7 Hexa Core Processor': 33, 'Apple M1 Pro Processor': 34, 'Intel Core i7 Processor (10th Gen)': 35, 'Intel Core i7 Processor (7th Gen)': 36, 'AMD Ryzen 7 Quad Core Processor': 37, 'Intel Core i9 Processor (8th Gen)': 38, 'Intel Core i9 Processor (10th Gen)': 39, 'Intel Core i7 Processor (8th Gen)': 40, 'Intel Core i7 Processor (6th Gen)': 41, 'AMD Ryzen 5 Dual Core Processor': 42, 'Intel Core i5 Processor (8th Gen)': 43, 'Intel Core i5 Processor (9th Gen)': 44, 'Intel Core i3 Processor (7th Gen)': 45, 'MediaTek MediaTek MT8788 Processor': 46, 'Intel Core i5 Processor (7th Gen)': 47, 'Intel Core i5 Processor (4th Gen)': 48}\n"
     ]
    }
   ],
   "source": [
    "# Making a dictionary to encode the processor column\n",
    "items = ['Intel Celeron Dual Core Processor',\n",
    "         'Intel Core i5 Processor (10th Gen)',\n",
    "         'Intel Core i3 Processor (11th Gen)',\n",
    "         'Intel Core i5 Processor (11th Gen)',\n",
    "         'Apple M1 Processor',\n",
    "         'AMD Ryzen 5 Hexa Core Processor',\n",
    "         'Intel Core i5 Processor (12th Gen)',\n",
    "         'AMD Athlon Dual Core Processor',\n",
    "         'AMD Ryzen 7 Octa Core Processor',\n",
    "         'AMD Ryzen 5 Quad Core Processor',\n",
    "         'AMD Ryzen 3 Quad Core Processor',\n",
    "         'Intel Core i9 Processor (12th Gen)',\n",
    "         'Intel Core i7 Processor (12th Gen)',\n",
    "         'Apple M2 Processor',\n",
    "         'Intel Core i7 Processor (11th Gen)',\n",
    "         'Apple M2 Pro Processor',\n",
    "         'Intel Core i7 Processor (13th Gen)',\n",
    "         'Intel Core i3 Processor (12th Gen)',\n",
    "         'Intel Core i9 Processor (11th Gen)',\n",
    "         'Intel Core i9 Processor (13th Gen)',\n",
    "         'AMD Ryzen 3 Dual Core Processor',\n",
    "         'Apple M1 Max Processor',\n",
    "         'Apple M2 Max Processor',\n",
    "         'AMD Dual Core Processor',\n",
    "         'Intel Pentium Silver Processor',\n",
    "         'Intel Core i3 Processor (10th Gen)',\n",
    "         'MediaTek MediaTek Kompanio 500 Processor',\n",
    "         'Intel Core i3 Processor (13th Gen)',\n",
    "         'AMD Ryzen 9 Octa Core Processor',\n",
    "         'Intel Pentium Quad Core Processor',\n",
    "         'Intel Core i5 Processor (13th Gen)',\n",
    "         'Intel Celeron Quad Core Processor',\n",
    "         'AMD Ryzen 7 Hexa Core Processor',\n",
    "         'Apple M1 Pro Processor',\n",
    "         'Intel Core i7 Processor (10th Gen)',\n",
    "         'Intel Core i7 Processor (7th Gen)',\n",
    "         'AMD Ryzen 7 Quad Core Processor',\n",
    "         'Intel Core i9 Processor (8th Gen)',\n",
    "         'Intel Core i9 Processor (10th Gen)',\n",
    "         'Intel Core i7 Processor (8th Gen)',\n",
    "         'Intel Core i7 Processor (6th Gen)',\n",
    "         'AMD Ryzen 5 Dual Core Processor',\n",
    "         'Intel Core i5 Processor (8th Gen)',\n",
    "         'Intel Core i5 Processor (9th Gen)',\n",
    "         'Intel Core i3 Processor (7th Gen)',\n",
    "         'MediaTek MediaTek MT8788 Processor',\n",
    "         'Intel Core i5 Processor (7th Gen)',\n",
    "         'Intel Core i5 Processor (4th Gen)']\n",
    "\n",
    "encoding_dict_processor = {item: i+1 for i, item in enumerate(items)}\n",
    "print(encoding_dict_processor)"
   ]
  },
  {
   "cell_type": "code",
   "execution_count": 25,
   "id": "1ce2e36c",
   "metadata": {},
   "outputs": [],
   "source": [
    "# Apply encoding using the dictionary\n",
    "df['Processor'] = df['Processor'].map(encoding_dict_processor)\n"
   ]
  },
  {
   "cell_type": "code",
   "execution_count": 26,
   "id": "1e6fa703",
   "metadata": {},
   "outputs": [
    {
     "name": "stdout",
     "output_type": "stream",
     "text": [
      "{'LENOVO': 1, 'ASUS': 2, 'MI': 3, 'HP': 4, 'APPLE': 5, 'DELL': 6, 'MSI': 7, 'INFINIX': 8, 'REALME': 9, 'ACER': 10, 'SAMSUNG': 11, 'GIGABYTE': 12, 'MICROSOFT': 13, 'SONY': 14, 'PRIMEBOOK': 15, 'AVITA': 16, 'NOKIA': 17, 'LG': 18}\n"
     ]
    }
   ],
   "source": [
    "# Making a dictionary to encode the brand column\n",
    "items2=['LENOVO', 'ASUS', 'MI', 'HP', 'APPLE', 'DELL', 'MSI', 'INFINIX',\n",
    "       'REALME', 'ACER', 'SAMSUNG', 'GIGABYTE', 'MICROSOFT', 'SONY',\n",
    "       'PRIMEBOOK', 'AVITA', 'NOKIA', 'LG']\n",
    "\n",
    "encoding_dict_brand = {item: i+1 for i, item in enumerate(items2)}\n",
    "print(encoding_dict_brand)"
   ]
  },
  {
   "cell_type": "code",
   "execution_count": 27,
   "id": "45d31c89",
   "metadata": {},
   "outputs": [],
   "source": [
    "# Apply encoding using the dictionary\n",
    "df['Brand'] = df['Brand'].map(encoding_dict_brand)\n"
   ]
  },
  {
   "cell_type": "code",
   "execution_count": 28,
   "id": "6bd95cda",
   "metadata": {
    "scrolled": true
   },
   "outputs": [
    {
     "name": "stdout",
     "output_type": "stream",
     "text": [
      "{'DDR4': 1, 'DDR5': 2, 'LPDDR5': 3, 'LPDDR4X': 4, 'Unified': 5, 'LPDDR4': 6, 'GDDR6': 7, 'GDDR5': 8, 'LPDDR3': 9, 'DDR3': 10}\n"
     ]
    }
   ],
   "source": [
    "# Making a dictionary to encode the ram_type column\n",
    "items3=['DDR4', 'DDR5', 'LPDDR5', 'LPDDR4X', 'Unified', 'LPDDR4', 'GDDR6',\n",
    "       'GDDR5', 'LPDDR3', 'DDR3']\n",
    "encoding_dict_ramtype = {item: i+1 for i, item in enumerate(items3)}\n",
    "print(encoding_dict_ramtype)"
   ]
  },
  {
   "cell_type": "code",
   "execution_count": 29,
   "id": "a9a26988",
   "metadata": {},
   "outputs": [],
   "source": [
    "# Apply encoding using the dictionary\n",
    "df['Ram_Type'] = df['Ram_Type'].map(encoding_dict_ramtype)\n"
   ]
  },
  {
   "cell_type": "code",
   "execution_count": 30,
   "id": "43043a24",
   "metadata": {},
   "outputs": [],
   "source": [
    "# from sklearn.preprocessing import LabelEncoder"
   ]
  },
  {
   "cell_type": "code",
   "execution_count": 31,
   "id": "3dfc45fe",
   "metadata": {},
   "outputs": [],
   "source": [
    "# lb = LabelEncoder()"
   ]
  },
  {
   "cell_type": "code",
   "execution_count": 32,
   "id": "d5c54337",
   "metadata": {},
   "outputs": [],
   "source": [
    "# for i in cat_cols:\n",
    "    # df[i] = lb.fit_transform(df[i])"
   ]
  },
  {
   "cell_type": "code",
   "execution_count": 33,
   "id": "5a2cdf50",
   "metadata": {},
   "outputs": [
    {
     "data": {
      "text/plain": [
       "Rating                 float64\n",
       "Price                  float64\n",
       "Processor              int64  \n",
       "Brand                  int64  \n",
       "SSD_Capacity           float64\n",
       "Ram                    float64\n",
       "Ram_Type               int64  \n",
       "Display_Size           float64\n",
       "EMMC_Storage(in_GB)    float64\n",
       "HDD_Storage(in_GB)     float64\n",
       "dtype: object"
      ]
     },
     "execution_count": 33,
     "metadata": {},
     "output_type": "execute_result"
    }
   ],
   "source": [
    "df.dtypes"
   ]
  },
  {
   "cell_type": "markdown",
   "id": "9685d280",
   "metadata": {},
   "source": [
    "### Select X and Y"
   ]
  },
  {
   "cell_type": "code",
   "execution_count": 34,
   "id": "6beda8ad",
   "metadata": {},
   "outputs": [
    {
     "name": "stdout",
     "output_type": "stream",
     "text": [
      "<class 'pandas.core.frame.DataFrame'>\n",
      "<class 'pandas.core.series.Series'>\n",
      "(813, 9)\n",
      "(813,)\n"
     ]
    }
   ],
   "source": [
    "x = df.drop('Price',axis=1)  # x = df1.iloc[:,:-1] = independent features\n",
    "y = np.log(df['Price'])      # y = df1.iloc[:,-1]  =  \n",
    "print(type(x))\n",
    "print(type(y))\n",
    "print(x.shape)\n",
    "print(y.shape)"
   ]
  },
  {
   "cell_type": "markdown",
   "id": "e779dc6d",
   "metadata": {},
   "source": [
    "### Splitting data into train data and test data"
   ]
  },
  {
   "cell_type": "code",
   "execution_count": 35,
   "id": "cd444c75",
   "metadata": {},
   "outputs": [
    {
     "name": "stdout",
     "output_type": "stream",
     "text": [
      "(609, 9)\n",
      "(204, 9)\n",
      "(609,)\n",
      "(204,)\n"
     ]
    }
   ],
   "source": [
    "from sklearn.model_selection import train_test_split\n",
    "\n",
    "x_train,x_test,y_train,y_test = train_test_split(x,y,test_size=0.25,random_state=42)\n",
    "print(x_train.shape)\n",
    "print(x_test.shape)\n",
    "print(y_train.shape)\n",
    "print(y_test.shape)"
   ]
  },
  {
   "cell_type": "markdown",
   "id": "09136594",
   "metadata": {},
   "source": [
    "### OLS"
   ]
  },
  {
   "cell_type": "code",
   "execution_count": 36,
   "id": "aeaa9831",
   "metadata": {},
   "outputs": [],
   "source": [
    "import statsmodels.api as sm  # OLS"
   ]
  },
  {
   "cell_type": "code",
   "execution_count": 37,
   "id": "9214a6b9",
   "metadata": {},
   "outputs": [
    {
     "data": {
      "text/html": [
       "<table class=\"simpletable\">\n",
       "<caption>OLS Regression Results</caption>\n",
       "<tr>\n",
       "  <th>Dep. Variable:</th>          <td>Price</td>      <th>  R-squared:         </th> <td>   0.725</td> \n",
       "</tr>\n",
       "<tr>\n",
       "  <th>Model:</th>                   <td>OLS</td>       <th>  Adj. R-squared:    </th> <td>   0.722</td> \n",
       "</tr>\n",
       "<tr>\n",
       "  <th>Method:</th>             <td>Least Squares</td>  <th>  F-statistic:       </th> <td>   235.0</td> \n",
       "</tr>\n",
       "<tr>\n",
       "  <th>Date:</th>             <td>Sat, 17 Jun 2023</td> <th>  Prob (F-statistic):</th> <td>3.76e-218</td>\n",
       "</tr>\n",
       "<tr>\n",
       "  <th>Time:</th>                 <td>19:10:28</td>     <th>  Log-Likelihood:    </th> <td> -213.22</td> \n",
       "</tr>\n",
       "<tr>\n",
       "  <th>No. Observations:</th>      <td>   813</td>      <th>  AIC:               </th> <td>   446.4</td> \n",
       "</tr>\n",
       "<tr>\n",
       "  <th>Df Residuals:</th>          <td>   803</td>      <th>  BIC:               </th> <td>   493.5</td> \n",
       "</tr>\n",
       "<tr>\n",
       "  <th>Df Model:</th>              <td>     9</td>      <th>                     </th>     <td> </td>    \n",
       "</tr>\n",
       "<tr>\n",
       "  <th>Covariance Type:</th>      <td>nonrobust</td>    <th>                     </th>     <td> </td>    \n",
       "</tr>\n",
       "</table>\n",
       "<table class=\"simpletable\">\n",
       "<tr>\n",
       "           <td></td>              <th>coef</th>     <th>std err</th>      <th>t</th>      <th>P>|t|</th>  <th>[0.025</th>    <th>0.975]</th>  \n",
       "</tr>\n",
       "<tr>\n",
       "  <th>const</th>               <td>   10.3469</td> <td>    0.181</td> <td>   57.194</td> <td> 0.000</td> <td>    9.992</td> <td>   10.702</td>\n",
       "</tr>\n",
       "<tr>\n",
       "  <th>Rating</th>              <td>   -0.0398</td> <td>    0.006</td> <td>   -6.851</td> <td> 0.000</td> <td>   -0.051</td> <td>   -0.028</td>\n",
       "</tr>\n",
       "<tr>\n",
       "  <th>Processor</th>           <td>    0.0037</td> <td>    0.001</td> <td>    3.396</td> <td> 0.001</td> <td>    0.002</td> <td>    0.006</td>\n",
       "</tr>\n",
       "<tr>\n",
       "  <th>Brand</th>               <td>   -0.0058</td> <td>    0.004</td> <td>   -1.540</td> <td> 0.124</td> <td>   -0.013</td> <td>    0.002</td>\n",
       "</tr>\n",
       "<tr>\n",
       "  <th>SSD_Capacity</th>        <td>    0.0006</td> <td> 4.63e-05</td> <td>   12.312</td> <td> 0.000</td> <td>    0.000</td> <td>    0.001</td>\n",
       "</tr>\n",
       "<tr>\n",
       "  <th>Ram</th>                 <td>    0.0441</td> <td>    0.002</td> <td>   17.910</td> <td> 0.000</td> <td>    0.039</td> <td>    0.049</td>\n",
       "</tr>\n",
       "<tr>\n",
       "  <th>Ram_Type</th>            <td>    0.0587</td> <td>    0.007</td> <td>    8.783</td> <td> 0.000</td> <td>    0.046</td> <td>    0.072</td>\n",
       "</tr>\n",
       "<tr>\n",
       "  <th>Display_Size</th>        <td>   -0.0004</td> <td>    0.005</td> <td>   -0.091</td> <td> 0.928</td> <td>   -0.010</td> <td>    0.009</td>\n",
       "</tr>\n",
       "<tr>\n",
       "  <th>EMMC_Storage(in_GB)</th> <td>   -0.0118</td> <td>    0.002</td> <td>   -6.807</td> <td> 0.000</td> <td>   -0.015</td> <td>   -0.008</td>\n",
       "</tr>\n",
       "<tr>\n",
       "  <th>HDD_Storage(in_GB)</th>  <td>    0.0002</td> <td> 4.63e-05</td> <td>    3.268</td> <td> 0.001</td> <td> 6.05e-05</td> <td>    0.000</td>\n",
       "</tr>\n",
       "</table>\n",
       "<table class=\"simpletable\">\n",
       "<tr>\n",
       "  <th>Omnibus:</th>       <td> 4.203</td> <th>  Durbin-Watson:     </th> <td>   1.925</td>\n",
       "</tr>\n",
       "<tr>\n",
       "  <th>Prob(Omnibus):</th> <td> 0.122</td> <th>  Jarque-Bera (JB):  </th> <td>   4.585</td>\n",
       "</tr>\n",
       "<tr>\n",
       "  <th>Skew:</th>          <td> 0.085</td> <th>  Prob(JB):          </th> <td>   0.101</td>\n",
       "</tr>\n",
       "<tr>\n",
       "  <th>Kurtosis:</th>      <td> 3.326</td> <th>  Cond. No.          </th> <td>1.12e+04</td>\n",
       "</tr>\n",
       "</table><br/><br/>Notes:<br/>[1] Standard Errors assume that the covariance matrix of the errors is correctly specified.<br/>[2] The condition number is large, 1.12e+04. This might indicate that there are<br/>strong multicollinearity or other numerical problems."
      ],
      "text/plain": [
       "<class 'statsmodels.iolib.summary.Summary'>\n",
       "\"\"\"\n",
       "                            OLS Regression Results                            \n",
       "==============================================================================\n",
       "Dep. Variable:                  Price   R-squared:                       0.725\n",
       "Model:                            OLS   Adj. R-squared:                  0.722\n",
       "Method:                 Least Squares   F-statistic:                     235.0\n",
       "Date:                Sat, 17 Jun 2023   Prob (F-statistic):          3.76e-218\n",
       "Time:                        19:10:28   Log-Likelihood:                -213.22\n",
       "No. Observations:                 813   AIC:                             446.4\n",
       "Df Residuals:                     803   BIC:                             493.5\n",
       "Df Model:                           9                                         \n",
       "Covariance Type:            nonrobust                                         \n",
       "=======================================================================================\n",
       "                          coef    std err          t      P>|t|      [0.025      0.975]\n",
       "---------------------------------------------------------------------------------------\n",
       "const                  10.3469      0.181     57.194      0.000       9.992      10.702\n",
       "Rating                 -0.0398      0.006     -6.851      0.000      -0.051      -0.028\n",
       "Processor               0.0037      0.001      3.396      0.001       0.002       0.006\n",
       "Brand                  -0.0058      0.004     -1.540      0.124      -0.013       0.002\n",
       "SSD_Capacity            0.0006   4.63e-05     12.312      0.000       0.000       0.001\n",
       "Ram                     0.0441      0.002     17.910      0.000       0.039       0.049\n",
       "Ram_Type                0.0587      0.007      8.783      0.000       0.046       0.072\n",
       "Display_Size           -0.0004      0.005     -0.091      0.928      -0.010       0.009\n",
       "EMMC_Storage(in_GB)    -0.0118      0.002     -6.807      0.000      -0.015      -0.008\n",
       "HDD_Storage(in_GB)      0.0002   4.63e-05      3.268      0.001    6.05e-05       0.000\n",
       "==============================================================================\n",
       "Omnibus:                        4.203   Durbin-Watson:                   1.925\n",
       "Prob(Omnibus):                  0.122   Jarque-Bera (JB):                4.585\n",
       "Skew:                           0.085   Prob(JB):                        0.101\n",
       "Kurtosis:                       3.326   Cond. No.                     1.12e+04\n",
       "==============================================================================\n",
       "\n",
       "Notes:\n",
       "[1] Standard Errors assume that the covariance matrix of the errors is correctly specified.\n",
       "[2] The condition number is large, 1.12e+04. This might indicate that there are\n",
       "strong multicollinearity or other numerical problems.\n",
       "\"\"\""
      ]
     },
     "execution_count": 37,
     "metadata": {},
     "output_type": "execute_result"
    }
   ],
   "source": [
    "x = sm.add_constant(x)\n",
    "ols_model = sm.OLS(y,x).fit()\n",
    "ols_model.summary()"
   ]
  },
  {
   "cell_type": "markdown",
   "id": "a6e77f73",
   "metadata": {},
   "source": [
    "# Model Building"
   ]
  },
  {
   "cell_type": "markdown",
   "id": "474425cf",
   "metadata": {},
   "source": [
    "### Linear Regression"
   ]
  },
  {
   "cell_type": "code",
   "execution_count": 38,
   "id": "2b717f49",
   "metadata": {},
   "outputs": [],
   "source": [
    "from sklearn.linear_model import LinearRegression"
   ]
  },
  {
   "cell_type": "code",
   "execution_count": 39,
   "id": "275e6f95",
   "metadata": {},
   "outputs": [
    {
     "data": {
      "text/plain": [
       "LinearRegression()"
      ]
     },
     "execution_count": 39,
     "metadata": {},
     "output_type": "execute_result"
    }
   ],
   "source": [
    "lr = LinearRegression()\n",
    "lr.fit(x_train,y_train)"
   ]
  },
  {
   "cell_type": "code",
   "execution_count": 40,
   "id": "01be33bc",
   "metadata": {},
   "outputs": [
    {
     "name": "stdout",
     "output_type": "stream",
     "text": [
      "Training Score 0.7205031386954672\n",
      "Testing Score 0.7300823452369604\n"
     ]
    }
   ],
   "source": [
    "print('Training Score', lr.score(x_train,y_train)) \n",
    "print('Testing Score', lr.score(x_test,y_test))"
   ]
  },
  {
   "cell_type": "code",
   "execution_count": 41,
   "id": "6cd97ede",
   "metadata": {},
   "outputs": [],
   "source": [
    "lr_dict={'Train Score':lr.score(x_train,y_train),'Test Score':lr.score(x_test,y_test)}"
   ]
  },
  {
   "cell_type": "code",
   "execution_count": 42,
   "id": "d563ed4f",
   "metadata": {
    "scrolled": true
   },
   "outputs": [
    {
     "name": "stdout",
     "output_type": "stream",
     "text": [
      "MAE 0.24379649964230388\n",
      "MSE 0.0973526514508644\n",
      "RMSE 0.312013864196552\n",
      "R2_Score 0.7300823452369604\n"
     ]
    }
   ],
   "source": [
    "eval_model(y_test,x_test,lr)"
   ]
  },
  {
   "cell_type": "markdown",
   "id": "cbe8b950",
   "metadata": {},
   "source": [
    "#### Cross Validation on LinearRegression"
   ]
  },
  {
   "cell_type": "code",
   "execution_count": 43,
   "id": "641f60ba",
   "metadata": {},
   "outputs": [
    {
     "name": "stdout",
     "output_type": "stream",
     "text": [
      "[0.56864696 0.8141512  0.7648698  0.72614276 0.77228839 0.70325483\n",
      " 0.43014869 0.68309749 0.5875473  0.74440911 0.66820449 0.5322942 ]\n",
      "0.6662546012256291\n"
     ]
    }
   ],
   "source": [
    "from sklearn.model_selection import cross_val_score, KFold\n",
    "\n",
    "lr_model = LinearRegression()\n",
    "kfold = KFold(n_splits=12)\n",
    "cvs = cross_val_score(lr_model,x,y,cv=kfold,scoring='r2')\n",
    "print(cvs)\n",
    "print(np.mean(cvs))"
   ]
  },
  {
   "cell_type": "markdown",
   "id": "dde56b52",
   "metadata": {},
   "source": [
    "#### Inference\n",
    "1) Model is genertaing +80% R2 only at a particular split. Linear Regression model is not robust."
   ]
  },
  {
   "cell_type": "code",
   "execution_count": 44,
   "id": "847f2f50",
   "metadata": {},
   "outputs": [
    {
     "data": {
      "text/html": [
       "<div>\n",
       "<style scoped>\n",
       "    .dataframe tbody tr th:only-of-type {\n",
       "        vertical-align: middle;\n",
       "    }\n",
       "\n",
       "    .dataframe tbody tr th {\n",
       "        vertical-align: top;\n",
       "    }\n",
       "\n",
       "    .dataframe thead th {\n",
       "        text-align: right;\n",
       "    }\n",
       "</style>\n",
       "<table border=\"1\" class=\"dataframe\">\n",
       "  <thead>\n",
       "    <tr style=\"text-align: right;\">\n",
       "      <th></th>\n",
       "      <th>Train Score</th>\n",
       "      <th>Test Score</th>\n",
       "    </tr>\n",
       "  </thead>\n",
       "  <tbody>\n",
       "    <tr>\n",
       "      <th>Linear Regression</th>\n",
       "      <td>0.720503</td>\n",
       "      <td>0.730082</td>\n",
       "    </tr>\n",
       "  </tbody>\n",
       "</table>\n",
       "</div>"
      ],
      "text/plain": [
       "                   Train Score  Test Score\n",
       "Linear Regression  0.720503     0.730082  "
      ]
     },
     "execution_count": 44,
     "metadata": {},
     "output_type": "execute_result"
    }
   ],
   "source": [
    "model1=pd.DataFrame(lr_dict,index=['Linear Regression'])\n",
    "model1"
   ]
  },
  {
   "cell_type": "markdown",
   "id": "f73469c5",
   "metadata": {},
   "source": [
    "### ElasticNet Reg"
   ]
  },
  {
   "cell_type": "code",
   "execution_count": 45,
   "id": "dc236965",
   "metadata": {},
   "outputs": [
    {
     "data": {
      "text/plain": [
       "ElasticNet(alpha=1)"
      ]
     },
     "execution_count": 45,
     "metadata": {},
     "output_type": "execute_result"
    }
   ],
   "source": [
    "from sklearn.linear_model import ElasticNet\n",
    "\n",
    "enet = ElasticNet(alpha=1)  # alpha represents the lambda from the cost function of ElasticNet Reg \n",
    "# alpha is the hyperparameter\n",
    "enet.fit(x_train,y_train)"
   ]
  },
  {
   "cell_type": "code",
   "execution_count": 46,
   "id": "f9b91fa6",
   "metadata": {},
   "outputs": [
    {
     "name": "stdout",
     "output_type": "stream",
     "text": [
      "Train score ElasticNet 0.6271425577718444\n",
      "Test score ElasticNet 0.6436910445317563\n"
     ]
    }
   ],
   "source": [
    "print('Train score ElasticNet',enet.score(x_train,y_train))\n",
    "print('Test score ElasticNet',enet.score(x_test,y_test))"
   ]
  },
  {
   "cell_type": "code",
   "execution_count": 47,
   "id": "ba9e0ed1",
   "metadata": {},
   "outputs": [],
   "source": [
    "enet_dict={'Train Score':enet.score(x_train,y_train),'Test Score':enet.score(x_test,y_test)}"
   ]
  },
  {
   "cell_type": "code",
   "execution_count": 48,
   "id": "ab1f6dea",
   "metadata": {},
   "outputs": [
    {
     "data": {
      "text/html": [
       "<div>\n",
       "<style scoped>\n",
       "    .dataframe tbody tr th:only-of-type {\n",
       "        vertical-align: middle;\n",
       "    }\n",
       "\n",
       "    .dataframe tbody tr th {\n",
       "        vertical-align: top;\n",
       "    }\n",
       "\n",
       "    .dataframe thead th {\n",
       "        text-align: right;\n",
       "    }\n",
       "</style>\n",
       "<table border=\"1\" class=\"dataframe\">\n",
       "  <thead>\n",
       "    <tr style=\"text-align: right;\">\n",
       "      <th></th>\n",
       "      <th>Train Score</th>\n",
       "      <th>Test Score</th>\n",
       "    </tr>\n",
       "  </thead>\n",
       "  <tbody>\n",
       "    <tr>\n",
       "      <th>ElasticNet</th>\n",
       "      <td>0.627143</td>\n",
       "      <td>0.643691</td>\n",
       "    </tr>\n",
       "  </tbody>\n",
       "</table>\n",
       "</div>"
      ],
      "text/plain": [
       "            Train Score  Test Score\n",
       "ElasticNet  0.627143     0.643691  "
      ]
     },
     "execution_count": 48,
     "metadata": {},
     "output_type": "execute_result"
    }
   ],
   "source": [
    "model2=pd.DataFrame(enet_dict,index=['ElasticNet'])\n",
    "model2"
   ]
  },
  {
   "cell_type": "markdown",
   "id": "f22a03da",
   "metadata": {},
   "source": [
    "#### ElasticNet CV"
   ]
  },
  {
   "cell_type": "code",
   "execution_count": 49,
   "id": "88ef76b9",
   "metadata": {},
   "outputs": [],
   "source": [
    "from sklearn.linear_model import ElasticNetCV"
   ]
  },
  {
   "cell_type": "code",
   "execution_count": 50,
   "id": "1298ee97",
   "metadata": {},
   "outputs": [
    {
     "data": {
      "text/plain": [
       "ElasticNetCV(alphas=array([0.1 , 0.11, 0.12, 0.13, 0.14, 0.15, 0.16, 0.17, 0.18, 0.19, 0.2 ,\n",
       "       0.21, 0.22, 0.23, 0.24, 0.25, 0.26, 0.27, 0.28, 0.29, 0.3 , 0.31,\n",
       "       0.32, 0.33, 0.34, 0.35, 0.36, 0.37, 0.38, 0.39, 0.4 , 0.41, 0.42,\n",
       "       0.43, 0.44, 0.45, 0.46, 0.47, 0.48, 0.49, 0.5 , 0.51, 0.52, 0.53,\n",
       "       0.54, 0.55, 0.56, 0.57, 0.58, 0.59, 0.6 , 0.61, 0.62, 0.63, 0.64,\n",
       "       0.65, 0.66, 0.67, 0.68, 0.69, 0.7 , 0.71, 0.72, 0.73, 0.74, 0.75,\n",
       "       0.76, 0.77, 0.78, 0.79, 0.8 , 0.81, 0.82, 0.83, 0.84, 0.85, 0.86,\n",
       "       0.87, 0.88, 0.89, 0.9 , 0.91, 0.92, 0.93, 0.94, 0.95, 0.96, 0.97,\n",
       "       0.98, 0.99]),\n",
       "             cv=20)"
      ]
     },
     "execution_count": 50,
     "metadata": {},
     "output_type": "execute_result"
    }
   ],
   "source": [
    "enetcv = ElasticNetCV(alphas=np.arange(0.1,1,0.01),cv=20)\n",
    "enetcv.fit(x,y)"
   ]
  },
  {
   "cell_type": "markdown",
   "id": "72e3b439",
   "metadata": {},
   "source": [
    "### DecisionTreeRegressor with Hyperparameters tuning"
   ]
  },
  {
   "cell_type": "code",
   "execution_count": 51,
   "id": "e5d8652c",
   "metadata": {},
   "outputs": [],
   "source": [
    "from sklearn.tree import DecisionTreeRegressor\n",
    "from sklearn.model_selection import GridSearchCV"
   ]
  },
  {
   "cell_type": "code",
   "execution_count": 52,
   "id": "e59d1af0",
   "metadata": {},
   "outputs": [],
   "source": [
    "dt_regressor = DecisionTreeRegressor()"
   ]
  },
  {
   "cell_type": "code",
   "execution_count": 53,
   "id": "30a70924",
   "metadata": {},
   "outputs": [],
   "source": [
    "param_grid = {\n",
    "    'max_depth': list(range(3,10,1)),\n",
    "    'min_samples_split': list(range(2,20,1)),\n",
    "    'min_samples_leaf': list(range(1,10,1))\n",
    "}\n"
   ]
  },
  {
   "cell_type": "code",
   "execution_count": 54,
   "id": "3ea426a4",
   "metadata": {},
   "outputs": [
    {
     "data": {
      "text/plain": [
       "GridSearchCV(cv=5, estimator=DecisionTreeRegressor(),\n",
       "             param_grid={'max_depth': [3, 4, 5, 6, 7, 8, 9],\n",
       "                         'min_samples_leaf': [1, 2, 3, 4, 5, 6, 7, 8, 9],\n",
       "                         'min_samples_split': [2, 3, 4, 5, 6, 7, 8, 9, 10, 11,\n",
       "                                               12, 13, 14, 15, 16, 17, 18,\n",
       "                                               19]},\n",
       "             scoring='neg_mean_squared_error')"
      ]
     },
     "execution_count": 54,
     "metadata": {},
     "output_type": "execute_result"
    }
   ],
   "source": [
    "grid_search = GridSearchCV(estimator=dt_regressor, param_grid=param_grid, cv=5, scoring='neg_mean_squared_error')\n",
    "grid_search.fit(x_train, y_train)"
   ]
  },
  {
   "cell_type": "code",
   "execution_count": 55,
   "id": "ccbbfdd7",
   "metadata": {},
   "outputs": [],
   "source": [
    "best_params = grid_search.best_params_\n",
    "best_model = grid_search.best_estimator_"
   ]
  },
  {
   "cell_type": "code",
   "execution_count": 56,
   "id": "7f4374c3",
   "metadata": {},
   "outputs": [
    {
     "name": "stdout",
     "output_type": "stream",
     "text": [
      "MAE 0.19835227651257958\n",
      "MSE 0.07109482480082653\n",
      "RMSE 0.2666361280862489\n",
      "R2_Score 0.80288417326041\n"
     ]
    }
   ],
   "source": [
    "gs_based_model = DecisionTreeRegressor(**grid_search.best_params_)\n",
    "gs_based_model.fit(x_train,y_train)\n",
    "eval_model(y_test,x_test,gs_based_model)"
   ]
  },
  {
   "cell_type": "code",
   "execution_count": 57,
   "id": "d82919b7",
   "metadata": {},
   "outputs": [],
   "source": [
    "dt_dict={'Train Score':gs_based_model.score(x_train,y_train),'Test Score':gs_based_model.score(x_test,y_test)}"
   ]
  },
  {
   "cell_type": "code",
   "execution_count": 58,
   "id": "c206b176",
   "metadata": {},
   "outputs": [
    {
     "data": {
      "text/html": [
       "<div>\n",
       "<style scoped>\n",
       "    .dataframe tbody tr th:only-of-type {\n",
       "        vertical-align: middle;\n",
       "    }\n",
       "\n",
       "    .dataframe tbody tr th {\n",
       "        vertical-align: top;\n",
       "    }\n",
       "\n",
       "    .dataframe thead th {\n",
       "        text-align: right;\n",
       "    }\n",
       "</style>\n",
       "<table border=\"1\" class=\"dataframe\">\n",
       "  <thead>\n",
       "    <tr style=\"text-align: right;\">\n",
       "      <th></th>\n",
       "      <th>Train Score</th>\n",
       "      <th>Test Score</th>\n",
       "    </tr>\n",
       "  </thead>\n",
       "  <tbody>\n",
       "    <tr>\n",
       "      <th>Decision Tree Regressor with Hyperparameter Tuning</th>\n",
       "      <td>0.909126</td>\n",
       "      <td>0.802884</td>\n",
       "    </tr>\n",
       "  </tbody>\n",
       "</table>\n",
       "</div>"
      ],
      "text/plain": [
       "                                                    Train Score  Test Score\n",
       "Decision Tree Regressor with Hyperparameter Tuning  0.909126     0.802884  "
      ]
     },
     "execution_count": 58,
     "metadata": {},
     "output_type": "execute_result"
    }
   ],
   "source": [
    "model3=pd.DataFrame(dt_dict,index=['Decision Tree Regressor with Hyperparameter Tuning'])\n",
    "model3"
   ]
  },
  {
   "cell_type": "markdown",
   "id": "3130fdef",
   "metadata": {},
   "source": [
    "### RandomForestRegressor with Hyperparameters tuning"
   ]
  },
  {
   "cell_type": "code",
   "execution_count": 59,
   "id": "79d8c2e1",
   "metadata": {},
   "outputs": [],
   "source": [
    "from sklearn.ensemble import RandomForestRegressor"
   ]
  },
  {
   "cell_type": "code",
   "execution_count": 60,
   "id": "5edb58fb",
   "metadata": {},
   "outputs": [],
   "source": [
    "rf_regressor = RandomForestRegressor()"
   ]
  },
  {
   "cell_type": "code",
   "execution_count": 61,
   "id": "6d89701a",
   "metadata": {},
   "outputs": [],
   "source": [
    "param_grid = {\n",
    "    #'n_estimators': [100, 200, 300, 400, 500, 600, 700, 800, 900, 1000],\n",
    "    'max_depth': list(range(3,10,1)),\n",
    "    'min_samples_split': list(range(2,20,1)),\n",
    "    'min_samples_leaf': list(range(1,10,1)),\n",
    "    'max_features': ['auto', 'sqrt', 'log2']\n",
    "}"
   ]
  },
  {
   "cell_type": "code",
   "execution_count": 62,
   "id": "a8d7870f",
   "metadata": {},
   "outputs": [
    {
     "name": "stdout",
     "output_type": "stream",
     "text": [
      "Fitting 5 folds for each of 3402 candidates, totalling 17010 fits\n"
     ]
    },
    {
     "data": {
      "text/plain": [
       "GridSearchCV(cv=5, estimator=RandomForestRegressor(), n_jobs=-1,\n",
       "             param_grid={'max_depth': [3, 4, 5, 6, 7, 8, 9],\n",
       "                         'max_features': ['auto', 'sqrt', 'log2'],\n",
       "                         'min_samples_leaf': [1, 2, 3, 4, 5, 6, 7, 8, 9],\n",
       "                         'min_samples_split': [2, 3, 4, 5, 6, 7, 8, 9, 10, 11,\n",
       "                                               12, 13, 14, 15, 16, 17, 18,\n",
       "                                               19]},\n",
       "             scoring='neg_mean_squared_error', verbose=1)"
      ]
     },
     "execution_count": 62,
     "metadata": {},
     "output_type": "execute_result"
    }
   ],
   "source": [
    "grid_search = GridSearchCV(estimator=rf_regressor, param_grid=param_grid, cv=5,\n",
    "                           scoring='neg_mean_squared_error', verbose=1, n_jobs=-1)\n",
    "grid_search.fit(x_train, y_train)\n"
   ]
  },
  {
   "cell_type": "code",
   "execution_count": 63,
   "id": "54a583f7",
   "metadata": {},
   "outputs": [],
   "source": [
    "best_params = grid_search.best_params_\n",
    "best_model = grid_search.best_estimator_\n"
   ]
  },
  {
   "cell_type": "code",
   "execution_count": 64,
   "id": "c25d349b",
   "metadata": {},
   "outputs": [
    {
     "name": "stdout",
     "output_type": "stream",
     "text": [
      "MAE 0.16286395029408596\n",
      "MSE 0.04794744196326129\n",
      "RMSE 0.2189690433902959\n",
      "R2_Score 0.8670620584674837\n"
     ]
    }
   ],
   "source": [
    "gs_based_model_rf = RandomForestRegressor(**grid_search.best_params_)\n",
    "gs_based_model_rf.fit(x_train,y_train)\n",
    "eval_model(y_test,x_test,gs_based_model_rf)"
   ]
  },
  {
   "cell_type": "code",
   "execution_count": 65,
   "id": "0ffe81e3",
   "metadata": {},
   "outputs": [],
   "source": [
    "rf_dict={'Train Score':gs_based_model_rf.score(x_train,y_train),'Test Score':gs_based_model_rf.score(x_test,y_test)}"
   ]
  },
  {
   "cell_type": "code",
   "execution_count": 66,
   "id": "40379fd0",
   "metadata": {},
   "outputs": [
    {
     "data": {
      "text/html": [
       "<div>\n",
       "<style scoped>\n",
       "    .dataframe tbody tr th:only-of-type {\n",
       "        vertical-align: middle;\n",
       "    }\n",
       "\n",
       "    .dataframe tbody tr th {\n",
       "        vertical-align: top;\n",
       "    }\n",
       "\n",
       "    .dataframe thead th {\n",
       "        text-align: right;\n",
       "    }\n",
       "</style>\n",
       "<table border=\"1\" class=\"dataframe\">\n",
       "  <thead>\n",
       "    <tr style=\"text-align: right;\">\n",
       "      <th></th>\n",
       "      <th>Train Score</th>\n",
       "      <th>Test Score</th>\n",
       "    </tr>\n",
       "  </thead>\n",
       "  <tbody>\n",
       "    <tr>\n",
       "      <th>RandomForestRegressor with Hyperparameter Tuning</th>\n",
       "      <td>0.94563</td>\n",
       "      <td>0.867062</td>\n",
       "    </tr>\n",
       "  </tbody>\n",
       "</table>\n",
       "</div>"
      ],
      "text/plain": [
       "                                                  Train Score  Test Score\n",
       "RandomForestRegressor with Hyperparameter Tuning  0.94563      0.867062  "
      ]
     },
     "execution_count": 66,
     "metadata": {},
     "output_type": "execute_result"
    }
   ],
   "source": [
    "model4=pd.DataFrame(rf_dict,index=['RandomForestRegressor with Hyperparameter Tuning'])\n",
    "model4"
   ]
  },
  {
   "cell_type": "markdown",
   "id": "39481089",
   "metadata": {},
   "source": [
    "### GradientBoostingRegressor with Hyperparameters tuning"
   ]
  },
  {
   "cell_type": "code",
   "execution_count": 67,
   "id": "dc79832b",
   "metadata": {},
   "outputs": [],
   "source": [
    "from sklearn.ensemble import GradientBoostingRegressor"
   ]
  },
  {
   "cell_type": "code",
   "execution_count": 68,
   "id": "b34d7193",
   "metadata": {},
   "outputs": [],
   "source": [
    "gb_regressor = GradientBoostingRegressor()"
   ]
  },
  {
   "cell_type": "code",
   "execution_count": 69,
   "id": "0233a960",
   "metadata": {},
   "outputs": [],
   "source": [
    "param_grid_gb = {\n",
    "    # 'n_estimators': [100, 200, 300, 600, 1000],\n",
    "    'learning_rate': [0.1, 0.05, 0.01],\n",
    "    'max_depth': list(range(3,10,1)),\n",
    "    'min_samples_split': list(range(2,20,1)),\n",
    "    'min_samples_leaf': list(range(1,10,1))\n",
    "}\n"
   ]
  },
  {
   "cell_type": "code",
   "execution_count": 70,
   "id": "30d2f938",
   "metadata": {},
   "outputs": [
    {
     "name": "stdout",
     "output_type": "stream",
     "text": [
      "Fitting 5 folds for each of 3402 candidates, totalling 17010 fits\n"
     ]
    },
    {
     "data": {
      "text/plain": [
       "GridSearchCV(cv=5, estimator=GradientBoostingRegressor(), n_jobs=-1,\n",
       "             param_grid={'learning_rate': [0.1, 0.05, 0.01],\n",
       "                         'max_depth': [3, 4, 5, 6, 7, 8, 9],\n",
       "                         'min_samples_leaf': [1, 2, 3, 4, 5, 6, 7, 8, 9],\n",
       "                         'min_samples_split': [2, 3, 4, 5, 6, 7, 8, 9, 10, 11,\n",
       "                                               12, 13, 14, 15, 16, 17, 18,\n",
       "                                               19]},\n",
       "             scoring='neg_mean_squared_error', verbose=1)"
      ]
     },
     "execution_count": 70,
     "metadata": {},
     "output_type": "execute_result"
    }
   ],
   "source": [
    "grid_search = GridSearchCV(estimator=gb_regressor, param_grid=param_grid_gb, cv=5, scoring='neg_mean_squared_error',verbose=1,n_jobs=-1)\n",
    "grid_search.fit(x_train, y_train)"
   ]
  },
  {
   "cell_type": "code",
   "execution_count": 71,
   "id": "a4d08311",
   "metadata": {},
   "outputs": [],
   "source": [
    "best_params = grid_search.best_params_\n",
    "best_model = grid_search.best_estimator_\n"
   ]
  },
  {
   "cell_type": "code",
   "execution_count": 72,
   "id": "3b91ef66",
   "metadata": {},
   "outputs": [
    {
     "name": "stdout",
     "output_type": "stream",
     "text": [
      "MAE 0.14562688889632144\n",
      "MSE 0.04354739436024472\n",
      "RMSE 0.2086801244973865\n",
      "R2_Score 0.8792615261979687\n"
     ]
    }
   ],
   "source": [
    "gs_based_model_gb = GradientBoostingRegressor(**grid_search.best_params_)\n",
    "gs_based_model_gb.fit(x_train,y_train)\n",
    "eval_model(y_test,x_test,gs_based_model_gb)"
   ]
  },
  {
   "cell_type": "code",
   "execution_count": 73,
   "id": "88239a3f",
   "metadata": {},
   "outputs": [],
   "source": [
    "gb_dict={'Train Score':gs_based_model_gb.score(x_train,y_train),'Test Score':gs_based_model_gb.score(x_test,y_test)}"
   ]
  },
  {
   "cell_type": "code",
   "execution_count": 74,
   "id": "15ac3bb9",
   "metadata": {},
   "outputs": [
    {
     "data": {
      "text/html": [
       "<div>\n",
       "<style scoped>\n",
       "    .dataframe tbody tr th:only-of-type {\n",
       "        vertical-align: middle;\n",
       "    }\n",
       "\n",
       "    .dataframe tbody tr th {\n",
       "        vertical-align: top;\n",
       "    }\n",
       "\n",
       "    .dataframe thead th {\n",
       "        text-align: right;\n",
       "    }\n",
       "</style>\n",
       "<table border=\"1\" class=\"dataframe\">\n",
       "  <thead>\n",
       "    <tr style=\"text-align: right;\">\n",
       "      <th></th>\n",
       "      <th>Train Score</th>\n",
       "      <th>Test Score</th>\n",
       "    </tr>\n",
       "  </thead>\n",
       "  <tbody>\n",
       "    <tr>\n",
       "      <th>GradientBoostRegressor with Hyperparameter Tuning</th>\n",
       "      <td>0.967387</td>\n",
       "      <td>0.879262</td>\n",
       "    </tr>\n",
       "  </tbody>\n",
       "</table>\n",
       "</div>"
      ],
      "text/plain": [
       "                                                   Train Score  Test Score\n",
       "GradientBoostRegressor with Hyperparameter Tuning  0.967387     0.879262  "
      ]
     },
     "execution_count": 74,
     "metadata": {},
     "output_type": "execute_result"
    }
   ],
   "source": [
    "model5=pd.DataFrame(gb_dict,index=['GradientBoostRegressor with Hyperparameter Tuning'])\n",
    "model5"
   ]
  },
  {
   "cell_type": "markdown",
   "id": "721aa377",
   "metadata": {},
   "source": [
    "### Support Vector Regression with Hyperparameters tuning"
   ]
  },
  {
   "cell_type": "code",
   "execution_count": 75,
   "id": "644eae99",
   "metadata": {},
   "outputs": [],
   "source": [
    "from sklearn.svm import SVR"
   ]
  },
  {
   "cell_type": "code",
   "execution_count": 76,
   "id": "c475ba66",
   "metadata": {},
   "outputs": [],
   "source": [
    "svr_regressor = SVR()"
   ]
  },
  {
   "cell_type": "code",
   "execution_count": 77,
   "id": "faa02683",
   "metadata": {},
   "outputs": [],
   "source": [
    "param_grid_svr = {\n",
    "    'kernel': ['rbf'],    # 'kernel': ['linear', 'poly', 'rbf'],\n",
    "    'C': [0.1, 1, 10],\n",
    "    'epsilon': [0.01, 0.1, 0.5]\n",
    "}"
   ]
  },
  {
   "cell_type": "code",
   "execution_count": 78,
   "id": "9ee2bd14",
   "metadata": {
    "scrolled": true
   },
   "outputs": [
    {
     "name": "stdout",
     "output_type": "stream",
     "text": [
      "Fitting 3 folds for each of 9 candidates, totalling 27 fits\n"
     ]
    },
    {
     "data": {
      "text/plain": [
       "GridSearchCV(cv=3, estimator=SVR(), n_jobs=-1,\n",
       "             param_grid={'C': [0.1, 1, 10], 'epsilon': [0.01, 0.1, 0.5],\n",
       "                         'kernel': ['rbf']},\n",
       "             scoring='neg_mean_squared_error', verbose=2)"
      ]
     },
     "execution_count": 78,
     "metadata": {},
     "output_type": "execute_result"
    }
   ],
   "source": [
    "grid_search = GridSearchCV(estimator=svr_regressor, param_grid=param_grid_svr, cv=3,\n",
    "                           scoring='neg_mean_squared_error', verbose=2, n_jobs=-1)\n",
    "grid_search.fit(x_train, y_train)\n"
   ]
  },
  {
   "cell_type": "code",
   "execution_count": 79,
   "id": "3b6bd655",
   "metadata": {},
   "outputs": [],
   "source": [
    "best_params = grid_search.best_params_\n",
    "best_model = grid_search.best_estimator_\n"
   ]
  },
  {
   "cell_type": "code",
   "execution_count": 80,
   "id": "3190c2ae",
   "metadata": {},
   "outputs": [
    {
     "name": "stdout",
     "output_type": "stream",
     "text": [
      "MAE 0.27668654002292287\n",
      "MSE 0.1261678271675687\n",
      "RMSE 0.35520110806072763\n",
      "R2_Score 0.6501900717844672\n"
     ]
    }
   ],
   "source": [
    "gs_based_model_svr = SVR(**grid_search.best_params_)\n",
    "gs_based_model_svr.fit(x_train,y_train)\n",
    "eval_model(y_test,x_test,gs_based_model_svr)"
   ]
  },
  {
   "cell_type": "code",
   "execution_count": 81,
   "id": "add92d37",
   "metadata": {},
   "outputs": [],
   "source": [
    "svr_dict={'Train Score':gs_based_model_svr.score(x_train,y_train),'Test Score':gs_based_model_svr.score(x_test,y_test)}"
   ]
  },
  {
   "cell_type": "code",
   "execution_count": 82,
   "id": "53508284",
   "metadata": {},
   "outputs": [
    {
     "data": {
      "text/html": [
       "<div>\n",
       "<style scoped>\n",
       "    .dataframe tbody tr th:only-of-type {\n",
       "        vertical-align: middle;\n",
       "    }\n",
       "\n",
       "    .dataframe tbody tr th {\n",
       "        vertical-align: top;\n",
       "    }\n",
       "\n",
       "    .dataframe thead th {\n",
       "        text-align: right;\n",
       "    }\n",
       "</style>\n",
       "<table border=\"1\" class=\"dataframe\">\n",
       "  <thead>\n",
       "    <tr style=\"text-align: right;\">\n",
       "      <th></th>\n",
       "      <th>Train Score</th>\n",
       "      <th>Test Score</th>\n",
       "    </tr>\n",
       "  </thead>\n",
       "  <tbody>\n",
       "    <tr>\n",
       "      <th>Support Vector Regression with Hyperparameter Tuning</th>\n",
       "      <td>0.667137</td>\n",
       "      <td>0.65019</td>\n",
       "    </tr>\n",
       "  </tbody>\n",
       "</table>\n",
       "</div>"
      ],
      "text/plain": [
       "                                                      Train Score  Test Score\n",
       "Support Vector Regression with Hyperparameter Tuning  0.667137     0.65019   "
      ]
     },
     "execution_count": 82,
     "metadata": {},
     "output_type": "execute_result"
    }
   ],
   "source": [
    "model6=pd.DataFrame(svr_dict,index=['Support Vector Regression with Hyperparameter Tuning'])\n",
    "model6"
   ]
  },
  {
   "cell_type": "markdown",
   "id": "20d7fec2",
   "metadata": {},
   "source": [
    "### Neural Network Regression with Hyperparameters tuning"
   ]
  },
  {
   "cell_type": "code",
   "execution_count": 83,
   "id": "8466c434",
   "metadata": {},
   "outputs": [
    {
     "name": "stderr",
     "output_type": "stream",
     "text": [
      "2023-06-17 19:28:11.841933: I tensorflow/core/platform/cpu_feature_guard.cc:182] This TensorFlow binary is optimized to use available CPU instructions in performance-critical operations.\n",
      "To enable the following instructions: AVX2 FMA, in other operations, rebuild TensorFlow with the appropriate compiler flags.\n"
     ]
    }
   ],
   "source": [
    "from keras.models import Sequential\n",
    "from keras.layers import Dense\n",
    "from keras.wrappers.scikit_learn import KerasRegressor"
   ]
  },
  {
   "cell_type": "code",
   "execution_count": 84,
   "id": "a41598f6",
   "metadata": {},
   "outputs": [],
   "source": [
    "def create_model(optimizer='adam', activation='relu', hidden_units=16):\n",
    "    model = Sequential()\n",
    "    model.add(Dense(hidden_units, input_dim=9, activation=activation))\n",
    "    model.add(Dense(1, activation='linear'))\n",
    "    model.compile(loss='mean_squared_error', optimizer=optimizer)\n",
    "    return model\n"
   ]
  },
  {
   "cell_type": "code",
   "execution_count": 85,
   "id": "cae4f367",
   "metadata": {},
   "outputs": [
    {
     "name": "stderr",
     "output_type": "stream",
     "text": [
      "/var/folders/cb/z93qyqln7w38w_7mqz8z10c40000gn/T/ipykernel_6869/3572145340.py:1: DeprecationWarning: KerasRegressor is deprecated, use Sci-Keras (https://github.com/adriangb/scikeras) instead. See https://www.adriangb.com/scikeras/stable/migration.html for help migrating.\n",
      "  neural_network = KerasRegressor(build_fn=create_model, verbose=0)\n"
     ]
    }
   ],
   "source": [
    "neural_network = KerasRegressor(build_fn=create_model, verbose=0)"
   ]
  },
  {
   "cell_type": "code",
   "execution_count": 86,
   "id": "c6ed9c75",
   "metadata": {},
   "outputs": [],
   "source": [
    "param_grid_nn = {\n",
    "    'optimizer': ['adam', 'rmsprop'],\n",
    "    'activation': ['relu', 'tanh'],\n",
    "    'hidden_units': [8, 16, 32]\n",
    "}\n"
   ]
  },
  {
   "cell_type": "code",
   "execution_count": 87,
   "id": "f1101ebe",
   "metadata": {},
   "outputs": [
    {
     "name": "stdout",
     "output_type": "stream",
     "text": [
      "Fitting 5 folds for each of 12 candidates, totalling 60 fits\n"
     ]
    },
    {
     "name": "stderr",
     "output_type": "stream",
     "text": [
      "2023-06-17 19:28:26.301369: I tensorflow/core/platform/cpu_feature_guard.cc:182] This TensorFlow binary is optimized to use available CPU instructions in performance-critical operations.\n",
      "To enable the following instructions: AVX2 FMA, in other operations, rebuild TensorFlow with the appropriate compiler flags.\n",
      "2023-06-17 19:28:26.379206: I tensorflow/core/platform/cpu_feature_guard.cc:182] This TensorFlow binary is optimized to use available CPU instructions in performance-critical operations.\n",
      "To enable the following instructions: AVX2 FMA, in other operations, rebuild TensorFlow with the appropriate compiler flags.\n",
      "2023-06-17 19:28:26.386984: I tensorflow/core/platform/cpu_feature_guard.cc:182] This TensorFlow binary is optimized to use available CPU instructions in performance-critical operations.\n",
      "To enable the following instructions: AVX2 FMA, in other operations, rebuild TensorFlow with the appropriate compiler flags.\n",
      "2023-06-17 19:28:26.433917: I tensorflow/core/platform/cpu_feature_guard.cc:182] This TensorFlow binary is optimized to use available CPU instructions in performance-critical operations.\n",
      "To enable the following instructions: AVX2 FMA, in other operations, rebuild TensorFlow with the appropriate compiler flags.\n",
      "2023-06-17 19:28:26.442835: I tensorflow/core/platform/cpu_feature_guard.cc:182] This TensorFlow binary is optimized to use available CPU instructions in performance-critical operations.\n",
      "To enable the following instructions: AVX2 FMA, in other operations, rebuild TensorFlow with the appropriate compiler flags.\n",
      "2023-06-17 19:28:26.453453: I tensorflow/core/platform/cpu_feature_guard.cc:182] This TensorFlow binary is optimized to use available CPU instructions in performance-critical operations.\n",
      "To enable the following instructions: AVX2 FMA, in other operations, rebuild TensorFlow with the appropriate compiler flags.\n",
      "2023-06-17 19:28:26.532119: I tensorflow/core/platform/cpu_feature_guard.cc:182] This TensorFlow binary is optimized to use available CPU instructions in performance-critical operations.\n",
      "To enable the following instructions: AVX2 FMA, in other operations, rebuild TensorFlow with the appropriate compiler flags.\n",
      "2023-06-17 19:28:26.603428: I tensorflow/core/platform/cpu_feature_guard.cc:182] This TensorFlow binary is optimized to use available CPU instructions in performance-critical operations.\n",
      "To enable the following instructions: AVX2 FMA, in other operations, rebuild TensorFlow with the appropriate compiler flags.\n"
     ]
    },
    {
     "name": "stdout",
     "output_type": "stream",
     "text": [
      "[CV] END .....................C=0.1, epsilon=0.1, kernel=rbf; total time=   5.0s\n",
      "[CV] END .......................C=1, epsilon=0.1, kernel=rbf; total time=   0.0s\n",
      "[CV] END ......................C=10, epsilon=0.1, kernel=rbf; total time=   0.0s\n"
     ]
    },
    {
     "name": "stderr",
     "output_type": "stream",
     "text": [
      "/Users/mridultomar/opt/anaconda3/lib/python3.9/site-packages/joblib/externals/loky/process_executor.py:702: UserWarning: A worker stopped while some jobs were given to the executor. This can be caused by a too short worker timeout or by a memory leak.\n",
      "  warnings.warn(\n"
     ]
    },
    {
     "name": "stdout",
     "output_type": "stream",
     "text": [
      "[CV] END ....................C=0.1, epsilon=0.01, kernel=rbf; total time=   5.0s\n",
      "[CV] END .....................C=0.1, epsilon=0.5, kernel=rbf; total time=   0.0s\n",
      "[CV] END .......................C=1, epsilon=0.1, kernel=rbf; total time=   0.0s\n",
      "[CV] END .....................C=10, epsilon=0.01, kernel=rbf; total time=   0.0s\n",
      "[CV] END .....................C=0.1, epsilon=0.5, kernel=rbf; total time=   4.9s\n",
      "[CV] END ......................C=1, epsilon=0.01, kernel=rbf; total time=   0.0s\n",
      "[CV] END .....................C=10, epsilon=0.01, kernel=rbf; total time=   0.0s\n",
      "[CV] END ....................C=0.1, epsilon=0.01, kernel=rbf; total time=   5.0s\n",
      "[CV] END ......................C=1, epsilon=0.01, kernel=rbf; total time=   0.0s\n",
      "[CV] END .......................C=1, epsilon=0.5, kernel=rbf; total time=   0.0s\n",
      "[CV] END ......................C=10, epsilon=0.5, kernel=rbf; total time=   0.0s\n",
      "[CV] END ....................C=0.1, epsilon=0.01, kernel=rbf; total time=   5.0s\n",
      "[CV] END .......................C=1, epsilon=0.5, kernel=rbf; total time=   0.0s\n",
      "[CV] END .......................C=1, epsilon=0.5, kernel=rbf; total time=   0.0s\n",
      "[CV] END .....................C=10, epsilon=0.01, kernel=rbf; total time=   0.0s\n",
      "[CV] END .....................C=0.1, epsilon=0.1, kernel=rbf; total time=   5.0s\n",
      "[CV] END .......................C=1, epsilon=0.1, kernel=rbf; total time=   0.0s\n",
      "[CV] END ......................C=10, epsilon=0.1, kernel=rbf; total time=   0.0s\n",
      "[CV] END .....................C=0.1, epsilon=0.1, kernel=rbf; total time=   5.0s\n",
      "[CV] END ......................C=1, epsilon=0.01, kernel=rbf; total time=   0.0s\n",
      "[CV] END ......................C=10, epsilon=0.5, kernel=rbf; total time=   0.0s\n",
      "[CV] END ......................C=10, epsilon=0.5, kernel=rbf; total time=   0.0s\n",
      "[CV] END .....................C=0.1, epsilon=0.5, kernel=rbf; total time=   5.0s\n",
      "[CV] END ......................C=10, epsilon=0.1, kernel=rbf; total time=   0.0s\n"
     ]
    },
    {
     "data": {
      "text/plain": [
       "GridSearchCV(cv=5,\n",
       "             estimator=<keras.wrappers.scikit_learn.KerasRegressor object at 0x7fbe832c97f0>,\n",
       "             n_jobs=-1,\n",
       "             param_grid={'activation': ['relu', 'tanh'],\n",
       "                         'hidden_units': [8, 16, 32],\n",
       "                         'optimizer': ['adam', 'rmsprop']},\n",
       "             scoring='neg_mean_squared_error', verbose=1)"
      ]
     },
     "execution_count": 87,
     "metadata": {},
     "output_type": "execute_result"
    }
   ],
   "source": [
    "grid_search = GridSearchCV(estimator=neural_network, param_grid=param_grid_nn, cv=5, scoring='neg_mean_squared_error'\n",
    "                          , verbose=1, n_jobs=-1)\n",
    "grid_search.fit(x_train, y_train)"
   ]
  },
  {
   "cell_type": "code",
   "execution_count": 88,
   "id": "1b3f5c25",
   "metadata": {},
   "outputs": [
    {
     "name": "stdout",
     "output_type": "stream",
     "text": [
      "{'activation': 'tanh', 'hidden_units': 32, 'optimizer': 'rmsprop'}\n"
     ]
    }
   ],
   "source": [
    "best_params = grid_search.best_params_\n",
    "best_model = grid_search.best_estimator_\n",
    "print(best_params)"
   ]
  },
  {
   "cell_type": "code",
   "execution_count": 89,
   "id": "c31cc511",
   "metadata": {},
   "outputs": [
    {
     "name": "stderr",
     "output_type": "stream",
     "text": [
      "/var/folders/cb/z93qyqln7w38w_7mqz8z10c40000gn/T/ipykernel_6869/2776277732.py:1: DeprecationWarning: KerasRegressor is deprecated, use Sci-Keras (https://github.com/adriangb/scikeras) instead. See https://www.adriangb.com/scikeras/stable/migration.html for help migrating.\n",
      "  gs_based_model_nn = KerasRegressor(build_fn=create_model,activation='tanh', hidden_units=32, optimizer='rmsprop',verbose=0)\n"
     ]
    },
    {
     "name": "stdout",
     "output_type": "stream",
     "text": [
      "MAE 8.156741602443619\n",
      "MSE 67.42096184126144\n",
      "RMSE 8.211026844509854\n",
      "R2_Score -185.9297613454995\n"
     ]
    }
   ],
   "source": [
    "gs_based_model_nn = KerasRegressor(build_fn=create_model,activation='tanh', hidden_units=32, optimizer='rmsprop',verbose=0)\n",
    "gs_based_model_nn.fit(x_train,y_train)\n",
    "eval_model(y_test,x_test,gs_based_model_nn)"
   ]
  },
  {
   "cell_type": "code",
   "execution_count": 90,
   "id": "a8fb1589",
   "metadata": {},
   "outputs": [],
   "source": [
    "nn_dict={'Train Score':gs_based_model_nn.score(x_train,y_train),'Test Score':gs_based_model_nn.score(x_test,y_test)}"
   ]
  },
  {
   "cell_type": "code",
   "execution_count": 91,
   "id": "9470947b",
   "metadata": {},
   "outputs": [
    {
     "data": {
      "text/html": [
       "<div>\n",
       "<style scoped>\n",
       "    .dataframe tbody tr th:only-of-type {\n",
       "        vertical-align: middle;\n",
       "    }\n",
       "\n",
       "    .dataframe tbody tr th {\n",
       "        vertical-align: top;\n",
       "    }\n",
       "\n",
       "    .dataframe thead th {\n",
       "        text-align: right;\n",
       "    }\n",
       "</style>\n",
       "<table border=\"1\" class=\"dataframe\">\n",
       "  <thead>\n",
       "    <tr style=\"text-align: right;\">\n",
       "      <th></th>\n",
       "      <th>Train Score</th>\n",
       "      <th>Test Score</th>\n",
       "    </tr>\n",
       "  </thead>\n",
       "  <tbody>\n",
       "    <tr>\n",
       "      <th>Neural Network Regression with Hyperparameter Tuning</th>\n",
       "      <td>-66.531761</td>\n",
       "      <td>-67.420967</td>\n",
       "    </tr>\n",
       "  </tbody>\n",
       "</table>\n",
       "</div>"
      ],
      "text/plain": [
       "                                                      Train Score  Test Score\n",
       "Neural Network Regression with Hyperparameter Tuning -66.531761   -67.420967 "
      ]
     },
     "execution_count": 91,
     "metadata": {},
     "output_type": "execute_result"
    }
   ],
   "source": [
    "model7=pd.DataFrame(nn_dict,index=['Neural Network Regression with Hyperparameter Tuning'])\n",
    "model7"
   ]
  },
  {
   "cell_type": "markdown",
   "id": "54adfcfd",
   "metadata": {},
   "source": [
    "### Adaboost Regressor with Hyperparameters tuning"
   ]
  },
  {
   "cell_type": "code",
   "execution_count": 100,
   "id": "8e332460",
   "metadata": {},
   "outputs": [],
   "source": [
    "from sklearn.ensemble import AdaBoostRegressor"
   ]
  },
  {
   "cell_type": "code",
   "execution_count": 101,
   "id": "c561dbb9",
   "metadata": {},
   "outputs": [],
   "source": [
    "adaboost_regressor = AdaBoostRegressor()"
   ]
  },
  {
   "cell_type": "code",
   "execution_count": 102,
   "id": "bdfaf256",
   "metadata": {},
   "outputs": [],
   "source": [
    "param_grid_ad = {\n",
    "    'n_estimators': [50, 100, 200],\n",
    "    'learning_rate': [0.01, 0.1, 1.0],\n",
    "    'loss': ['linear', 'square', 'exponential']\n",
    "}"
   ]
  },
  {
   "cell_type": "code",
   "execution_count": 103,
   "id": "1ce6f573",
   "metadata": {},
   "outputs": [
    {
     "name": "stdout",
     "output_type": "stream",
     "text": [
      "Fitting 5 folds for each of 27 candidates, totalling 135 fits\n"
     ]
    },
    {
     "data": {
      "text/plain": [
       "GridSearchCV(cv=5, estimator=AdaBoostRegressor(), n_jobs=-1,\n",
       "             param_grid={'learning_rate': [0.01, 0.1, 1.0],\n",
       "                         'loss': ['linear', 'square', 'exponential'],\n",
       "                         'n_estimators': [50, 100, 200]},\n",
       "             scoring='neg_mean_squared_error', verbose=1)"
      ]
     },
     "execution_count": 103,
     "metadata": {},
     "output_type": "execute_result"
    }
   ],
   "source": [
    "grid_search = GridSearchCV(estimator=adaboost_regressor, param_grid=param_grid_ad, cv=5,\n",
    "                           scoring='neg_mean_squared_error',verbose=1,n_jobs=-1)\n",
    "grid_search.fit(x_train, y_train)"
   ]
  },
  {
   "cell_type": "code",
   "execution_count": 104,
   "id": "3bb13a10",
   "metadata": {},
   "outputs": [],
   "source": [
    "best_params = grid_search.best_params_\n",
    "best_model = grid_search.best_estimator_"
   ]
  },
  {
   "cell_type": "code",
   "execution_count": 105,
   "id": "8e48e508",
   "metadata": {},
   "outputs": [
    {
     "name": "stdout",
     "output_type": "stream",
     "text": [
      "MAE 0.21550914896345866\n",
      "MSE 0.07466785569300237\n",
      "RMSE 0.2732541961123422\n",
      "R2_Score 0.7929776724672728\n"
     ]
    }
   ],
   "source": [
    "gs_based_model_ad = AdaBoostRegressor(**grid_search.best_params_)\n",
    "gs_based_model_ad.fit(x_train,y_train)\n",
    "eval_model(y_test,x_test,gs_based_model_ad)"
   ]
  },
  {
   "cell_type": "code",
   "execution_count": 106,
   "id": "53b564a8",
   "metadata": {},
   "outputs": [],
   "source": [
    "ad_dict={'Train Score':gs_based_model_ad.score(x_train,y_train),'Test Score':gs_based_model_ad.score(x_test,y_test)}"
   ]
  },
  {
   "cell_type": "code",
   "execution_count": 107,
   "id": "8e3a3e30",
   "metadata": {},
   "outputs": [
    {
     "data": {
      "text/html": [
       "<div>\n",
       "<style scoped>\n",
       "    .dataframe tbody tr th:only-of-type {\n",
       "        vertical-align: middle;\n",
       "    }\n",
       "\n",
       "    .dataframe tbody tr th {\n",
       "        vertical-align: top;\n",
       "    }\n",
       "\n",
       "    .dataframe thead th {\n",
       "        text-align: right;\n",
       "    }\n",
       "</style>\n",
       "<table border=\"1\" class=\"dataframe\">\n",
       "  <thead>\n",
       "    <tr style=\"text-align: right;\">\n",
       "      <th></th>\n",
       "      <th>Train Score</th>\n",
       "      <th>Test Score</th>\n",
       "    </tr>\n",
       "  </thead>\n",
       "  <tbody>\n",
       "    <tr>\n",
       "      <th>AdaBoost Regressor with Hyperparameter Tuning</th>\n",
       "      <td>0.821969</td>\n",
       "      <td>0.792978</td>\n",
       "    </tr>\n",
       "  </tbody>\n",
       "</table>\n",
       "</div>"
      ],
      "text/plain": [
       "                                               Train Score  Test Score\n",
       "AdaBoost Regressor with Hyperparameter Tuning  0.821969     0.792978  "
      ]
     },
     "execution_count": 107,
     "metadata": {},
     "output_type": "execute_result"
    }
   ],
   "source": [
    "model8=pd.DataFrame(ad_dict,index=['AdaBoost Regressor with Hyperparameter Tuning'])\n",
    "model8"
   ]
  },
  {
   "cell_type": "markdown",
   "id": "abbedddf",
   "metadata": {},
   "source": [
    "### Combining results of all the trained models to figure out the best performing model"
   ]
  },
  {
   "cell_type": "code",
   "execution_count": 108,
   "id": "336da7d1",
   "metadata": {},
   "outputs": [],
   "source": [
    "final_result = pd.concat([model1,model2,model3,model4,model5,model6,model7,model8])"
   ]
  },
  {
   "cell_type": "code",
   "execution_count": 109,
   "id": "cd3bbcea",
   "metadata": {
    "scrolled": true
   },
   "outputs": [
    {
     "data": {
      "text/html": [
       "<div>\n",
       "<style scoped>\n",
       "    .dataframe tbody tr th:only-of-type {\n",
       "        vertical-align: middle;\n",
       "    }\n",
       "\n",
       "    .dataframe tbody tr th {\n",
       "        vertical-align: top;\n",
       "    }\n",
       "\n",
       "    .dataframe thead th {\n",
       "        text-align: right;\n",
       "    }\n",
       "</style>\n",
       "<table border=\"1\" class=\"dataframe\">\n",
       "  <thead>\n",
       "    <tr style=\"text-align: right;\">\n",
       "      <th></th>\n",
       "      <th>Train Score</th>\n",
       "      <th>Test Score</th>\n",
       "    </tr>\n",
       "  </thead>\n",
       "  <tbody>\n",
       "    <tr>\n",
       "      <th>Linear Regression</th>\n",
       "      <td>0.720503</td>\n",
       "      <td>0.730082</td>\n",
       "    </tr>\n",
       "    <tr>\n",
       "      <th>ElasticNet</th>\n",
       "      <td>0.627143</td>\n",
       "      <td>0.643691</td>\n",
       "    </tr>\n",
       "    <tr>\n",
       "      <th>Decision Tree Regressor with Hyperparameter Tuning</th>\n",
       "      <td>0.909126</td>\n",
       "      <td>0.802884</td>\n",
       "    </tr>\n",
       "    <tr>\n",
       "      <th>RandomForestRegressor with Hyperparameter Tuning</th>\n",
       "      <td>0.945630</td>\n",
       "      <td>0.867062</td>\n",
       "    </tr>\n",
       "    <tr>\n",
       "      <th>GradientBoostRegressor with Hyperparameter Tuning</th>\n",
       "      <td>0.967387</td>\n",
       "      <td>0.879262</td>\n",
       "    </tr>\n",
       "    <tr>\n",
       "      <th>Support Vector Regression with Hyperparameter Tuning</th>\n",
       "      <td>0.667137</td>\n",
       "      <td>0.650190</td>\n",
       "    </tr>\n",
       "    <tr>\n",
       "      <th>Neural Network Regression with Hyperparameter Tuning</th>\n",
       "      <td>-66.531761</td>\n",
       "      <td>-67.420967</td>\n",
       "    </tr>\n",
       "    <tr>\n",
       "      <th>AdaBoost Regressor with Hyperparameter Tuning</th>\n",
       "      <td>0.821969</td>\n",
       "      <td>0.792978</td>\n",
       "    </tr>\n",
       "  </tbody>\n",
       "</table>\n",
       "</div>"
      ],
      "text/plain": [
       "                                                      Train Score  Test Score\n",
       "Linear Regression                                     0.720503     0.730082  \n",
       "ElasticNet                                            0.627143     0.643691  \n",
       "Decision Tree Regressor with Hyperparameter Tuning    0.909126     0.802884  \n",
       "RandomForestRegressor with Hyperparameter Tuning      0.945630     0.867062  \n",
       "GradientBoostRegressor with Hyperparameter Tuning     0.967387     0.879262  \n",
       "Support Vector Regression with Hyperparameter Tuning  0.667137     0.650190  \n",
       "Neural Network Regression with Hyperparameter Tuning -66.531761   -67.420967 \n",
       "AdaBoost Regressor with Hyperparameter Tuning         0.821969     0.792978  "
      ]
     },
     "execution_count": 109,
     "metadata": {},
     "output_type": "execute_result"
    }
   ],
   "source": [
    "final_result"
   ]
  },
  {
   "cell_type": "code",
   "execution_count": 110,
   "id": "276ddf9d",
   "metadata": {},
   "outputs": [],
   "source": [
    "final_result.to_csv('models_performance.csv')"
   ]
  },
  {
   "cell_type": "code",
   "execution_count": 110,
   "id": "ced376ae",
   "metadata": {
    "collapsed": true
   },
   "outputs": [
    {
     "name": "stdout",
     "output_type": "stream",
     "text": [
      "Collecting dataframe_image\n",
      "  Downloading dataframe_image-0.1.11-py3-none-any.whl (6.6 MB)\n",
      "\u001b[2K     \u001b[90m━━━━━━━━━━━━━━━━━━━━━━━━━━━━━━━━━━━━━━━━\u001b[0m \u001b[32m6.6/6.6 MB\u001b[0m \u001b[31m1.9 MB/s\u001b[0m eta \u001b[36m0:00:00\u001b[0m00:01\u001b[0m00:01\u001b[0m\n",
      "\u001b[?25hRequirement already satisfied: mistune in /Users/mridultomar/opt/anaconda3/lib/python3.9/site-packages (from dataframe_image) (0.8.4)\n",
      "Collecting aiohttp\n",
      "  Downloading aiohttp-3.8.4-cp39-cp39-macosx_10_9_x86_64.whl (360 kB)\n",
      "\u001b[2K     \u001b[90m━━━━━━━━━━━━━━━━━━━━━━━━━━━━━━━━━━━━━━━\u001b[0m \u001b[32m360.3/360.3 kB\u001b[0m \u001b[31m2.6 MB/s\u001b[0m eta \u001b[36m0:00:00\u001b[0ma \u001b[36m0:00:01\u001b[0m\n",
      "\u001b[?25hRequirement already satisfied: pandas>=0.24 in /Users/mridultomar/opt/anaconda3/lib/python3.9/site-packages (from dataframe_image) (1.4.4)\n",
      "Collecting html2image\n",
      "  Downloading html2image-2.0.3-py3-none-any.whl (18 kB)\n",
      "Requirement already satisfied: requests in /Users/mridultomar/opt/anaconda3/lib/python3.9/site-packages (from dataframe_image) (2.28.1)\n",
      "Requirement already satisfied: nbconvert>=5 in /Users/mridultomar/opt/anaconda3/lib/python3.9/site-packages (from dataframe_image) (6.4.4)\n",
      "Requirement already satisfied: packaging in /Users/mridultomar/opt/anaconda3/lib/python3.9/site-packages (from dataframe_image) (21.3)\n",
      "Requirement already satisfied: pillow in /Users/mridultomar/opt/anaconda3/lib/python3.9/site-packages (from dataframe_image) (9.2.0)\n",
      "Collecting cssutils\n",
      "  Downloading cssutils-2.7.1-py3-none-any.whl (399 kB)\n",
      "\u001b[2K     \u001b[90m━━━━━━━━━━━━━━━━━━━━━━━━━━━━━━━━━━━━━━━\u001b[0m \u001b[32m399.7/399.7 kB\u001b[0m \u001b[31m3.8 MB/s\u001b[0m eta \u001b[36m0:00:00\u001b[0ma \u001b[36m0:00:01\u001b[0m\n",
      "\u001b[?25hRequirement already satisfied: beautifulsoup4 in /Users/mridultomar/opt/anaconda3/lib/python3.9/site-packages (from dataframe_image) (4.11.1)\n",
      "Requirement already satisfied: lxml in /Users/mridultomar/opt/anaconda3/lib/python3.9/site-packages (from dataframe_image) (4.9.1)\n",
      "Requirement already satisfied: pandocfilters>=1.4.1 in /Users/mridultomar/opt/anaconda3/lib/python3.9/site-packages (from nbconvert>=5->dataframe_image) (1.5.0)\n",
      "Requirement already satisfied: nbclient<0.6.0,>=0.5.0 in /Users/mridultomar/opt/anaconda3/lib/python3.9/site-packages (from nbconvert>=5->dataframe_image) (0.5.13)\n",
      "Requirement already satisfied: jupyter-core in /Users/mridultomar/opt/anaconda3/lib/python3.9/site-packages (from nbconvert>=5->dataframe_image) (4.11.1)\n",
      "Requirement already satisfied: traitlets>=5.0 in /Users/mridultomar/opt/anaconda3/lib/python3.9/site-packages (from nbconvert>=5->dataframe_image) (5.1.1)\n",
      "Requirement already satisfied: nbformat>=4.4 in /Users/mridultomar/opt/anaconda3/lib/python3.9/site-packages (from nbconvert>=5->dataframe_image) (5.5.0)\n",
      "Requirement already satisfied: bleach in /Users/mridultomar/opt/anaconda3/lib/python3.9/site-packages (from nbconvert>=5->dataframe_image) (4.1.0)\n",
      "Requirement already satisfied: defusedxml in /Users/mridultomar/opt/anaconda3/lib/python3.9/site-packages (from nbconvert>=5->dataframe_image) (0.7.1)\n",
      "Requirement already satisfied: pygments>=2.4.1 in /Users/mridultomar/opt/anaconda3/lib/python3.9/site-packages (from nbconvert>=5->dataframe_image) (2.14.0)\n",
      "Requirement already satisfied: jinja2>=2.4 in /Users/mridultomar/opt/anaconda3/lib/python3.9/site-packages (from nbconvert>=5->dataframe_image) (2.11.3)\n",
      "Requirement already satisfied: jupyterlab-pygments in /Users/mridultomar/opt/anaconda3/lib/python3.9/site-packages (from nbconvert>=5->dataframe_image) (0.1.2)\n",
      "Requirement already satisfied: testpath in /Users/mridultomar/opt/anaconda3/lib/python3.9/site-packages (from nbconvert>=5->dataframe_image) (0.6.0)\n",
      "Requirement already satisfied: entrypoints>=0.2.2 in /Users/mridultomar/opt/anaconda3/lib/python3.9/site-packages (from nbconvert>=5->dataframe_image) (0.4)\n",
      "Requirement already satisfied: python-dateutil>=2.8.1 in /Users/mridultomar/opt/anaconda3/lib/python3.9/site-packages (from pandas>=0.24->dataframe_image) (2.8.2)\n",
      "Requirement already satisfied: pytz>=2020.1 in /Users/mridultomar/opt/anaconda3/lib/python3.9/site-packages (from pandas>=0.24->dataframe_image) (2022.1)\n",
      "Requirement already satisfied: numpy>=1.18.5 in /Users/mridultomar/opt/anaconda3/lib/python3.9/site-packages (from pandas>=0.24->dataframe_image) (1.23.5)\n",
      "Collecting async-timeout<5.0,>=4.0.0a3\n",
      "  Downloading async_timeout-4.0.2-py3-none-any.whl (5.8 kB)\n",
      "Requirement already satisfied: charset-normalizer<4.0,>=2.0 in /Users/mridultomar/opt/anaconda3/lib/python3.9/site-packages (from aiohttp->dataframe_image) (2.0.4)\n",
      "Collecting multidict<7.0,>=4.5\n",
      "  Downloading multidict-6.0.4-cp39-cp39-macosx_10_9_x86_64.whl (29 kB)\n",
      "Collecting aiosignal>=1.1.2\n",
      "  Downloading aiosignal-1.3.1-py3-none-any.whl (7.6 kB)\n",
      "Collecting yarl<2.0,>=1.0\n",
      "  Downloading yarl-1.9.2-cp39-cp39-macosx_10_9_x86_64.whl (65 kB)\n",
      "\u001b[2K     \u001b[90m━━━━━━━━━━━━━━━━━━━━━━━━━━━━━━━━━━━━━━━━\u001b[0m \u001b[32m65.9/65.9 kB\u001b[0m \u001b[31m1.8 MB/s\u001b[0m eta \u001b[36m0:00:00\u001b[0m\n",
      "\u001b[?25hCollecting frozenlist>=1.1.1\n",
      "  Downloading frozenlist-1.3.3-cp39-cp39-macosx_10_9_x86_64.whl (36 kB)\n",
      "Requirement already satisfied: attrs>=17.3.0 in /Users/mridultomar/opt/anaconda3/lib/python3.9/site-packages (from aiohttp->dataframe_image) (21.4.0)\n",
      "Requirement already satisfied: soupsieve>1.2 in /Users/mridultomar/opt/anaconda3/lib/python3.9/site-packages (from beautifulsoup4->dataframe_image) (2.3.1)\n",
      "Requirement already satisfied: pyparsing!=3.0.5,>=2.0.2 in /Users/mridultomar/opt/anaconda3/lib/python3.9/site-packages (from packaging->dataframe_image) (3.0.9)\n",
      "Requirement already satisfied: idna<4,>=2.5 in /Users/mridultomar/opt/anaconda3/lib/python3.9/site-packages (from requests->dataframe_image) (3.3)\n",
      "Requirement already satisfied: urllib3<1.27,>=1.21.1 in /Users/mridultomar/opt/anaconda3/lib/python3.9/site-packages (from requests->dataframe_image) (1.26.11)\n",
      "Requirement already satisfied: certifi>=2017.4.17 in /Users/mridultomar/opt/anaconda3/lib/python3.9/site-packages (from requests->dataframe_image) (2022.9.24)\n",
      "Requirement already satisfied: MarkupSafe>=0.23 in /Users/mridultomar/opt/anaconda3/lib/python3.9/site-packages (from jinja2>=2.4->nbconvert>=5->dataframe_image) (2.0.1)\n",
      "Requirement already satisfied: nest-asyncio in /Users/mridultomar/opt/anaconda3/lib/python3.9/site-packages (from nbclient<0.6.0,>=0.5.0->nbconvert>=5->dataframe_image) (1.5.5)\n",
      "Requirement already satisfied: jupyter-client>=6.1.5 in /Users/mridultomar/opt/anaconda3/lib/python3.9/site-packages (from nbclient<0.6.0,>=0.5.0->nbconvert>=5->dataframe_image) (7.3.4)\n",
      "Requirement already satisfied: fastjsonschema in /Users/mridultomar/opt/anaconda3/lib/python3.9/site-packages (from nbformat>=4.4->nbconvert>=5->dataframe_image) (2.16.2)\n",
      "Requirement already satisfied: jsonschema>=2.6 in /Users/mridultomar/opt/anaconda3/lib/python3.9/site-packages (from nbformat>=4.4->nbconvert>=5->dataframe_image) (4.16.0)\n",
      "Requirement already satisfied: six>=1.5 in /Users/mridultomar/opt/anaconda3/lib/python3.9/site-packages (from python-dateutil>=2.8.1->pandas>=0.24->dataframe_image) (1.16.0)\n",
      "Requirement already satisfied: webencodings in /Users/mridultomar/opt/anaconda3/lib/python3.9/site-packages (from bleach->nbconvert>=5->dataframe_image) (0.5.1)\n",
      "Requirement already satisfied: pyrsistent!=0.17.0,!=0.17.1,!=0.17.2,>=0.14.0 in /Users/mridultomar/opt/anaconda3/lib/python3.9/site-packages (from jsonschema>=2.6->nbformat>=4.4->nbconvert>=5->dataframe_image) (0.18.0)\n",
      "Requirement already satisfied: pyzmq>=23.0 in /Users/mridultomar/opt/anaconda3/lib/python3.9/site-packages (from jupyter-client>=6.1.5->nbclient<0.6.0,>=0.5.0->nbconvert>=5->dataframe_image) (23.2.0)\n",
      "Requirement already satisfied: tornado>=6.0 in /Users/mridultomar/opt/anaconda3/lib/python3.9/site-packages (from jupyter-client>=6.1.5->nbclient<0.6.0,>=0.5.0->nbconvert>=5->dataframe_image) (6.1)\n",
      "Installing collected packages: multidict, html2image, frozenlist, cssutils, async-timeout, yarl, aiosignal, aiohttp, dataframe_image\n",
      "Successfully installed aiohttp-3.8.4 aiosignal-1.3.1 async-timeout-4.0.2 cssutils-2.7.1 dataframe_image-0.1.11 frozenlist-1.3.3 html2image-2.0.3 multidict-6.0.4 yarl-1.9.2\n"
     ]
    }
   ],
   "source": [
    "!pip install dataframe_image"
   ]
  },
  {
   "cell_type": "code",
   "execution_count": 111,
   "id": "caff2e21",
   "metadata": {},
   "outputs": [],
   "source": [
    "# import dataframe_image as dfi"
   ]
  },
  {
   "cell_type": "code",
   "execution_count": 121,
   "id": "b32b03bc",
   "metadata": {},
   "outputs": [],
   "source": [
    "# dfi.export(final_result,'models_performance.png')"
   ]
  },
  {
   "cell_type": "markdown",
   "id": "cb7b2309",
   "metadata": {},
   "source": [
    "####  The above results show that the best performing model is AdaBoost Regerssor"
   ]
  },
  {
   "cell_type": "markdown",
   "id": "00b6646a",
   "metadata": {},
   "source": [
    "#### Saving all the models"
   ]
  },
  {
   "cell_type": "code",
   "execution_count": 111,
   "id": "80b5bf06",
   "metadata": {},
   "outputs": [],
   "source": [
    "import pickle"
   ]
  },
  {
   "cell_type": "code",
   "execution_count": 112,
   "id": "b47596a5",
   "metadata": {},
   "outputs": [],
   "source": [
    "pickle.dump(gs_based_model_ad, open('AdaBoost.pkl','wb'))\n",
    "pickle.dump(gs_based_model_nn, open('KerasRegressor.pkl','wb'))\n",
    "pickle.dump(gs_based_model_svr, open('SVR.pkl','wb'))\n",
    "pickle.dump(gs_based_model_gb, open('GBRegressor.pkl','wb'))\n",
    "pickle.dump(gs_based_model_rf, open('RFRegressor.pkl','wb'))\n",
    "pickle.dump(gs_based_model, open('DTRegressor.pkl','wb'))\n",
    "pickle.dump(enet, open('Enet.pkl','wb'))\n",
    "pickle.dump(lr, open('LinearRegression.pkl','wb'))"
   ]
  },
  {
   "cell_type": "code",
   "execution_count": 117,
   "id": "089f1615",
   "metadata": {},
   "outputs": [],
   "source": [
    "### Saving the Label Encoder"
   ]
  },
  {
   "cell_type": "code",
   "execution_count": 123,
   "id": "07e0ed56",
   "metadata": {},
   "outputs": [],
   "source": [
    "# def save_object(obj , name):\n",
    "#   pickle_obj = open(f\"{name}.pck\",\"wb\")\n",
    "#   pickle.dump(obj, pickle_obj)\n",
    "#   pickle_obj.close()"
   ]
  },
  {
   "cell_type": "code",
   "execution_count": 124,
   "id": "fa75249b",
   "metadata": {},
   "outputs": [],
   "source": [
    "# save_object(lb, \"LabelEncoder\")"
   ]
  },
  {
   "cell_type": "code",
   "execution_count": null,
   "id": "4e443cd8",
   "metadata": {},
   "outputs": [],
   "source": []
  }
 ],
 "metadata": {
  "kernelspec": {
   "display_name": "Python 3 (ipykernel)",
   "language": "python",
   "name": "python3"
  },
  "language_info": {
   "codemirror_mode": {
    "name": "ipython",
    "version": 3
   },
   "file_extension": ".py",
   "mimetype": "text/x-python",
   "name": "python",
   "nbconvert_exporter": "python",
   "pygments_lexer": "ipython3",
   "version": "3.9.13"
  }
 },
 "nbformat": 4,
 "nbformat_minor": 5
}
