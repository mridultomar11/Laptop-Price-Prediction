{
 "cells": [
  {
   "cell_type": "markdown",
   "id": "0029640e",
   "metadata": {},
   "source": [
    "### Importing The Necessary Libraries"
   ]
  },
  {
   "cell_type": "code",
   "execution_count": 1,
   "id": "2998cb15",
   "metadata": {},
   "outputs": [],
   "source": [
    "import pandas as pd\n",
    "import numpy as np\n",
    "import matplotlib.pyplot as plt\n",
    "import seaborn as sns"
   ]
  },
  {
   "cell_type": "markdown",
   "id": "3dd8d441",
   "metadata": {},
   "source": [
    "### Reading the Dataset"
   ]
  },
  {
   "cell_type": "code",
   "execution_count": 2,
   "id": "d7473276",
   "metadata": {},
   "outputs": [],
   "source": [
    "df=pd.read_csv('Flipkpart_Laptop_Details.csv')"
   ]
  },
  {
   "cell_type": "code",
   "execution_count": 3,
   "id": "927121f3",
   "metadata": {},
   "outputs": [
    {
     "name": "stdout",
     "output_type": "stream",
     "text": [
      "                                               Title  Rating    Price  \\\n",
      "0  Lenovo Intel Celeron Dual Core - (8 GB/256 GB ...     4.1  ₹25,685   \n",
      "1  ASUS TUF Gaming F15 Core i5 10th Gen - (8 GB/5...     4.4  ₹51,990   \n",
      "2  ASUS Vivobook 15 Core i3 11th Gen - (8 GB/512 ...     4.2  ₹38,990   \n",
      "3  ASUS VivoBook 14 (2021) Celeron Dual Core - (4...     4.1  ₹23,990   \n",
      "4  RedmiBook Pro Core i5 11th Gen - (8 GB/512 GB ...     4.1  ₹39,990   \n",
      "\n",
      "                            Processor            RAM  \\\n",
      "0   Intel Celeron Dual Core Processor  8 GB DDR4 RAM   \n",
      "1  Intel Core i5 Processor (10th Gen)  8 GB DDR4 RAM   \n",
      "2  Intel Core i3 Processor (11th Gen)  8 GB DDR4 RAM   \n",
      "3   Intel Celeron Dual Core Processor  4 GB DDR4 RAM   \n",
      "4  Intel Core i5 Processor (11th Gen)  8 GB DDR4 RAM   \n",
      "\n",
      "                   Display Size Storage Capacity  \n",
      "0  39.62 cm (15.6 Inch) Display       256 GB SSD  \n",
      "1  39.62 cm (15.6 inch) Display       512 GB SSD  \n",
      "2  39.62 cm (15.6 Inch) Display       512 GB SSD  \n",
      "3    35.56 cm (14 inch) Display       256 GB SSD  \n",
      "4  39.62 cm (15.6 inch) Display       512 GB SSD  \n"
     ]
    },
    {
     "data": {
      "text/plain": [
       "(984, 7)"
      ]
     },
     "execution_count": 3,
     "metadata": {},
     "output_type": "execute_result"
    }
   ],
   "source": [
    "print(df.head())\n",
    "df.shape"
   ]
  },
  {
   "cell_type": "markdown",
   "id": "e59c160f",
   "metadata": {},
   "source": [
    "### Changing the Display Options"
   ]
  },
  {
   "cell_type": "code",
   "execution_count": 4,
   "id": "8fca3b7c",
   "metadata": {},
   "outputs": [
    {
     "name": "stderr",
     "output_type": "stream",
     "text": [
      "C:\\Users\\mridu\\AppData\\Local\\Temp\\ipykernel_12592\\3462665596.py:4: FutureWarning: Passing a negative integer is deprecated in version 1.0 and will not be supported in future version. Instead, use None to not limit the column width.\n",
      "  pd.set_option('display.max_colwidth', -1)\n"
     ]
    }
   ],
   "source": [
    "pd.set_option('display.max_rows', None)\n",
    "pd.set_option('display.max_columns', None)\n",
    "pd.set_option('display.width', None)\n",
    "pd.set_option('display.max_colwidth', -1)"
   ]
  },
  {
   "cell_type": "markdown",
   "id": "e0242325",
   "metadata": {},
   "source": [
    "### Creating DataFrame Copy"
   ]
  },
  {
   "cell_type": "code",
   "execution_count": 5,
   "id": "e1c380dd",
   "metadata": {},
   "outputs": [],
   "source": [
    "df1=df.copy()"
   ]
  },
  {
   "cell_type": "markdown",
   "id": "713a2126",
   "metadata": {},
   "source": [
    "### Data Preprocessing"
   ]
  },
  {
   "cell_type": "code",
   "execution_count": 6,
   "id": "0b58f50f",
   "metadata": {
    "collapsed": true
   },
   "outputs": [
    {
     "name": "stdout",
     "output_type": "stream",
     "text": [
      "['LENOVO', 'ASUS', 'ASUS', 'ASUS', 'REDMIBOOK', 'LENOVO', 'HP', 'ASUS', 'APPLE', 'ASUS', 'HP', 'LENOVO', 'ASUS', 'HP', 'ASUS', 'HP', 'HP', 'DELL', 'ASUS', 'HP', 'LENOVO', 'ASUS', 'HP', 'HP', 'MSI', 'HP', 'INFINIX', 'ASUS', 'HP', 'ASUS', 'APPLE', 'ASUS', 'ASUS', 'APPLE', 'LENOVO', 'HP', 'REALME', 'ASUS', 'LENOVO', 'APPLE', 'HP', 'MSI', 'MSI', 'ACER', 'APPLE', 'LENOVO', 'ACER', 'ASUS', 'ASUS', 'HP', 'ASUS', 'LENOVO', 'HP', 'HP', 'ASUS', 'HP', 'ASUS', 'ASUS', 'HP', 'ASUS', 'DELL', 'MSI', 'DELL', 'INFINIX', 'HP', 'ASUS', 'ASUS', 'ACER', 'APPLE', 'ASUS', 'HP', 'ACER', 'LENOVO', 'ASUS', 'HP', 'ASUS', 'ASUS', 'LENOVO', 'ASUS', 'MSI', 'LENOVO', 'ASUS', 'HP', 'HP', 'HP', 'DELL', 'HP', 'HP', 'ASUS', 'DELL', 'LENOVO', 'HP', 'APPLE', 'DELL', 'HP', 'ASUS', 'DELL', 'HP', 'APPLE', 'MSI', 'HP', 'APPLE', 'ACER', 'ACER', 'APPLE', 'ACER', 'ASUS', 'ASUS', 'ASUS', 'ASUS', 'DELL', 'MSI', 'ASUS', 'ASUS', 'APPLE', 'ASUS', 'DELL', 'LENOVO', 'MSI', 'ASUS', 'LENOVO', 'DELL', 'HP', 'ASUS', 'ASUS', 'ASUS', 'ASUS', 'HP', 'APPLE', 'MSI', 'ASUS', 'HP', 'DELL', 'ASUS', 'LENOVO', 'ASUS', 'ASUS', 'LENOVO', 'REALME', 'HP', 'ASUS', 'ASUS', 'MSI', 'HP', 'ACER', 'ASUS', 'MSI', 'ASUS', 'HP', 'MSI', 'HP', 'HP', 'LENOVO', 'HP', 'MSI', 'LENOVO', 'HP', 'ASUS', 'LENOVO', 'INFINIX', 'ACER', 'MSI', 'HP', 'MSI', 'ASUS', 'DELL', 'MSI', 'APPLE', 'HP', 'HP', 'DELL', 'DELL', 'LENOVO', 'HP', 'ASUS', 'ASUS', 'MSI', 'ASUS', 'HP', 'DELL', 'LENOVO', 'HP', 'SAMSUNG', 'ACER', 'ASUS', 'ASUS', 'APPLE', 'DELL', 'MSI', 'ASUS', 'ASUS', 'APPLE', 'APPLE', 'ASUS', 'ASUS', 'APPLE', 'DELL', 'HP', 'ASUS', 'MSI', 'DELL', 'LENOVO', 'ASUS', 'HP', 'HP', 'INFINIX', 'HP', 'HP', 'MSI', 'DELL', 'MSI', 'ASUS', 'ASUS', 'APPLE', 'ASUS', 'SAMSUNG', 'DELL', 'HP', 'HP', 'ASUS', 'ASUS', 'DELL', 'MSI', 'DELL', 'HP', 'LENOVO', 'ASUS', 'ASUS', 'ASUS', 'HP', 'GIGABYTE', 'DELL', 'HP', 'DELL', 'DELL', 'HP', 'ASUS', 'MSI', 'ASUS', 'ASUS', 'MI', 'ACER', 'ASUS', 'MSI', 'APPLE', 'ACER', 'ASUS', 'ASUS', 'HP', 'ASUS', 'ASUS', 'ASUS', 'ASUS', 'MSI', 'APPLE', 'ASUS', 'ASUS', 'MSI', 'APPLE', 'DELL', 'APPLE', 'ASUS', 'ASUS', 'INFINIX', 'LENOVO', 'LENOVO', 'HP', 'LENOVO', 'ASUS', 'ASUS', 'ASUS', 'DELL', 'DELL', 'ALIENWARE', 'ASUS', 'LENOVO', 'DELL', 'LENOVO', 'ASUS', 'APPLE', 'HP', 'ASUS', 'ASUS', 'SAMSUNG', 'ASUS', 'LENOVO', 'ASUS', 'ASUS', 'MSI', 'ASUS', 'LENOVO', 'ASUS', 'HP', 'ASUS', 'MSI', 'MSI', 'ASUS', 'ASUS', 'ASUS', 'ASUS', 'LENOVO', 'GIGABYTE', 'DELL', 'ASUS', 'DELL', 'LENOVO', 'APPLE', 'ASUS', 'MSI', 'DELL', 'ACER', 'INFINIX', 'HP', 'INFINIX', 'MSI', 'DELL', 'HP', 'LENOVO', 'DELL', 'ASUS', 'LENOVO', 'ASUS', 'ASUS', 'ASUS', 'ASUS', 'DELL', 'HP', 'DELL', 'MSI', 'ASUS', 'DELL', 'DELL', 'ASUS', 'INFINIX', 'ASUS', 'APPLE', 'DELL', 'ASUS', 'ASUS', 'ASUS', 'DELL', 'ASUS', 'MSI', 'MSI', 'INFINIX', 'ASUS', 'HP', 'ASUS', 'DELL', 'LENOVO', 'ASUS', 'MSI', 'ASUS', 'MSI', 'ASUS', 'APPLE', 'ACER', 'DELL', 'LENOVO', 'LENOVO', 'DELL', 'HP', 'ASUS', 'ASUS', 'LENOVO', 'ASUS', 'ASUS', 'ASUS', 'LENOVO', 'ASUS', 'DELL', 'ASUS', 'HP', 'ASUS', 'HP', 'LENOVO', 'ASUS', 'ASUS', 'ACER', 'MSI', 'DELL', 'ACER', 'DELL', 'LENOVO', 'ACER', 'DELL', 'LENOVO', 'HP', 'ASUS', 'LENOVO', 'ASUS', 'APPLE', 'DELL', 'DELL', 'DELL', 'ASUS', 'DELL', 'ASUS', 'INFINIX', 'APPLE', 'APPLE', 'DELL', 'APPLE', 'DELL', 'HP', 'ACER', 'LENOVO', 'DELL', 'HP', 'MSI', 'ASUS', 'MSI', 'DELL', 'ASUS', 'ASUS', 'DELL', 'ASUS', 'DELL', 'APPLE', 'ALIENWARE', 'SAMSUNG', 'APPLE', 'HP', 'ASUS', 'DELL', 'DELL', 'DELL', 'LENOVO', 'ASUS', 'ASUS', 'ASUS', 'DELL', 'DELL', 'ASUS', 'HP', 'ACER', 'LENOVO', 'DELL', 'LENOVO', 'DELL', 'LENOVO', 'DELL', 'ASUS', 'DELL', 'HP', 'DELL', 'APPLE', 'LENOVO', 'APPLE', 'MSI', 'ASUS', 'LENOVO', 'ASUS', 'HP', 'APPLE', 'APPLE', 'APPLE', 'LENOVO', 'ACER', 'HP', 'APPLE', 'APPLE', 'ASUS', 'HP', 'DELL', 'ASUS', 'ASUS', 'ASUS', 'ASUS', 'ASUS', 'DELL', 'ASUS', 'ASUS', 'LENOVO', 'HP', 'MSI', 'GIGABYTE', 'APPLE', 'DELL', 'LENOVO', 'ACER', 'ASUS', 'APPLE', 'APPLE', 'ASUS', 'ASUS', 'ASUS', 'MSI', 'DELL', 'DELL', 'HP', 'ASUS', 'LENOVO', 'LENOVO', 'MSI', 'GIGABYTE', 'ACER', 'DELL', 'HP', 'DELL', 'LENOVO', 'DELL', 'ASUS', 'ASUS', 'MSI', 'GIGABYTE', 'DELL', 'MICROSOFT', 'HP', 'ACER', 'LENOVO', 'ASUS', 'ASUS', 'DELL', 'ASUS', 'LENOVO', 'DELL', 'ASUS', 'SAMSUNG', 'ACER', 'LENOVO', 'LENOVO', 'MSI', 'DELL', 'ASUS', 'LENOVO', 'DELL', 'ASUS', 'LENOVO', 'DELL', 'MSI', 'MSI', 'MSI', 'APPLE', 'MSI', 'DELL', 'ACER', 'LENOVO', 'ACER', 'MSI', 'ASUS', 'HP', 'ASUS', 'ACER', 'ASUS', 'ACER', 'DELL', 'DELL', 'DELL', 'DELL', 'ASUS', 'ACER', 'DELL', 'ACER', 'DELL', 'HP', 'HP', 'LENOVO', 'DELL', 'DELL', 'DELL', 'ACER', 'ASUS', 'MSI', 'LENOVO', 'LENOVO', 'INFINIX', 'ASUS', 'DELL', 'LENOVO', 'HP', 'ASUS', 'DELL', 'ASUS', 'MSI', 'ASUS', 'DELL', 'DELL', 'DELL', 'ACER', 'ASUS', 'ASUS', 'LENOVO', 'DELL', 'ACER', 'DELL', 'ASUS', 'INFINIX', 'ASUS', 'LENOVO', 'ASUS', 'ACER', 'HP', 'HP', 'DELL', 'APPLE', 'ASUS', 'ASUS', 'LENOVO', 'ASUS', 'INFINIX', 'ASUS', 'APPLE', 'ASUS', 'ASUS', 'VAIO', 'LENOVO', 'ASUS', 'LENOVO', 'INFINIX', 'ASUS', 'ASUS', 'HP', 'MSI', 'MSI', 'INFINIX', 'DELL', 'DELL', 'ASUS', 'HP', 'ACER', 'ASUS', 'INFINIX', 'INFINIX', 'LENOVO', 'DELL', 'INFINIX', 'MSI', 'LENOVO', 'HP', 'ACER', 'LENOVO', 'LENOVO', 'LENOVO', 'LENOVO', 'ASUS', 'ASUS', 'DELL', 'ASUS', 'LENOVO', 'INFINIX', 'DELL', 'DELL', 'ACER', 'ACER', 'INFINIX', 'DELL', 'HP', 'MICROSOFT', 'ASUS', 'ACER', 'ASUS', 'HP', 'PRIMEBOOK', 'DELL', 'LENOVO', 'LENOVO', 'HP', 'MSI', 'DELL', 'DELL', 'ACER', 'ASUS', 'ASUS', 'LENOVO', 'SAMSUNG', 'ACER', 'HP', 'DELL', 'ASUS', 'DELL', 'ASUS', 'DELL', 'LENOVO', 'LENOVO', 'ASUS', 'ACER', 'ASUS', 'INFINIX', 'INFINIX', 'HP', 'HP', 'LENOVO', 'HP', 'AVITA', 'HP', 'LENOVO', 'HP', 'DELL', 'DELL', 'LENOVO', 'HP', 'ASUS', 'ASUS', 'ACER', 'MSI', 'HP', 'DELL', 'ASUS', 'HP', 'MSI', 'ASUS', 'LENOVO', 'ASUS', 'ACER', 'HP', 'MSI', 'HP', 'ACER', 'MSI', 'REDMIBOOK', 'LENOVO', 'DELL', 'ASUS', 'HP', 'ASUS', 'INFINIX', 'LENOVO', 'ACER', 'REALME', 'ASUS', 'NOKIA', 'INFINIX', 'LENOVO', 'ACER', 'REALME', 'HP', 'ASUS', 'LENOVO', 'INFINIX', 'ASUS', 'DELL', 'INFINIX', 'LENOVO', 'LENOVO', 'DELL', 'DELL', 'MSI', 'DELL', 'HP', 'ASUS', 'INFINIX', 'ASUS', 'ASUS', 'ASUS', 'DELL', 'ACER', 'DELL', 'REALME', 'LENOVO', 'ASUS', 'HP', 'MSI', 'ASUS', 'ASUS', 'HP', 'ASUS', 'ACER', 'HP', 'MICROSOFT', 'HP', 'ASUS', 'LENOVO', 'ACER', 'MSI', 'ACER', 'MSI', 'DELL', 'HP', 'HP', 'INFINIX', 'DELL', 'HP', 'ASUS', 'ASUS', 'ASUS', 'ACER', 'ACER', 'GIGABYTE', 'ASUS', 'ACER', 'HP', 'ASUS', 'HP', 'INFINIX', 'ASUS', 'ACER', 'APPLE', 'ASUS', 'ASUS', 'VAIO', 'LENOVO', 'ASUS', 'LENOVO', 'DELL', 'LENOVO', 'INFINIX', 'ASUS', 'ASUS', 'HP', 'MSI', 'MSI', 'INFINIX', 'DELL', 'DELL', 'ASUS', 'HP', 'ACER', 'ASUS', 'INFINIX', 'INFINIX', 'ACER', 'HP', 'ASUS', 'LENOVO', 'HP', 'DELL', 'HP', 'ASUS', 'DELL', 'LENOVO', 'HP', 'ASUS', 'DELL', 'ASUS', 'HP', 'HP', 'LENOVO', 'LENOVO', 'DELL', 'DELL', 'MSI', 'MSI', 'ASUS', 'ASUS', 'HP', 'HP', 'HP', 'DELL', 'DELL', 'HP', 'ASUS', 'ACER', 'MICROSOFT', 'ASUS', 'ACER', 'ASUS', 'HP', 'VAIO', 'PRIMEBOOK', 'DELL', 'DELL', 'LENOVO', 'LENOVO', 'LENOVO', 'VAIO', 'ASUS', 'MSI', 'HP', 'DELL', 'DELL', 'ACER', 'HP', 'ASUS', 'PRIMEBOOK', 'MSI', 'HP', 'ASUS', 'LENOVO', 'ACER', 'HP', 'HP', 'INFINIX', 'ASUS', 'SAMSUNG', 'HP', 'ASUS', 'HP', 'LENOVO', 'HP', 'DELL', 'LENOVO', 'LENOVO', 'LENOVO', 'ASUS', 'ACER', 'ASUS', 'INFINIX', 'LENOVO', 'ASUS', 'INFINIX', 'HP', 'AVITA', 'HP', 'LENOVO', 'HP', 'DELL', 'DELL', 'LENOVO', 'HP', 'ASUS', 'HP', 'HP', 'ACER', 'MSI', 'ACER', 'DELL', 'HP', 'HP', 'ACER', 'MSI', 'VAIO', 'DELL', 'LENOVO', 'HP', 'ASUS', 'LENOVO', 'LENOVO', 'HP', 'ACER', 'MSI', 'HP', 'ACER', 'ACER', 'HP', 'ASUS', 'LENOVO', 'HP', 'ACER', 'ACER', 'ASUS', 'ASUS', 'ASUS', 'ACER', 'DELL', 'ASUS', 'ASUS', 'LENOVO', 'HP', 'ACER', 'ACER', 'ASUS', 'ASUS', 'ACER', 'DELL', 'ASUS', 'ASUS', 'HP', 'ACER', 'ASUS', 'ACER', 'SAMSUNG', 'ASUS', 'LG', 'ASUS', 'ASUS', 'ASUS', 'ASUS', 'DELL', 'LG', 'DELL', 'LENOVO', 'MSI', 'ASUS', 'ASUS', 'REDMIBOOK', 'ACER', 'LENOVO', 'ASUS', 'ASUS', 'ASUS', 'DELL', 'HP', 'LENOVO', 'SAMSUNG', 'LENOVO', 'MSI', 'LENOVO', 'ASUS', 'ASUS', 'LENOVO', 'DELL', 'HP', 'ASUS']\n"
     ]
    }
   ],
   "source": [
    "l=[]\n",
    "for i in df['Title']:\n",
    "    w=i.split(' ')\n",
    "    l.append(w[0].upper())\n",
    "print(l)  "
   ]
  },
  {
   "cell_type": "code",
   "execution_count": 7,
   "id": "288fc379",
   "metadata": {
    "collapsed": true
   },
   "outputs": [
    {
     "name": "stdout",
     "output_type": "stream",
     "text": [
      "['LENOVO', 'ASUS', 'ASUS', 'ASUS', 'REDMIBOOK', 'LENOVO', 'HP', 'ASUS', 'APPLE', 'ASUS', 'HP', 'LENOVO', 'ASUS', 'HP', 'ASUS', 'HP', 'HP', 'DELL', 'ASUS', 'HP', 'LENOVO', 'ASUS', 'HP', 'HP', 'MSI', 'HP', 'INFINIX', 'ASUS', 'HP', 'ASUS', 'APPLE', 'ASUS', 'ASUS', 'APPLE', 'LENOVO', 'HP', 'REALME', 'ASUS', 'LENOVO', 'APPLE', 'HP', 'MSI', 'MSI', 'ACER', 'APPLE', 'LENOVO', 'ACER', 'ASUS', 'ASUS', 'HP', 'ASUS', 'LENOVO', 'HP', 'HP', 'ASUS', 'HP', 'ASUS', 'ASUS', 'HP', 'ASUS', 'DELL', 'MSI', 'DELL', 'INFINIX', 'HP', 'ASUS', 'ASUS', 'ACER', 'APPLE', 'ASUS', 'HP', 'ACER', 'LENOVO', 'ASUS', 'HP', 'ASUS', 'ASUS', 'LENOVO', 'ASUS', 'MSI', 'LENOVO', 'ASUS', 'HP', 'HP', 'HP', 'DELL', 'HP', 'HP', 'ASUS', 'DELL', 'LENOVO', 'HP', 'APPLE', 'DELL', 'HP', 'ASUS', 'DELL', 'HP', 'APPLE', 'MSI', 'HP', 'APPLE', 'ACER', 'ACER', 'APPLE', 'ACER', 'ASUS', 'ASUS', 'ASUS', 'ASUS', 'DELL', 'MSI', 'ASUS', 'ASUS', 'APPLE', 'ASUS', 'DELL', 'LENOVO', 'MSI', 'ASUS', 'LENOVO', 'DELL', 'HP', 'ASUS', 'ASUS', 'ASUS', 'ASUS', 'HP', 'APPLE', 'MSI', 'ASUS', 'HP', 'DELL', 'ASUS', 'LENOVO', 'ASUS', 'ASUS', 'LENOVO', 'REALME', 'HP', 'ASUS', 'ASUS', 'MSI', 'HP', 'ACER', 'ASUS', 'MSI', 'ASUS', 'HP', 'MSI', 'HP', 'HP', 'LENOVO', 'HP', 'MSI', 'LENOVO', 'HP', 'ASUS', 'LENOVO', 'INFINIX', 'ACER', 'MSI', 'HP', 'MSI', 'ASUS', 'DELL', 'MSI', 'APPLE', 'HP', 'HP', 'DELL', 'DELL', 'LENOVO', 'HP', 'ASUS', 'ASUS', 'MSI', 'ASUS', 'HP', 'DELL', 'LENOVO', 'HP', 'SAMSUNG', 'ACER', 'ASUS', 'ASUS', 'APPLE', 'DELL', 'MSI', 'ASUS', 'ASUS', 'APPLE', 'APPLE', 'ASUS', 'ASUS', 'APPLE', 'DELL', 'HP', 'ASUS', 'MSI', 'DELL', 'LENOVO', 'ASUS', 'HP', 'HP', 'INFINIX', 'HP', 'HP', 'MSI', 'DELL', 'MSI', 'ASUS', 'ASUS', 'APPLE', 'ASUS', 'SAMSUNG', 'DELL', 'HP', 'HP', 'ASUS', 'ASUS', 'DELL', 'MSI', 'DELL', 'HP', 'LENOVO', 'ASUS', 'ASUS', 'ASUS', 'HP', 'GIGABYTE', 'DELL', 'HP', 'DELL', 'DELL', 'HP', 'ASUS', 'MSI', 'ASUS', 'ASUS', 'MI', 'ACER', 'ASUS', 'MSI', 'APPLE', 'ACER', 'ASUS', 'ASUS', 'HP', 'ASUS', 'ASUS', 'ASUS', 'ASUS', 'MSI', 'APPLE', 'ASUS', 'ASUS', 'MSI', 'APPLE', 'DELL', 'APPLE', 'ASUS', 'ASUS', 'INFINIX', 'LENOVO', 'LENOVO', 'HP', 'LENOVO', 'ASUS', 'ASUS', 'ASUS', 'DELL', 'DELL', 'ALIENWARE', 'ASUS', 'LENOVO', 'DELL', 'LENOVO', 'ASUS', 'APPLE', 'HP', 'ASUS', 'ASUS', 'SAMSUNG', 'ASUS', 'LENOVO', 'ASUS', 'ASUS', 'MSI', 'ASUS', 'LENOVO', 'ASUS', 'HP', 'ASUS', 'MSI', 'MSI', 'ASUS', 'ASUS', 'ASUS', 'ASUS', 'LENOVO', 'GIGABYTE', 'DELL', 'ASUS', 'DELL', 'LENOVO', 'APPLE', 'ASUS', 'MSI', 'DELL', 'ACER', 'INFINIX', 'HP', 'INFINIX', 'MSI', 'DELL', 'HP', 'LENOVO', 'DELL', 'ASUS', 'LENOVO', 'ASUS', 'ASUS', 'ASUS', 'ASUS', 'DELL', 'HP', 'DELL', 'MSI', 'ASUS', 'DELL', 'DELL', 'ASUS', 'INFINIX', 'ASUS', 'APPLE', 'DELL', 'ASUS', 'ASUS', 'ASUS', 'DELL', 'ASUS', 'MSI', 'MSI', 'INFINIX', 'ASUS', 'HP', 'ASUS', 'DELL', 'LENOVO', 'ASUS', 'MSI', 'ASUS', 'MSI', 'ASUS', 'APPLE', 'ACER', 'DELL', 'LENOVO', 'LENOVO', 'DELL', 'HP', 'ASUS', 'ASUS', 'LENOVO', 'ASUS', 'ASUS', 'ASUS', 'LENOVO', 'ASUS', 'DELL', 'ASUS', 'HP', 'ASUS', 'HP', 'LENOVO', 'ASUS', 'ASUS', 'ACER', 'MSI', 'DELL', 'ACER', 'DELL', 'LENOVO', 'ACER', 'DELL', 'LENOVO', 'HP', 'ASUS', 'LENOVO', 'ASUS', 'APPLE', 'DELL', 'DELL', 'DELL', 'ASUS', 'DELL', 'ASUS', 'INFINIX', 'APPLE', 'APPLE', 'DELL', 'APPLE', 'DELL', 'HP', 'ACER', 'LENOVO', 'DELL', 'HP', 'MSI', 'ASUS', 'MSI', 'DELL', 'ASUS', 'ASUS', 'DELL', 'ASUS', 'DELL', 'APPLE', 'ALIENWARE', 'SAMSUNG', 'APPLE', 'HP', 'ASUS', 'DELL', 'DELL', 'DELL', 'LENOVO', 'ASUS', 'ASUS', 'ASUS', 'DELL', 'DELL', 'ASUS', 'HP', 'ACER', 'LENOVO', 'DELL', 'LENOVO', 'DELL', 'LENOVO', 'DELL', 'ASUS', 'DELL', 'HP', 'DELL', 'APPLE', 'LENOVO', 'APPLE', 'MSI', 'ASUS', 'LENOVO', 'ASUS', 'HP', 'APPLE', 'APPLE', 'APPLE', 'LENOVO', 'ACER', 'HP', 'APPLE', 'APPLE', 'ASUS', 'HP', 'DELL', 'ASUS', 'ASUS', 'ASUS', 'ASUS', 'ASUS', 'DELL', 'ASUS', 'ASUS', 'LENOVO', 'HP', 'MSI', 'GIGABYTE', 'APPLE', 'DELL', 'LENOVO', 'ACER', 'ASUS', 'APPLE', 'APPLE', 'ASUS', 'ASUS', 'ASUS', 'MSI', 'DELL', 'DELL', 'HP', 'ASUS', 'LENOVO', 'LENOVO', 'MSI', 'GIGABYTE', 'ACER', 'DELL', 'HP', 'DELL', 'LENOVO', 'DELL', 'ASUS', 'ASUS', 'MSI', 'GIGABYTE', 'DELL', 'MICROSOFT', 'HP', 'ACER', 'LENOVO', 'ASUS', 'ASUS', 'DELL', 'ASUS', 'LENOVO', 'DELL', 'ASUS', 'SAMSUNG', 'ACER', 'LENOVO', 'LENOVO', 'MSI', 'DELL', 'ASUS', 'LENOVO', 'DELL', 'ASUS', 'LENOVO', 'DELL', 'MSI', 'MSI', 'MSI', 'APPLE', 'MSI', 'DELL', 'ACER', 'LENOVO', 'ACER', 'MSI', 'ASUS', 'HP', 'ASUS', 'ACER', 'ASUS', 'ACER', 'DELL', 'DELL', 'DELL', 'DELL', 'ASUS', 'ACER', 'DELL', 'ACER', 'DELL', 'HP', 'HP', 'LENOVO', 'DELL', 'DELL', 'DELL', 'ACER', 'ASUS', 'MSI', 'LENOVO', 'LENOVO', 'INFINIX', 'ASUS', 'DELL', 'LENOVO', 'HP', 'ASUS', 'DELL', 'ASUS', 'MSI', 'ASUS', 'DELL', 'DELL', 'DELL', 'ACER', 'ASUS', 'ASUS', 'LENOVO', 'DELL', 'ACER', 'DELL', 'ASUS', 'INFINIX', 'ASUS', 'LENOVO', 'ASUS', 'ACER', 'HP', 'HP', 'DELL', 'APPLE', 'ASUS', 'ASUS', 'LENOVO', 'ASUS', 'INFINIX', 'ASUS', 'APPLE', 'ASUS', 'ASUS', 'VAIO', 'LENOVO', 'ASUS', 'LENOVO', 'INFINIX', 'ASUS', 'ASUS', 'HP', 'MSI', 'MSI', 'INFINIX', 'DELL', 'DELL', 'ASUS', 'HP', 'ACER', 'ASUS', 'INFINIX', 'INFINIX', 'LENOVO', 'DELL', 'INFINIX', 'MSI', 'LENOVO', 'HP', 'ACER', 'LENOVO', 'LENOVO', 'LENOVO', 'LENOVO', 'ASUS', 'ASUS', 'DELL', 'ASUS', 'LENOVO', 'INFINIX', 'DELL', 'DELL', 'ACER', 'ACER', 'INFINIX', 'DELL', 'HP', 'MICROSOFT', 'ASUS', 'ACER', 'ASUS', 'HP', 'PRIMEBOOK', 'DELL', 'LENOVO', 'LENOVO', 'HP', 'MSI', 'DELL', 'DELL', 'ACER', 'ASUS', 'ASUS', 'LENOVO', 'SAMSUNG', 'ACER', 'HP', 'DELL', 'ASUS', 'DELL', 'ASUS', 'DELL', 'LENOVO', 'LENOVO', 'ASUS', 'ACER', 'ASUS', 'INFINIX', 'INFINIX', 'HP', 'HP', 'LENOVO', 'HP', 'AVITA', 'HP', 'LENOVO', 'HP', 'DELL', 'DELL', 'LENOVO', 'HP', 'ASUS', 'ASUS', 'ACER', 'MSI', 'HP', 'DELL', 'ASUS', 'HP', 'MSI', 'ASUS', 'LENOVO', 'ASUS', 'ACER', 'HP', 'MSI', 'HP', 'ACER', 'MSI', 'REDMIBOOK', 'LENOVO', 'DELL', 'ASUS', 'HP', 'ASUS', 'INFINIX', 'LENOVO', 'ACER', 'REALME', 'ASUS', 'NOKIA', 'INFINIX', 'LENOVO', 'ACER', 'REALME', 'HP', 'ASUS', 'LENOVO', 'INFINIX', 'ASUS', 'DELL', 'INFINIX', 'LENOVO', 'LENOVO', 'DELL', 'DELL', 'MSI', 'DELL', 'HP', 'ASUS', 'INFINIX', 'ASUS', 'ASUS', 'ASUS', 'DELL', 'ACER', 'DELL', 'REALME', 'LENOVO', 'ASUS', 'HP', 'MSI', 'ASUS', 'ASUS', 'HP', 'ASUS', 'ACER', 'HP', 'MICROSOFT', 'HP', 'ASUS', 'LENOVO', 'ACER', 'MSI', 'ACER', 'MSI', 'DELL', 'HP', 'HP', 'INFINIX', 'DELL', 'HP', 'ASUS', 'ASUS', 'ASUS', 'ACER', 'ACER', 'GIGABYTE', 'ASUS', 'ACER', 'HP', 'ASUS', 'HP', 'INFINIX', 'ASUS', 'ACER', 'APPLE', 'ASUS', 'ASUS', 'VAIO', 'LENOVO', 'ASUS', 'LENOVO', 'DELL', 'LENOVO', 'INFINIX', 'ASUS', 'ASUS', 'HP', 'MSI', 'MSI', 'INFINIX', 'DELL', 'DELL', 'ASUS', 'HP', 'ACER', 'ASUS', 'INFINIX', 'INFINIX', 'ACER', 'HP', 'ASUS', 'LENOVO', 'HP', 'DELL', 'HP', 'ASUS', 'DELL', 'LENOVO', 'HP', 'ASUS', 'DELL', 'ASUS', 'HP', 'HP', 'LENOVO', 'LENOVO', 'DELL', 'DELL', 'MSI', 'MSI', 'ASUS', 'ASUS', 'HP', 'HP', 'HP', 'DELL', 'DELL', 'HP', 'ASUS', 'ACER', 'MICROSOFT', 'ASUS', 'ACER', 'ASUS', 'HP', 'VAIO', 'PRIMEBOOK', 'DELL', 'DELL', 'LENOVO', 'LENOVO', 'LENOVO', 'VAIO', 'ASUS', 'MSI', 'HP', 'DELL', 'DELL', 'ACER', 'HP', 'ASUS', 'PRIMEBOOK', 'MSI', 'HP', 'ASUS', 'LENOVO', 'ACER', 'HP', 'HP', 'INFINIX', 'ASUS', 'SAMSUNG', 'HP', 'ASUS', 'HP', 'LENOVO', 'HP', 'DELL', 'LENOVO', 'LENOVO', 'LENOVO', 'ASUS', 'ACER', 'ASUS', 'INFINIX', 'LENOVO', 'ASUS', 'INFINIX', 'HP', 'AVITA', 'HP', 'LENOVO', 'HP', 'DELL', 'DELL', 'LENOVO', 'HP', 'ASUS', 'HP', 'HP', 'ACER', 'MSI', 'ACER', 'DELL', 'HP', 'HP', 'ACER', 'MSI', 'VAIO', 'DELL', 'LENOVO', 'HP', 'ASUS', 'LENOVO', 'LENOVO', 'HP', 'ACER', 'MSI', 'HP', 'ACER', 'ACER', 'HP', 'ASUS', 'LENOVO', 'HP', 'ACER', 'ACER', 'ASUS', 'ASUS', 'ASUS', 'ACER', 'DELL', 'ASUS', 'ASUS', 'LENOVO', 'HP', 'ACER', 'ACER', 'ASUS', 'ASUS', 'ACER', 'DELL', 'ASUS', 'ASUS', 'HP', 'ACER', 'ASUS', 'ACER', 'SAMSUNG', 'ASUS', 'LG', 'ASUS', 'ASUS', 'ASUS', 'ASUS', 'DELL', 'LG', 'DELL', 'LENOVO', 'MSI', 'ASUS', 'ASUS', 'REDMIBOOK', 'ACER', 'LENOVO', 'ASUS', 'ASUS', 'ASUS', 'DELL', 'HP', 'LENOVO', 'SAMSUNG', 'LENOVO', 'MSI', 'LENOVO', 'ASUS', 'ASUS', 'LENOVO', 'DELL', 'HP', 'ASUS']\n"
     ]
    }
   ],
   "source": [
    "l=[]\n",
    "for i in df['Title']:\n",
    "    w=i.split(' ')\n",
    "    l.append(w[0].upper())\n",
    "print(l)  "
   ]
  },
  {
   "cell_type": "code",
   "execution_count": 8,
   "id": "70a61e5d",
   "metadata": {},
   "outputs": [],
   "source": [
    "df['Brand']=l"
   ]
  },
  {
   "cell_type": "code",
   "execution_count": 9,
   "id": "c811a14a",
   "metadata": {},
   "outputs": [
    {
     "data": {
      "text/plain": [
       "ASUS         280\n",
       "HP           153\n",
       "DELL         149\n",
       "LENOVO       125\n",
       "ACER         77 \n",
       "MSI          75 \n",
       "APPLE        46 \n",
       "INFINIX      36 \n",
       "SAMSUNG      9  \n",
       "GIGABYTE     6  \n",
       "REALME       5  \n",
       "VAIO         5  \n",
       "MICROSOFT    4  \n",
       "REDMIBOOK    3  \n",
       "PRIMEBOOK    3  \n",
       "ALIENWARE    2  \n",
       "AVITA        2  \n",
       "LG           2  \n",
       "MI           1  \n",
       "NOKIA        1  \n",
       "Name: Brand, dtype: int64"
      ]
     },
     "execution_count": 9,
     "metadata": {},
     "output_type": "execute_result"
    }
   ],
   "source": [
    "df['Brand'].value_counts()"
   ]
  },
  {
   "cell_type": "code",
   "execution_count": 10,
   "id": "816c9d63",
   "metadata": {},
   "outputs": [],
   "source": [
    "df['Brand']=df['Brand'].replace('VAIO','SONY')\n",
    "df['Brand']=df['Brand'].replace('REDMIBOOK','MI')\n",
    "df['Brand']=df['Brand'].replace('ALIENWARE','DELL')"
   ]
  },
  {
   "cell_type": "code",
   "execution_count": 11,
   "id": "c6102021",
   "metadata": {},
   "outputs": [
    {
     "data": {
      "text/plain": [
       "ASUS         280\n",
       "HP           153\n",
       "DELL         151\n",
       "LENOVO       125\n",
       "ACER         77 \n",
       "MSI          75 \n",
       "APPLE        46 \n",
       "INFINIX      36 \n",
       "SAMSUNG      9  \n",
       "GIGABYTE     6  \n",
       "REALME       5  \n",
       "SONY         5  \n",
       "MI           4  \n",
       "MICROSOFT    4  \n",
       "PRIMEBOOK    3  \n",
       "AVITA        2  \n",
       "LG           2  \n",
       "NOKIA        1  \n",
       "Name: Brand, dtype: int64"
      ]
     },
     "execution_count": 11,
     "metadata": {},
     "output_type": "execute_result"
    }
   ],
   "source": [
    "df['Brand'].value_counts()"
   ]
  },
  {
   "cell_type": "code",
   "execution_count": 12,
   "id": "a5eb826f",
   "metadata": {
    "collapsed": true
   },
   "outputs": [
    {
     "name": "stdout",
     "output_type": "stream",
     "text": [
      "['SSD', 'SSD', 'SSD', 'SSD', 'SSD', 'SSD', 'SSD', 'SSD', 'SSD', 'SSD', 'SSD', 'SSD', 'SSD', 'SSD', 'SSD', 'SSD', 'SSD', 'BORDER', 'SSD', 'SSD', 'SSD', 'SSD', 'SSD', 'SSD', 'SSD', 'SSD', 'SSD', 'SSD', 'SSD', 'SSD', 'SSD', 'SSD', 'SSD', 'SSD', 'SSD', 'SSD', 'GEN)', 'SSD', 'SSD', 'SSD', 'SSD', 'SSD', 'SSD', 'SSD', 'SSD', 'SSD', 'SSD', 'SSD', 'DISPLAY', 'SSD', 'SSD', 'SSD', 'SSD', 'SSD', 'SSD', 'SSD', 'SSD', 'SSD', 'SSD', 'SSD', 'SSD', 'SSD', 'SSD', 'SSD', 'SSD', 'SSD', 'SSD', 'SSD', 'SSD', 'SSD', 'SSD', 'SSD', 'SSD', 'SSD', 'SSD', 'SSD', 'SSD', 'SSD', 'SSD', 'SSD', 'SSD', 'SSD', 'SSD', 'SSD', 'SSD', 'SSD', 'SSD', 'SSD', 'SSD', 'SSD', 'SSD', 'SSD', 'SSD', 'BORDER', 'SSD', 'SSD', 'BORDER', 'SSD', 'SSD', 'SSD', 'SSD', 'SSD', 'SSD', 'SSD', 'SSD', 'SSD', 'DRIVE', 'SSD', 'SSD', 'SSD', '2021', 'SSD', 'SSD', 'SSD', 'SSD', 'SSD', '2021', 'SSD', 'SSD', 'SSD', 'SSD', 'PEN', 'SSD', 'SSD', 'SSD', 'SSD', 'SSD', 'SSD', 'SSD', 'SSD', 'SSD', 'SSD', '2021', 'SSD', 'SSD', 'SSD', 'SSD', 'SSD', 'DRIVE', 'SSD', 'SSD', 'SSD', 'SSD', 'SSD', 'SSD', 'SSD', 'SSD', 'SSD', 'SSD', 'SSD', 'SSD', 'SSD', 'SSD', 'SSD', 'SSD', 'SSD', 'DISPLAY', 'DISPLAY', 'SSD', 'SSD', 'SSD', 'SSD', 'SSD', 'SSD', 'SSD', 'SSD', 'SSD', 'SSD', 'SSD', 'SSD', 'SSD', '2021', 'SSD', 'SSD', 'SSD', 'SSD', 'SSD', 'SSD', 'SSD', 'PROCESSOR', 'SSD', 'SSD', 'SSD', 'SYSTEM', 'SSD', 'SSD', 'SSD', 'SSD', 'SSD', 'SSD', 'SSD', 'SSD', 'SSD', 'SSD', 'SSD', 'SSD', 'SSD', 'SSD', 'SSD', 'SSD', 'SSD', 'SSD', 'SSD', 'SSD', 'SSD', 'SSD', 'SSD', 'SSD', 'SSD', 'SSD', 'SSD', 'SSD', 'SSD', 'SSD', 'SSD', 'SSD', 'READER', 'SSD', 'SSD', 'SSD', 'SSD', 'SSD', 'SSD', 'SSD', 'SSD', 'SSD', 'SSD', 'SSD', 'SSD', 'SSD', 'SSD', 'SSD', 'SSD', 'SSD', 'SSD', 'SSD', 'SSD', 'SSD', 'DISPLAY', 'SSD', 'SSD', 'SSD', 'SSD', 'SSD', 'SSD', 'SSD', 'SSD', 'SSD', 'SSD', 'SSD', 'SSD', 'SSD', 'SSD', 'SSD', 'SSD', 'SSD', 'SSD', 'SSD', 'SSD', 'SSD', 'SSD', 'SSD', 'SSD', 'SSD', 'SSD', 'SSD', 'SSD', 'SSD', 'SSD', 'SSD', 'SSD', 'SSD', 'SSD', 'POSITION', 'SSD', 'SSD', 'READER', 'SSD', 'SSD', 'SSD', 'SSD', 'SSD', 'SSD', 'SSD', 'SSD', 'SSD', 'SSD', 'SSD', 'SSD', 'SSD', 'SSD', 'SSD', 'SSD', 'SSD', 'SSD', 'SSD', 'SSD', 'SSD', 'SSD', 'SSD', 'SSD', 'SSD', 'SSD', 'SSD', 'POWER', 'SSD', 'SSD', 'SYSTEM', 'SSD', 'PEN', 'SSD', 'SSD', 'SSD', 'SSD', 'SSD', 'SSD', 'SSD', 'SSD', 'SSD', 'SSD', 'SSD', 'SSD', 'SSD', 'SSD', 'SSD', 'SSD', 'SSD', 'SSD', 'SSD', 'DRIVE', 'SSD', 'SSD', 'SSD', 'SSD', 'RAM', 'SSD', 'BORDER', 'SYSTEM', 'SSD', 'SSD', 'SSD', 'SSD', 'SSD', 'SSD', 'SSD', 'SSD', 'SSD', 'SSD', '2021', 'SSD', 'SSD', 'SYSTEM', 'SSD', 'SSD', 'SSD', 'SSD', 'SSD', 'SSD', 'SSD', 'SSD', 'SSD', 'SSD', 'SSD', 'SSD', 'SSD', 'SSD', 'SSD', 'SSD', 'SSD', 'SSD', 'SSD', 'SSD', 'SSD', 'SSD', 'SSD', 'SSD', 'SSD', 'SSD', 'SSD', 'SSD', 'SSD', 'SSD', 'POWER', 'SSD', 'SSD', 'POWER', 'SSD', 'SSD', 'SSD', 'SSD', 'SSD', 'SSD', 'SSD', 'PEN', 'SSD', 'SSD', 'SSD', 'SSD', 'SSD', 'SSD', 'SSD', 'NITS', 'SSD', 'SSD', 'SSD', 'SSD', 'SSD', 'MEMORY', 'SSD', 'SYSTEM', 'SSD', 'SSD', 'SSD', 'SSD', 'SSD', 'HDD', 'SSD', 'SSD', 'SSD', 'POSITION', 'SSD', 'SSD', 'SSD', 'SSD', 'SSD', 'SSD', 'SSD', 'SSD', 'SSD', 'SSD', 'SSD', 'SSD', 'PEN', 'SSD', 'SSD', 'SSD', 'SSD', 'SSD', 'SSD', 'SSD', 'SSD', 'SSD', 'SSD', 'BORDER', 'SSD', 'SSD', 'SSD', 'SSD', 'SSD', 'SSD', 'SSD', 'SSD', 'SSD', 'SSD', 'SSD', 'SSD', 'SSD', 'SSD', 'SSD', 'SSD', 'SSD', 'SSD', 'SSD', 'SSD', 'SSD', 'SSD', 'SSD', 'SSD', 'SSD', 'SSD', 'SSD', 'SSD', 'SSD', 'SSD', 'SSD', 'SSD', 'SSD', 'SSD', 'SSD', 'SSD', 'SSD', 'SSD', 'SSD', 'SSD', 'SSD', 'SSD', 'SSD', 'SSD', 'SSD', 'POWER', 'SSD', 'SSD', 'SSD', 'SSD', 'SSD', 'SSD', 'SYSTEM', 'SSD', 'SSD', 'SSD', 'SSD', 'ORANGE', 'SSD', 'SSD', 'SSD', 'SSD', 'SSD', 'SSD', 'SSD', 'SSD', 'SSD', 'SSD', 'SSD', 'SSD', 'SSD', 'SSD', 'ORANGE', 'SSD', 'SSD', 'SSD', 'SSD', 'SSD', 'SSD', 'ORANGE', 'SSD', 'SSD', 'SSD', 'SSD', 'SSD', 'BORDER', 'SSD', 'SSD', 'SSD', 'SSD', 'SYSTEM', '2021', 'SSD', 'SSD', 'SSD', 'SSD', 'SSD', 'SSD', 'DISPLAY', 'SSD', 'SSD', 'SSD', 'SSD', 'SSD', 'SSD', 'POWER', 'SSD', 'SSD', 'ORANGE', 'SSD', 'PEN', 'SSD', 'SSD', 'SSD', 'SSD', 'SSD', 'SSD', 'LOADING', 'SSD', 'SSD', 'SSD', 'SSD', 'SSD', 'SSD', 'SSD', 'SSD', 'SSD', 'SSD', 'SSD', 'SSD', 'SSD', 'SSD', 'ORANGE', 'SSD', 'SSD', 'SSD', 'SSD', 'SSD', 'HDD', 'SSD', 'SSD', 'SSD', 'SSD', 'SSD', 'SSD', 'SSD', 'SSD', 'SSD', 'SSD', 'SSD', 'SSD', 'SSD', 'SSD', 'SSD', 'SSD', 'SSD', 'SSD', 'SSD', 'SSD', 'SSD', 'SSD', 'SSD', 'DISPLAY', 'SSD', 'SSD', 'SSD', 'SSD', 'SSD', 'SSD', 'SSD', 'SSD', 'SSD', 'SSD', 'SSD', 'SSD', 'SSD', 'SSD', 'SSD', 'SSD', 'SSD', 'SSD', 'POWER', 'SSD', 'SSD', 'SSD', 'SSD', 'SSD', 'SSD', 'SSD', 'SSD', 'DISPLAY', 'SSD', 'SSD', 'SSD', 'SSD', 'SSD', 'SSD', 'SSD', 'SSD', 'SSD', 'SYSTEM', 'SSD', 'SSD', 'SSD', 'SSD', 'SSD', 'SSD', 'SSD', 'SSD', 'DISPLAY', 'SSD', 'SSD', 'SSD', 'SSD', 'SSD', 'SSD', 'SSD', 'SSD', 'SSD', 'SSD', 'SSD', 'SSD', 'SSD', 'SSD', 'SSD', 'SSD', 'SSD', 'SSD', 'SSD', 'SSD', 'SSD', 'SSD', 'SSD', 'SSD', 'SSD', 'SSD', 'SSD', 'SSD', 'SSD', 'SSD', 'SSD', 'SSD', 'HDD', 'SSD', 'SSD', 'SSD', 'SSD', 'SSD', 'SSD', 'SSD', 'SSD', 'HDD', 'SSD', 'POWER', 'DISPLAY', 'SSD', 'SSD', 'SSD', 'SSD', 'SSD', 'SSD', 'SSD', 'SSD', 'SYSTEM', 'SSD', 'SYSTEM', 'SSD', 'SSD', 'SSD', 'SSD', 'SSD', 'SSD', 'SSD', 'SSD', 'SSD', 'GEN)', 'SSD', 'SSD', 'SSD', 'SSD', 'SSD', 'GEN)', 'SSD', 'SSD', 'SSD', 'SSD', 'SSD', 'SSD', 'SSD', 'SSD', 'SSD', 'SSD', 'SSD', 'SYSTEM', 'SSD', 'SSD', 'SSD', 'SSD', 'SSD', 'SSD', 'SSD', 'HDD', 'SSD', 'SLOT', 'DRIVE', 'SSD', 'SSD', 'SSD', 'KEY', 'SSD', 'SSD', 'SSD', 'SSD', 'SSD', 'SSD', 'SSD', 'SSD', 'SSD', 'SSD', 'SSD', 'SSD', 'SSD', 'SSD', 'SSD', 'SSD', 'SSD', 'SSD', 'SSD', 'HDD', 'SSD', 'HDD', 'SSD', 'SSD', 'SSD', 'SSD', 'SSD', 'SSD', 'SSD', 'SSD', 'SSD', 'SSD', 'SSD', 'SSD', 'SSD', 'SSD', 'SSD', 'SSD', 'DISPLAY', 'SSD', 'SSD', 'SSD', 'SSD', 'SSD', 'SSD', 'SSD', 'SSD', 'SSD', 'SSD', 'SSD', 'SSD', 'SSD', 'SSD', 'SSD', 'SSD', 'SSD', 'SSD', 'SSD', 'SSD', 'SSD', 'SSD', 'SSD', 'SSD', 'SUBSCRIPTION', 'SSD', 'SSD', 'SSD', 'SSD', 'SSD', 'SSD', 'SSD', 'SSD', 'HDD', 'SSD', 'SSD', 'SSD', 'BORDER', 'SSD', 'SSD', 'SSD', 'SSD', 'SSD', 'SSD', 'SSD', 'SSD', 'SSD', 'SSD', 'SSD', 'SSD', 'SSD', 'SSD', 'SSD', 'SSD', 'SSD', 'SSD', 'SSD', 'DISPLAY', 'SSD', 'SSD', 'SSD', 'SSD', 'SSD', 'SSD', 'HDD', 'SSD', 'DISPLAY', 'SSD', 'SSD', 'SSD', 'SSD', 'SSD', 'DISPLAY', 'SSD', 'SSD', 'SSD', 'SSD', 'SSD', 'SSD', 'SSD', 'SSD', 'SSD', 'SSD', 'SSD', 'SSD', 'SSD', 'SSD', 'SSD', 'SSD', 'SSD', 'SSD', 'SSD', 'SSD', 'SSD', 'SSD', 'SSD', 'SSD', 'SSD', 'SSD', 'SSD', 'SSD', 'SSD', 'HDD', 'SSD', 'SSD', 'SSD', 'SSD', 'SSD', 'SSD', 'SSD', 'SSD', 'SSD', 'HDD', 'HDD', 'SSD', 'SSD', 'SSD', 'SOUND', 'SSD', 'SSD', 'HDD', 'SSD', 'SSD', 'SSD', 'SSD', 'SSD', 'SSD', 'HDD', 'RAM', 'SSD', 'SSD', 'SSD', 'SSD', 'SSD', 'SSD', 'SSD', 'SSD', 'SSD', 'SSD', 'SSD', 'SSD', 'SSD', 'HDD', 'SSD', 'SSD', 'SSD', 'SSD', 'SSD', 'SSD', 'SSD', 'SSD', 'SSD', 'HDD', 'SSD', 'SSD', 'SSD', 'SYSTEM', 'SSD', 'SSD', 'SSD', 'SSD', 'SSD', 'SSD', 'HDD', 'SSD', 'SSD', 'SSD', 'SSD', 'SSD', 'SSD', 'SSD', 'SSD', 'SSD', 'SSD', 'SSD', 'SSD', 'SSD', 'SSD', 'SSD', 'SSD', 'SSD', 'HDD', 'SSD', 'SSD', 'SYSTEM', 'SSD', 'SSD', 'HDD', 'HDD', 'SSD', 'GRAPHICS', 'SSD']\n"
     ]
    }
   ],
   "source": [
    "st=[]\n",
    "for i in df['Storage Capacity']:\n",
    "    w=i.split(' ')\n",
    "    st.append(w[-1].upper())\n",
    "print(st)    \n",
    "    "
   ]
  },
  {
   "cell_type": "code",
   "execution_count": 13,
   "id": "ffb6c193",
   "metadata": {},
   "outputs": [
    {
     "data": {
      "text/plain": [
       "Index(['Title', 'Rating', 'Price', 'Processor', 'RAM', 'Display Size',\n",
       "       'Storage Capacity', 'Brand'],\n",
       "      dtype='object')"
      ]
     },
     "execution_count": 13,
     "metadata": {},
     "output_type": "execute_result"
    }
   ],
   "source": [
    "df.columns"
   ]
  },
  {
   "cell_type": "code",
   "execution_count": 14,
   "id": "3dc42af8",
   "metadata": {},
   "outputs": [],
   "source": [
    "df['Storage_Type']=st"
   ]
  },
  {
   "cell_type": "code",
   "execution_count": 15,
   "id": "2c65cea3",
   "metadata": {},
   "outputs": [],
   "source": [
    "df.rename(columns={'Storage_Type':'SSD_Availability'},inplace=True)"
   ]
  },
  {
   "cell_type": "code",
   "execution_count": 16,
   "id": "65eb66a2",
   "metadata": {},
   "outputs": [
    {
     "data": {
      "text/plain": [
       "SSD             886\n",
       "HDD             20 \n",
       "SYSTEM          13 \n",
       "DISPLAY         13 \n",
       "BORDER          7  \n",
       "POWER           7  \n",
       "2021            6  \n",
       "PEN             5  \n",
       "ORANGE          5  \n",
       "DRIVE           4  \n",
       "GEN)            3  \n",
       "READER          2  \n",
       "POSITION        2  \n",
       "RAM             2  \n",
       "SLOT            1  \n",
       "SOUND           1  \n",
       "SUBSCRIPTION    1  \n",
       "KEY             1  \n",
       "MEMORY          1  \n",
       "LOADING         1  \n",
       "PROCESSOR       1  \n",
       "NITS            1  \n",
       "GRAPHICS        1  \n",
       "Name: SSD_Availability, dtype: int64"
      ]
     },
     "execution_count": 16,
     "metadata": {},
     "output_type": "execute_result"
    }
   ],
   "source": [
    "df['SSD_Availability'].value_counts()"
   ]
  },
  {
   "cell_type": "code",
   "execution_count": 17,
   "id": "c89981a0",
   "metadata": {},
   "outputs": [],
   "source": [
    "df['SSD_Availability']=df['SSD_Availability'].replace('HDD','NO')\n",
    "df['SSD_Availability']=df['SSD_Availability'].replace('GRAPHICS','NO')\n",
    "df['SSD_Availability']=df['SSD_Availability'].replace('SOUND','NO')\n",
    "df['SSD_Availability']=df['SSD_Availability'].replace('DISPLAY','NO')"
   ]
  },
  {
   "cell_type": "code",
   "execution_count": 18,
   "id": "cecaf99f",
   "metadata": {},
   "outputs": [],
   "source": [
    "df['SSD_Availability']=df['SSD_Availability'].replace('SSD','YES')\n",
    "df['SSD_Availability']=df['SSD_Availability'].replace('NITS','YES')\n",
    "df['SSD_Availability']=df['SSD_Availability'].replace('PROCESSOR','YES')\n",
    "df['SSD_Availability']=df['SSD_Availability'].replace('LOADING','YES')\n",
    "df['SSD_Availability']=df['SSD_Availability'].replace('MEMORY','YES')\n",
    "df['SSD_Availability']=df['SSD_Availability'].replace('KEY','YES')\n",
    "df['SSD_Availability']=df['SSD_Availability'].replace('SUBSCRIPTION','YES')\n",
    "df['SSD_Availability']=df['SSD_Availability'].replace('SLOT','YES')\n",
    "df['SSD_Availability']=df['SSD_Availability'].replace('POSITION','YES')\n",
    "df['SSD_Availability']=df['SSD_Availability'].replace('SYSTEM','YES')\n",
    "df['SSD_Availability']=df['SSD_Availability'].replace('READER','YES')\n",
    "df['SSD_Availability']=df['SSD_Availability'].replace('GEN)','YES')\n",
    "df['SSD_Availability']=df['SSD_Availability'].replace('DRIVE','YES')\n",
    "df['SSD_Availability']=df['SSD_Availability'].replace('ORANGE','YES')\n",
    "df['SSD_Availability']=df['SSD_Availability'].replace('PEN','YES')\n",
    "df['SSD_Availability']=df['SSD_Availability'].replace('2021','YES')\n",
    "df['SSD_Availability']=df['SSD_Availability'].replace('BORDER','YES')\n",
    "df['SSD_Availability']=df['SSD_Availability'].replace('POWER','YES')"
   ]
  },
  {
   "cell_type": "code",
   "execution_count": 61,
   "id": "b799c107",
   "metadata": {},
   "outputs": [],
   "source": [
    "df.at[334,'SSD_Availability']='YES'\n",
    "df.at[920,'SSD_Availability']='NO'\n",
    "df.at[976,'SSD_Availability']='NO'"
   ]
  },
  {
   "cell_type": "code",
   "execution_count": 20,
   "id": "6f3007bc",
   "metadata": {},
   "outputs": [
    {
     "data": {
      "text/plain": [
       "YES    948\n",
       "NO     36 \n",
       "Name: SSD_Availability, dtype: int64"
      ]
     },
     "execution_count": 20,
     "metadata": {},
     "output_type": "execute_result"
    }
   ],
   "source": [
    "df['SSD_Availability'].value_counts()"
   ]
  },
  {
   "cell_type": "code",
   "execution_count": 23,
   "id": "acb6f001",
   "metadata": {},
   "outputs": [],
   "source": [
    "l=[]\n",
    "for i in df['Storage Capacity']:\n",
    "    w=i.split(' ')\n",
    "    l.append(w[0])\n",
    "\n",
    "\n",
    "l1=list(df['SSD_Availability'].values)"
   ]
  },
  {
   "cell_type": "code",
   "execution_count": 24,
   "id": "9f8b4497",
   "metadata": {},
   "outputs": [],
   "source": [
    "ssd_capacity=[]\n",
    "for i in range(len(l1)):\n",
    "    if l1[i]=='YES':\n",
    "        ssd_capacity.append(l[i])\n",
    "    else:\n",
    "        ssd_capacity.append(0)"
   ]
  },
  {
   "cell_type": "code",
   "execution_count": 25,
   "id": "bd343616",
   "metadata": {},
   "outputs": [],
   "source": [
    "df['SSD_Capacity']=ssd_capacity"
   ]
  },
  {
   "cell_type": "code",
   "execution_count": 26,
   "id": "af4b1252",
   "metadata": {},
   "outputs": [
    {
     "data": {
      "text/plain": [
       "512               526\n",
       "1                 227\n",
       "256               111\n",
       "0                 36 \n",
       "Display:          17 \n",
       "2                 14 \n",
       "64                13 \n",
       "Game              7  \n",
       "128               7  \n",
       "Software:         6  \n",
       "Light             4  \n",
       "Intel             3  \n",
       "Graphics:         2  \n",
       "Tobii-eye         2  \n",
       "AMD               1  \n",
       "16                1  \n",
       "Graphics:Intel    1  \n",
       "4                 1  \n",
       "Software          1  \n",
       "2x                1  \n",
       "Per-Key           1  \n",
       "McAfee            1  \n",
       "8                 1  \n",
       "Name: SSD_Capacity, dtype: int64"
      ]
     },
     "execution_count": 26,
     "metadata": {},
     "output_type": "execute_result"
    }
   ],
   "source": [
    "df['SSD_Capacity'].value_counts()"
   ]
  },
  {
   "cell_type": "code",
   "execution_count": 38,
   "id": "abd63d49",
   "metadata": {},
   "outputs": [],
   "source": [
    "df['SSD_Capacity']=df['SSD_Capacity'].replace('8',8)\n",
    "df['SSD_Capacity']=df['SSD_Capacity'].replace('McAfee',128)\n",
    "df['SSD_Capacity']=df['SSD_Capacity'].replace('Per-Key',512)\n",
    "df['SSD_Capacity']=df['SSD_Capacity'].replace('2x',256)\n",
    "df['SSD_Capacity']=df['SSD_Capacity'].replace('Software',512)\n",
    "df['SSD_Capacity']=df['SSD_Capacity'].replace('4',4096)\n",
    "df['SSD_Capacity']=df['SSD_Capacity'].replace('Graphics:Intel',512)\n",
    "df['SSD_Capacity']=df['SSD_Capacity'].replace('16',1024)\n",
    "df['SSD_Capacity']=df['SSD_Capacity'].replace('AMD',512)\n"
   ]
  },
  {
   "cell_type": "code",
   "execution_count": 39,
   "id": "f91f3acb",
   "metadata": {},
   "outputs": [],
   "source": [
    "df.at[273,'SSD_Capacity']=512\n",
    "df.at[419,'SSD_Capacity']=1024\n",
    "df.at[216,'SSD_Capacity']=256\n",
    "df.at[276,'SSD_Capacity']=512"
   ]
  },
  {
   "cell_type": "code",
   "execution_count": 40,
   "id": "ad038268",
   "metadata": {},
   "outputs": [],
   "source": [
    "df['SSD_Capacity']=df['SSD_Capacity'].replace('128',128)\n",
    "df['SSD_Capacity']=df['SSD_Capacity'].replace('512',512)\n",
    "df['SSD_Capacity']=df['SSD_Capacity'].replace('256',256)\n",
    "df['SSD_Capacity']=df['SSD_Capacity'].replace('2',2048)\n"
   ]
  },
  {
   "cell_type": "code",
   "execution_count": 27,
   "id": "f2b39344",
   "metadata": {},
   "outputs": [],
   "source": [
    "df.at[183,'SSD_Capacity']=512\n",
    "df.at[307,'SSD_Capacity']=1024\n",
    "df.at[337,'SSD_Capacity']=1024\n",
    "df.at[351,'SSD_Capacity']=512\n",
    "\n",
    "df.at[409,'SSD_Capacity']=1024\n",
    "df.at[496,'SSD_Capacity']=512\n",
    "df.at[534,'SSD_Capacity']=1024\n",
    "df.at[644,'SSD_Capacity']=256\n",
    "\n",
    "df.at[707,'SSD_Capacity']=256\n",
    "df.at[709,'SSD_Capacity']=512\n",
    "df.at[737,'SSD_Capacity']=1024\n",
    "df.at[948,'SSD_Capacity']=256\n",
    "\n",
    "df.at[976,'SSD_Capacity']=0"
   ]
  },
  {
   "cell_type": "code",
   "execution_count": 28,
   "id": "cd1d7610",
   "metadata": {},
   "outputs": [],
   "source": [
    "df.at[9,'SSD_Capacity']=256\n",
    "df.at[113,'SSD_Capacity']=256\n",
    "df.at[126,'SSD_Capacity']=256\n",
    "df.at[135,'SSD_Capacity']=256\n",
    "\n",
    "df.at[137,'SSD_Capacity']=256\n",
    "df.at[160,'SSD_Capacity']=512\n",
    "df.at[294,'SSD_Capacity']=256\n",
    "df.at[135,'SSD_Capacity']=256\n",
    "\n",
    "df.at[368,'SSD_Capacity']=256\n",
    "df.at[447,'SSD_Capacity']=256\n",
    "df.at[464,'SSD_Capacity']=256\n",
    "df.at[499,'SSD_Capacity']=256\n",
    "\n",
    "df.at[517,'SSD_Capacity']=256\n",
    "df.at[553,'SSD_Capacity']=256\n",
    "df.at[594,'SSD_Capacity']=256\n",
    "df.at[642,'SSD_Capacity']=256\n",
    "\n",
    "df.at[659,'SSD_Capacity']=128\n",
    "df.at[672,'SSD_Capacity']=256\n",
    "df.at[735,'SSD_Capacity']=256\n",
    "df.at[746,'SSD_Capacity']=512\n",
    "\n",
    "df.at[830,'SSD_Capacity']=256\n",
    "df.at[835,'SSD_Capacity']=256\n",
    "df.at[859,'SSD_Capacity']=128\n",
    "df.at[925,'SSD_Capacity']=256\n",
    "\n",
    "df.at[935,'SSD_Capacity']=256\n",
    "df.at[936,'SSD_Capacity']=256\n",
    "df.at[945,'SSD_Capacity']=256\n",
    "df.at[962,'SSD_Capacity']=256\n",
    "\n",
    "df.at[967,'SSD_Capacity']=256\n",
    "df.at[970,'SSD_Capacity']=256\n",
    "\n"
   ]
  },
  {
   "cell_type": "code",
   "execution_count": 42,
   "id": "97d4fa14",
   "metadata": {},
   "outputs": [],
   "source": [
    "df['SSD_Capacity']=df['SSD_Capacity'].replace('1',1024)\n",
    "df['SSD_Capacity']=df['SSD_Capacity'].replace('Intel',512)"
   ]
  },
  {
   "cell_type": "code",
   "execution_count": 30,
   "id": "b2888804",
   "metadata": {},
   "outputs": [],
   "source": [
    "df.at[106,'SSD_Capacity']=512\n",
    "df.at[138,'SSD_Capacity']=256\n",
    "df.at[329,'SSD_Capacity']=512\n",
    "df.at[748,'SSD_Capacity']=256\n",
    "df.at[489,'SSD_Capacity']=1024"
   ]
  },
  {
   "cell_type": "code",
   "execution_count": 31,
   "id": "45ecf48f",
   "metadata": {},
   "outputs": [],
   "source": [
    "df['SSD_Capacity']=df['SSD_Capacity'].replace('Game',512)"
   ]
  },
  {
   "cell_type": "code",
   "execution_count": 32,
   "id": "05b622ba",
   "metadata": {},
   "outputs": [],
   "source": [
    "df.at[348,'SSD_Capacity']=512\n",
    "df.at[535,'SSD_Capacity']=512"
   ]
  },
  {
   "cell_type": "code",
   "execution_count": 33,
   "id": "eb72a2e2",
   "metadata": {},
   "outputs": [],
   "source": [
    "df['SSD_Capacity']=df['SSD_Capacity'].replace('Software:',256)"
   ]
  },
  {
   "cell_type": "code",
   "execution_count": 56,
   "id": "cf92a246",
   "metadata": {},
   "outputs": [],
   "source": [
    "df.at[829,'SSD_Capacity']=256\n",
    "df.at[443,'SSD_Capacity']=256\n",
    "df.at[93,'SSD_Capacity']=256\n",
    "df.at[17,'SSD_Capacity']=256\n",
    "df.at[96,'SSD_Capacity']=1024\n",
    "df.at[976,'SSD_Capacity']="
   ]
  },
  {
   "cell_type": "code",
   "execution_count": 57,
   "id": "f357dc7b",
   "metadata": {},
   "outputs": [],
   "source": [
    "df['SSD_Capacity']=df['SSD_Capacity'].replace('Display:',512)"
   ]
  },
  {
   "cell_type": "code",
   "execution_count": 45,
   "id": "997fb61c",
   "metadata": {},
   "outputs": [
    {
     "data": {
      "text/plain": [
       "512     565\n",
       "1024    206\n",
       "256     150\n",
       "0       37 \n",
       "2048    14 \n",
       "128     10 \n",
       "4096    1  \n",
       "8       1  \n",
       "Name: SSD_Capacity, dtype: int64"
      ]
     },
     "execution_count": 45,
     "metadata": {},
     "output_type": "execute_result"
    }
   ],
   "source": [
    "df['SSD_Capacity'].value_counts()"
   ]
  },
  {
   "cell_type": "code",
   "execution_count": 47,
   "id": "d61ad4e0",
   "metadata": {},
   "outputs": [
    {
     "data": {
      "text/plain": [
       "Title               object \n",
       "Rating              float64\n",
       "Price               object \n",
       "Processor           object \n",
       "RAM                 object \n",
       "Display Size        object \n",
       "Storage Capacity    object \n",
       "Brand               object \n",
       "SSD_Availability    object \n",
       "SSD_Capacity        int64  \n",
       "dtype: object"
      ]
     },
     "execution_count": 47,
     "metadata": {},
     "output_type": "execute_result"
    }
   ],
   "source": [
    "df.dtypes"
   ]
  },
  {
   "cell_type": "code",
   "execution_count": 63,
   "id": "b296b3ca",
   "metadata": {},
   "outputs": [
    {
     "data": {
      "text/html": [
       "<div>\n",
       "<style scoped>\n",
       "    .dataframe tbody tr th:only-of-type {\n",
       "        vertical-align: middle;\n",
       "    }\n",
       "\n",
       "    .dataframe tbody tr th {\n",
       "        vertical-align: top;\n",
       "    }\n",
       "\n",
       "    .dataframe thead th {\n",
       "        text-align: right;\n",
       "    }\n",
       "</style>\n",
       "<table border=\"1\" class=\"dataframe\">\n",
       "  <thead>\n",
       "    <tr style=\"text-align: right;\">\n",
       "      <th></th>\n",
       "      <th>Title</th>\n",
       "      <th>Storage Capacity</th>\n",
       "      <th>SSD_Availability</th>\n",
       "      <th>SSD_Capacity</th>\n",
       "    </tr>\n",
       "  </thead>\n",
       "  <tbody>\n",
       "    <tr>\n",
       "      <th>48</th>\n",
       "      <td>ASUS Chromebook Flip Touch Celeron Dual Core - (4 GB/32 GB EMMC Storage/Chrome OS) C214MA-BU0704 Chrom...</td>\n",
       "      <td>29.46 cm (11.6 inch) Touchscreen Display</td>\n",
       "      <td>NO</td>\n",
       "      <td>0</td>\n",
       "    </tr>\n",
       "    <tr>\n",
       "      <th>156</th>\n",
       "      <td>HP Chromebook MediaTek Kompanio 500 - (4 GB/64 GB EMMC Storage/Chrome OS) 11a-na0006MU Chromebook</td>\n",
       "      <td>29.46 cm (11.6 inch) Touchscreen Display</td>\n",
       "      <td>NO</td>\n",
       "      <td>0</td>\n",
       "    </tr>\n",
       "    <tr>\n",
       "      <th>157</th>\n",
       "      <td>ASUS EeeBook 12 Celeron Dual Core - (4 GB/64 GB EMMC Storage/Windows 11 Home) E210MA-GJ012W Thin and L...</td>\n",
       "      <td>29.46 cm (11.6 Inch) Display</td>\n",
       "      <td>NO</td>\n",
       "      <td>0</td>\n",
       "    </tr>\n",
       "    <tr>\n",
       "      <th>238</th>\n",
       "      <td>ASUS Chromebook Celeron Dual Core - (4 GB/64 GB EMMC Storage/Chrome OS) C523NA-BR0300| C523NA-BR0476 C...</td>\n",
       "      <td>39.62 cm (15.6 inch) Display</td>\n",
       "      <td>NO</td>\n",
       "      <td>0</td>\n",
       "    </tr>\n",
       "    <tr>\n",
       "      <th>415</th>\n",
       "      <td>DELL Vostro Core i3 10th Gen - (8 GB/1 TB HDD/Windows 10 Home) Vostro 3401 Thin and Light Laptop</td>\n",
       "      <td>1 TB HDD</td>\n",
       "      <td>NO</td>\n",
       "      <td>0</td>\n",
       "    </tr>\n",
       "    <tr>\n",
       "      <th>542</th>\n",
       "      <td>ASUS Chromebook Celeron Dual Core - (4 GB/64 GB EMMC Storage/Chrome OS) C423NA-EC0521 Chromebook</td>\n",
       "      <td>35.56 cm (14 inch) Touchscreen Display</td>\n",
       "      <td>NO</td>\n",
       "      <td>0</td>\n",
       "    </tr>\n",
       "    <tr>\n",
       "      <th>582</th>\n",
       "      <td>Lenovo Ryzen 3 Dual Core 3250U - (4 GB/1 TB HDD/Windows 10 Home) V15 -ADA Laptop</td>\n",
       "      <td>1 TB HDD</td>\n",
       "      <td>NO</td>\n",
       "      <td>0</td>\n",
       "    </tr>\n",
       "    <tr>\n",
       "      <th>606</th>\n",
       "      <td>Lenovo Intel Celeron Dual Core - (4 GB/64 GB EMMC Storage/Chrome OS) 14IGL05 Thin and Light Laptop</td>\n",
       "      <td>35.56 cm (14 inch) Touchscreen Display</td>\n",
       "      <td>NO</td>\n",
       "      <td>0</td>\n",
       "    </tr>\n",
       "    <tr>\n",
       "      <th>634</th>\n",
       "      <td>Lenovo IdeaPad 3 Chromebook Intel Celeron Dual Core - (4 GB/64 GB EMMC Storage/Chrome OS) ideapad 3 cb...</td>\n",
       "      <td>29.46 cm (11.6 Inch) Display</td>\n",
       "      <td>NO</td>\n",
       "      <td>0</td>\n",
       "    </tr>\n",
       "    <tr>\n",
       "      <th>653</th>\n",
       "      <td>Primebook 4G Android Based MediaTek MT8788 - (4 GB/64 GB EMMC Storage/Prime OS) 4G Thin and Light Lapt...</td>\n",
       "      <td>29.46 cm (11.6 Inch) Display</td>\n",
       "      <td>NO</td>\n",
       "      <td>0</td>\n",
       "    </tr>\n",
       "    <tr>\n",
       "      <th>686</th>\n",
       "      <td>Lenovo Ideapad 330s Core i5 8th Gen - (4 GB/1 TB HDD/Windows 10 Home/4 GB Graphics) 330S-15IKB Thin an...</td>\n",
       "      <td>1 TB HDD</td>\n",
       "      <td>NO</td>\n",
       "      <td>0</td>\n",
       "    </tr>\n",
       "    <tr>\n",
       "      <th>695</th>\n",
       "      <td>MSI GF63 Thin Core i5 10th Gen - (8 GB/1 TB HDD/Windows 10 Home/4 GB Graphics/NVIDIA GeForce GTX 1650 ...</td>\n",
       "      <td>1 TB HDD</td>\n",
       "      <td>NO</td>\n",
       "      <td>0</td>\n",
       "    </tr>\n",
       "    <tr>\n",
       "      <th>698</th>\n",
       "      <td>ASUS Chromebook Flip Touch Celeron Dual Core - (4 GB/64 GB EMMC Storage/Chrome OS) C523NA-A20303 Chrom...</td>\n",
       "      <td>39.62 cm (15.6 inch) Touchscreen Display</td>\n",
       "      <td>NO</td>\n",
       "      <td>0</td>\n",
       "    </tr>\n",
       "    <tr>\n",
       "      <th>745</th>\n",
       "      <td>DELL Inspiron Core i3 11th Gen - (8 GB/1 TB HDD/Windows 10) INSPIRON 3501 Thin and Light Laptop</td>\n",
       "      <td>1 TB HDD</td>\n",
       "      <td>NO</td>\n",
       "      <td>0</td>\n",
       "    </tr>\n",
       "    <tr>\n",
       "      <th>772</th>\n",
       "      <td>HP Core i3 10th Gen - (4 GB/1 TB HDD/Windows 10 Home) 1S5E9PA#ACJ Business Laptop</td>\n",
       "      <td>1 TB HDD</td>\n",
       "      <td>NO</td>\n",
       "      <td>0</td>\n",
       "    </tr>\n",
       "    <tr>\n",
       "      <th>774</th>\n",
       "      <td>ASUS Pentium Quad Core - (4 GB/1 TB HDD/Windows 10 Home) X543MA-DM101T Laptop</td>\n",
       "      <td>1 TB HDD</td>\n",
       "      <td>NO</td>\n",
       "      <td>0</td>\n",
       "    </tr>\n",
       "    <tr>\n",
       "      <th>791</th>\n",
       "      <td>Lenovo Intel Celeron Dual Core - (4 GB/64 GB EMMC Storage/Chrome OS) 14IGL05 Thin and Light Laptop</td>\n",
       "      <td>35.56 cm (14 inch) Touchscreen Display</td>\n",
       "      <td>NO</td>\n",
       "      <td>0</td>\n",
       "    </tr>\n",
       "    <tr>\n",
       "      <th>825</th>\n",
       "      <td>HP 15s Core i3 10th Gen - (8 GB/1 TB HDD/Windows 10 Home) 15s-DU1066TU Thin and Light Laptop</td>\n",
       "      <td>1 TB HDD</td>\n",
       "      <td>NO</td>\n",
       "      <td>0</td>\n",
       "    </tr>\n",
       "    <tr>\n",
       "      <th>849</th>\n",
       "      <td>Primebook 4G Android Based MediaTek MT8788 - (4 GB/64 GB EMMC Storage/Prime OS) 4G Thin and Light Lapt...</td>\n",
       "      <td>29.46 cm (11.6 Inch) Display</td>\n",
       "      <td>NO</td>\n",
       "      <td>0</td>\n",
       "    </tr>\n",
       "    <tr>\n",
       "      <th>856</th>\n",
       "      <td>ASUS ExpertBook P1 Core i5 10th Gen - (8 GB/1 TB HDD/Windows 10 Pro) ExpertBook P1 P1440FA Thin and Li...</td>\n",
       "      <td>1 TB HDD</td>\n",
       "      <td>NO</td>\n",
       "      <td>0</td>\n",
       "    </tr>\n",
       "    <tr>\n",
       "      <th>858</th>\n",
       "      <td>HP Chromebook MediaTek Kompanio 500 - (4 GB/64 GB EMMC Storage/Chrome OS) 11a-na0004MU Chromebook</td>\n",
       "      <td>29.46 cm (11.6 inch) Touchscreen Display</td>\n",
       "      <td>NO</td>\n",
       "      <td>0</td>\n",
       "    </tr>\n",
       "    <tr>\n",
       "      <th>864</th>\n",
       "      <td>Primebook 4G Android Based MediaTek MT8788 - (4 GB/64 GB EMMC Storage/Prime OS) 4G Thin and Light Lapt...</td>\n",
       "      <td>29.46 cm (11.6 Inch) Display</td>\n",
       "      <td>NO</td>\n",
       "      <td>0</td>\n",
       "    </tr>\n",
       "    <tr>\n",
       "      <th>894</th>\n",
       "      <td>Lenovo Ideapad 330s Core i5 8th Gen - (4 GB/1 TB HDD/Windows 10 Home/4 GB Graphics) 330S-15IKB Thin an...</td>\n",
       "      <td>1 TB HDD</td>\n",
       "      <td>NO</td>\n",
       "      <td>0</td>\n",
       "    </tr>\n",
       "    <tr>\n",
       "      <th>904</th>\n",
       "      <td>MSI GF63 Thin Core i5 10th Gen - (8 GB/1 TB HDD/Windows 10 Home/4 GB Graphics/NVIDIA GeForce GTX 1650 ...</td>\n",
       "      <td>1 TB HDD</td>\n",
       "      <td>NO</td>\n",
       "      <td>0</td>\n",
       "    </tr>\n",
       "    <tr>\n",
       "      <th>905</th>\n",
       "      <td>acer Aspire 5 Core i5 8th Gen - (8 GB/1 TB HDD/Windows 10 Home/2 GB Graphics) A515-52G Thin and Light ...</td>\n",
       "      <td>1 TB HDD</td>\n",
       "      <td>NO</td>\n",
       "      <td>0</td>\n",
       "    </tr>\n",
       "    <tr>\n",
       "      <th>909</th>\n",
       "      <td>acer Nitro 5 Spin Core i5 8th Gen - (8 GB/1 TB HDD/Windows 10 Home/4 GB Graphics) NP515-51 Laptop</td>\n",
       "      <td>Dolby Plus Acer TrueHarmony Technology Offers Immersive Sound</td>\n",
       "      <td>NO</td>\n",
       "      <td>0</td>\n",
       "    </tr>\n",
       "    <tr>\n",
       "      <th>912</th>\n",
       "      <td>DELL Vostro 3000 Core i5 7th Gen - (8 GB/1 TB HDD/Ubuntu/2 GB Graphics) 3568 Laptop</td>\n",
       "      <td>1 TB HDD</td>\n",
       "      <td>NO</td>\n",
       "      <td>0</td>\n",
       "    </tr>\n",
       "    <tr>\n",
       "      <th>919</th>\n",
       "      <td>acer Aspire 5 Core i5 8th Gen - (8 GB + 16 GB Optane/1 TB HDD/Windows 10 Home/2 GB Graphics) A515-52G-...</td>\n",
       "      <td>1 TB HDD</td>\n",
       "      <td>NO</td>\n",
       "      <td>0</td>\n",
       "    </tr>\n",
       "    <tr>\n",
       "      <th>920</th>\n",
       "      <td>MSI GL Core i7 7th Gen - (8 GB/1 TB HDD/DOS/2 GB Graphics/NVIDIA GeForce GTX 1050) GL62M 7RDX-1878XIN ...</td>\n",
       "      <td>8 GB DDR4 RAM</td>\n",
       "      <td>NO</td>\n",
       "      <td>0</td>\n",
       "    </tr>\n",
       "    <tr>\n",
       "      <th>934</th>\n",
       "      <td>DELL Inspiron Core i3 10th Gen - (8 GB/1 TB HDD/Windows 10 Home) Inspiron 3501 Laptop</td>\n",
       "      <td>1 TB HDD</td>\n",
       "      <td>NO</td>\n",
       "      <td>0</td>\n",
       "    </tr>\n",
       "    <tr>\n",
       "      <th>944</th>\n",
       "      <td>DELL Inspiron Core i3 10th Gen - (8 GB/1 TB HDD/Windows 10 Home) Inspiron 3501 Laptop</td>\n",
       "      <td>1 TB HDD</td>\n",
       "      <td>NO</td>\n",
       "      <td>0</td>\n",
       "    </tr>\n",
       "    <tr>\n",
       "      <th>955</th>\n",
       "      <td>ASUS ExpertBook P2 Core i5 10th Gen - (8 GB/1 TB HDD/Windows 10 Pro/2 GB Graphics) ExpertBook P2 P2451...</td>\n",
       "      <td>1 TB HDD</td>\n",
       "      <td>NO</td>\n",
       "      <td>0</td>\n",
       "    </tr>\n",
       "    <tr>\n",
       "      <th>973</th>\n",
       "      <td>Lenovo B50-70 Notebook (4th Gen Ci5/ 8GB/ 1TB/ Win8/ 2GB Graph) (59-427747)</td>\n",
       "      <td>1 TB HDD</td>\n",
       "      <td>NO</td>\n",
       "      <td>0</td>\n",
       "    </tr>\n",
       "    <tr>\n",
       "      <th>976</th>\n",
       "      <td>MSI GF63 Thin Core i5 9th Gen - (8 GB/1 TB HDD/Windows 10 Home/4 GB Graphics/NVIDIA GeForce GTX 1650 T...</td>\n",
       "      <td>64 bit Windows 10 Operating System</td>\n",
       "      <td>NO</td>\n",
       "      <td>0</td>\n",
       "    </tr>\n",
       "    <tr>\n",
       "      <th>979</th>\n",
       "      <td>ASUS ExpertBook P2 Core i5 10th Gen - (8 GB/1 TB HDD/DOS/2 GB Graphics) ExpertBook P2 P2451FB Thin and...</td>\n",
       "      <td>1 TB HDD</td>\n",
       "      <td>NO</td>\n",
       "      <td>0</td>\n",
       "    </tr>\n",
       "    <tr>\n",
       "      <th>980</th>\n",
       "      <td>Lenovo Ideapad 520 Core i5 8th Gen - (8 GB/2 TB HDD/Windows 10 Home/4 GB Graphics) 520-15IKB Laptop</td>\n",
       "      <td>2 TB HDD</td>\n",
       "      <td>NO</td>\n",
       "      <td>0</td>\n",
       "    </tr>\n",
       "    <tr>\n",
       "      <th>982</th>\n",
       "      <td>HP Pavilion Core i5 7th Gen - (4 GB/1 TB HDD/Windows 10 Home/4 GB Graphics) 15-AU624TX Laptop</td>\n",
       "      <td>NVIDIA GeForce 940MX Graphics</td>\n",
       "      <td>NO</td>\n",
       "      <td>0</td>\n",
       "    </tr>\n",
       "  </tbody>\n",
       "</table>\n",
       "</div>"
      ],
      "text/plain": [
       "                                                                                                         Title  \\\n",
       "48   ASUS Chromebook Flip Touch Celeron Dual Core - (4 GB/32 GB EMMC Storage/Chrome OS) C214MA-BU0704 Chrom...   \n",
       "156  HP Chromebook MediaTek Kompanio 500 - (4 GB/64 GB EMMC Storage/Chrome OS) 11a-na0006MU Chromebook           \n",
       "157  ASUS EeeBook 12 Celeron Dual Core - (4 GB/64 GB EMMC Storage/Windows 11 Home) E210MA-GJ012W Thin and L...   \n",
       "238  ASUS Chromebook Celeron Dual Core - (4 GB/64 GB EMMC Storage/Chrome OS) C523NA-BR0300| C523NA-BR0476 C...   \n",
       "415  DELL Vostro Core i3 10th Gen - (8 GB/1 TB HDD/Windows 10 Home) Vostro 3401 Thin and Light Laptop            \n",
       "542  ASUS Chromebook Celeron Dual Core - (4 GB/64 GB EMMC Storage/Chrome OS) C423NA-EC0521 Chromebook            \n",
       "582  Lenovo Ryzen 3 Dual Core 3250U - (4 GB/1 TB HDD/Windows 10 Home) V15 -ADA Laptop                            \n",
       "606  Lenovo Intel Celeron Dual Core - (4 GB/64 GB EMMC Storage/Chrome OS) 14IGL05 Thin and Light Laptop          \n",
       "634  Lenovo IdeaPad 3 Chromebook Intel Celeron Dual Core - (4 GB/64 GB EMMC Storage/Chrome OS) ideapad 3 cb...   \n",
       "653  Primebook 4G Android Based MediaTek MT8788 - (4 GB/64 GB EMMC Storage/Prime OS) 4G Thin and Light Lapt...   \n",
       "686  Lenovo Ideapad 330s Core i5 8th Gen - (4 GB/1 TB HDD/Windows 10 Home/4 GB Graphics) 330S-15IKB Thin an...   \n",
       "695  MSI GF63 Thin Core i5 10th Gen - (8 GB/1 TB HDD/Windows 10 Home/4 GB Graphics/NVIDIA GeForce GTX 1650 ...   \n",
       "698  ASUS Chromebook Flip Touch Celeron Dual Core - (4 GB/64 GB EMMC Storage/Chrome OS) C523NA-A20303 Chrom...   \n",
       "745  DELL Inspiron Core i3 11th Gen - (8 GB/1 TB HDD/Windows 10) INSPIRON 3501 Thin and Light Laptop             \n",
       "772  HP Core i3 10th Gen - (4 GB/1 TB HDD/Windows 10 Home) 1S5E9PA#ACJ Business Laptop                           \n",
       "774  ASUS Pentium Quad Core - (4 GB/1 TB HDD/Windows 10 Home) X543MA-DM101T Laptop                               \n",
       "791  Lenovo Intel Celeron Dual Core - (4 GB/64 GB EMMC Storage/Chrome OS) 14IGL05 Thin and Light Laptop          \n",
       "825  HP 15s Core i3 10th Gen - (8 GB/1 TB HDD/Windows 10 Home) 15s-DU1066TU Thin and Light Laptop                \n",
       "849  Primebook 4G Android Based MediaTek MT8788 - (4 GB/64 GB EMMC Storage/Prime OS) 4G Thin and Light Lapt...   \n",
       "856  ASUS ExpertBook P1 Core i5 10th Gen - (8 GB/1 TB HDD/Windows 10 Pro) ExpertBook P1 P1440FA Thin and Li...   \n",
       "858  HP Chromebook MediaTek Kompanio 500 - (4 GB/64 GB EMMC Storage/Chrome OS) 11a-na0004MU Chromebook           \n",
       "864  Primebook 4G Android Based MediaTek MT8788 - (4 GB/64 GB EMMC Storage/Prime OS) 4G Thin and Light Lapt...   \n",
       "894  Lenovo Ideapad 330s Core i5 8th Gen - (4 GB/1 TB HDD/Windows 10 Home/4 GB Graphics) 330S-15IKB Thin an...   \n",
       "904  MSI GF63 Thin Core i5 10th Gen - (8 GB/1 TB HDD/Windows 10 Home/4 GB Graphics/NVIDIA GeForce GTX 1650 ...   \n",
       "905  acer Aspire 5 Core i5 8th Gen - (8 GB/1 TB HDD/Windows 10 Home/2 GB Graphics) A515-52G Thin and Light ...   \n",
       "909  acer Nitro 5 Spin Core i5 8th Gen - (8 GB/1 TB HDD/Windows 10 Home/4 GB Graphics) NP515-51 Laptop           \n",
       "912  DELL Vostro 3000 Core i5 7th Gen - (8 GB/1 TB HDD/Ubuntu/2 GB Graphics) 3568 Laptop                         \n",
       "919  acer Aspire 5 Core i5 8th Gen - (8 GB + 16 GB Optane/1 TB HDD/Windows 10 Home/2 GB Graphics) A515-52G-...   \n",
       "920  MSI GL Core i7 7th Gen - (8 GB/1 TB HDD/DOS/2 GB Graphics/NVIDIA GeForce GTX 1050) GL62M 7RDX-1878XIN ...   \n",
       "934  DELL Inspiron Core i3 10th Gen - (8 GB/1 TB HDD/Windows 10 Home) Inspiron 3501 Laptop                       \n",
       "944  DELL Inspiron Core i3 10th Gen - (8 GB/1 TB HDD/Windows 10 Home) Inspiron 3501 Laptop                       \n",
       "955  ASUS ExpertBook P2 Core i5 10th Gen - (8 GB/1 TB HDD/Windows 10 Pro/2 GB Graphics) ExpertBook P2 P2451...   \n",
       "973  Lenovo B50-70 Notebook (4th Gen Ci5/ 8GB/ 1TB/ Win8/ 2GB Graph) (59-427747)                                 \n",
       "976  MSI GF63 Thin Core i5 9th Gen - (8 GB/1 TB HDD/Windows 10 Home/4 GB Graphics/NVIDIA GeForce GTX 1650 T...   \n",
       "979  ASUS ExpertBook P2 Core i5 10th Gen - (8 GB/1 TB HDD/DOS/2 GB Graphics) ExpertBook P2 P2451FB Thin and...   \n",
       "980  Lenovo Ideapad 520 Core i5 8th Gen - (8 GB/2 TB HDD/Windows 10 Home/4 GB Graphics) 520-15IKB Laptop         \n",
       "982  HP Pavilion Core i5 7th Gen - (4 GB/1 TB HDD/Windows 10 Home/4 GB Graphics) 15-AU624TX Laptop               \n",
       "\n",
       "                                                  Storage Capacity  \\\n",
       "48   29.46 cm (11.6 inch) Touchscreen Display                        \n",
       "156  29.46 cm (11.6 inch) Touchscreen Display                        \n",
       "157  29.46 cm (11.6 Inch) Display                                    \n",
       "238  39.62 cm (15.6 inch) Display                                    \n",
       "415  1 TB HDD                                                        \n",
       "542  35.56 cm (14 inch) Touchscreen Display                          \n",
       "582  1 TB HDD                                                        \n",
       "606  35.56 cm (14 inch) Touchscreen Display                          \n",
       "634  29.46 cm (11.6 Inch) Display                                    \n",
       "653  29.46 cm (11.6 Inch) Display                                    \n",
       "686  1 TB HDD                                                        \n",
       "695  1 TB HDD                                                        \n",
       "698  39.62 cm (15.6 inch) Touchscreen Display                        \n",
       "745  1 TB HDD                                                        \n",
       "772  1 TB HDD                                                        \n",
       "774  1 TB HDD                                                        \n",
       "791  35.56 cm (14 inch) Touchscreen Display                          \n",
       "825  1 TB HDD                                                        \n",
       "849  29.46 cm (11.6 Inch) Display                                    \n",
       "856  1 TB HDD                                                        \n",
       "858  29.46 cm (11.6 inch) Touchscreen Display                        \n",
       "864  29.46 cm (11.6 Inch) Display                                    \n",
       "894  1 TB HDD                                                        \n",
       "904  1 TB HDD                                                        \n",
       "905  1 TB HDD                                                        \n",
       "909  Dolby Plus Acer TrueHarmony Technology Offers Immersive Sound   \n",
       "912  1 TB HDD                                                        \n",
       "919  1 TB HDD                                                        \n",
       "920  8 GB DDR4 RAM                                                   \n",
       "934  1 TB HDD                                                        \n",
       "944  1 TB HDD                                                        \n",
       "955  1 TB HDD                                                        \n",
       "973  1 TB HDD                                                        \n",
       "976  64 bit Windows 10 Operating System                              \n",
       "979  1 TB HDD                                                        \n",
       "980  2 TB HDD                                                        \n",
       "982  NVIDIA GeForce 940MX Graphics                                   \n",
       "\n",
       "    SSD_Availability  SSD_Capacity  \n",
       "48   NO               0             \n",
       "156  NO               0             \n",
       "157  NO               0             \n",
       "238  NO               0             \n",
       "415  NO               0             \n",
       "542  NO               0             \n",
       "582  NO               0             \n",
       "606  NO               0             \n",
       "634  NO               0             \n",
       "653  NO               0             \n",
       "686  NO               0             \n",
       "695  NO               0             \n",
       "698  NO               0             \n",
       "745  NO               0             \n",
       "772  NO               0             \n",
       "774  NO               0             \n",
       "791  NO               0             \n",
       "825  NO               0             \n",
       "849  NO               0             \n",
       "856  NO               0             \n",
       "858  NO               0             \n",
       "864  NO               0             \n",
       "894  NO               0             \n",
       "904  NO               0             \n",
       "905  NO               0             \n",
       "909  NO               0             \n",
       "912  NO               0             \n",
       "919  NO               0             \n",
       "920  NO               0             \n",
       "934  NO               0             \n",
       "944  NO               0             \n",
       "955  NO               0             \n",
       "973  NO               0             \n",
       "976  NO               0             \n",
       "979  NO               0             \n",
       "980  NO               0             \n",
       "982  NO               0             "
      ]
     },
     "execution_count": 63,
     "metadata": {},
     "output_type": "execute_result"
    }
   ],
   "source": [
    "df[['Title','Storage Capacity','SSD_Availability','SSD_Capacity']][df['SSD_Availability']=='NO']"
   ]
  },
  {
   "cell_type": "code",
   "execution_count": 65,
   "id": "4ff12b1d",
   "metadata": {},
   "outputs": [],
   "source": [
    "df['Price']=df['Price'].astype('str').str.extractall('(\\d+)').unstack().fillna('').sum(axis=1).astype(int)"
   ]
  },
  {
   "cell_type": "code",
   "execution_count": 67,
   "id": "c949882c",
   "metadata": {},
   "outputs": [
    {
     "data": {
      "text/plain": [
       "Title               object \n",
       "Rating              float64\n",
       "Price               int32  \n",
       "Processor           object \n",
       "RAM                 object \n",
       "Display Size        object \n",
       "Storage Capacity    object \n",
       "Brand               object \n",
       "SSD_Availability    object \n",
       "SSD_Capacity        int64  \n",
       "dtype: object"
      ]
     },
     "execution_count": 67,
     "metadata": {},
     "output_type": "execute_result"
    }
   ],
   "source": [
    "df.dtypes"
   ]
  },
  {
   "cell_type": "code",
   "execution_count": 68,
   "id": "cf637c0b",
   "metadata": {},
   "outputs": [],
   "source": [
    "df.to_csv('file1.csv')"
   ]
  },
  {
   "cell_type": "code",
   "execution_count": null,
   "id": "caeecb52",
   "metadata": {},
   "outputs": [],
   "source": []
  }
 ],
 "metadata": {
  "kernelspec": {
   "display_name": "Python 3 (ipykernel)",
   "language": "python",
   "name": "python3"
  },
  "language_info": {
   "codemirror_mode": {
    "name": "ipython",
    "version": 3
   },
   "file_extension": ".py",
   "mimetype": "text/x-python",
   "name": "python",
   "nbconvert_exporter": "python",
   "pygments_lexer": "ipython3",
   "version": "3.9.13"
  }
 },
 "nbformat": 4,
 "nbformat_minor": 5
}
